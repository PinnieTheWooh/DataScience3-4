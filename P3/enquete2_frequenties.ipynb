{
 "cells": [
  {
   "cell_type": "code",
   "execution_count": null,
   "metadata": {
    "collapsed": true
   },
   "outputs": [],
   "source": [
    "import pandas as pd\n",
    "import math\n",
    "import statistics as stat\n",
    "import matplotlib.pyplot as plt"
   ]
  },
  {
   "cell_type": "code",
   "execution_count": null,
   "outputs": [],
   "source": [
    "# bestand inlezen en opkuisen\n",
    "enquete = pd.read_csv('Enquête Data Science 2023.csv')\n",
    "columnNames=['gapminder', 'schrijfhand', 'schoenmaat', 'lengte', 'bloedgroep', 'resus', 'siblings', 'beweringen', 'rijbewijzen', 'domicilie', 'afstudeerrichting', 'vrijetijd', 'uren_wiskunde', 'informatica_belangrijk', 'uur_schoolwerk_per_week', 'afstand', 'vervoermiddel', 'opwarming', 'zakgeld_per_maand', 'stukken_fruit', 'besturingsysteem', 'app', 'welzijn', 'gelijke_middelen', 'loyaliteit', 'respect', 'geloof', 'vrijheid', 'zwaarste_vak', 'boeiendste_vak', 'studiepunt', 'toestemming']\n",
    "enquete = enquete.set_axis(columnNames, axis=1)\n",
    "regels = (enquete.toestemming=='Ja')\n",
    "enquete = enquete[regels]\n",
    "enquete.drop(columns='toestemming', inplace=True)\n",
    "gapminder = enquete.gapminder.str.split('/').tolist()\n",
    "for i in range(len(gapminder)):\n",
    "    gapminder[i] = int(gapminder[i][0]) / int(gapminder[i][1]) * 100.0\n",
    "enquete.gapminder = gapminder\n",
    "enquete.schrijfhand = pd.Categorical(enquete.schrijfhand)\n",
    "enquete.bloedgroep = pd.Categorical(enquete.bloedgroep, categories=['O', 'A', 'B', 'AB'])\n",
    "enquete.resus = pd.Categorical(enquete.resus, categories=['Negatief', 'Positief'])\n",
    "# beweringen...\n",
    "mogelijkheden = ['Categorie AM: Bromfietsen met een maximumsnelheid tussen 25 en 45 km/u.', 'Categorie A: Motorfietsen.', 'Categorie B: Wagens.', 'Categorie C: Vrachtwagens.', 'Categorie D: Bussen.', 'Categorie G: Landbouwvoertuigen.', 'Geen']\n",
    "rijbewijzen = enquete.rijbewijzen.str.split(';').to_list()\n",
    "rijbewijsAM = []\n",
    "rijbewijsA = []\n",
    "rijbewijsB = []\n",
    "rijbewijsC = []\n",
    "rijbewijsD = []\n",
    "rijbewijsG = []\n",
    "for i in range(len(rijbewijzen)):\n",
    "    rijbewijsAM.append(mogelijkheden[0] in rijbewijzen[i])\n",
    "    rijbewijsA.append(mogelijkheden[1] in rijbewijzen[i])\n",
    "    rijbewijsB.append(mogelijkheden[2] in rijbewijzen[i])\n",
    "    rijbewijsC.append(mogelijkheden[3] in rijbewijzen[i])\n",
    "    rijbewijsD.append(mogelijkheden[4] in rijbewijzen[i])\n",
    "    rijbewijsG.append(mogelijkheden[5] in rijbewijzen[i])\n",
    "enquete.drop(columns=['rijbewijzen'], inplace=True)\n",
    "enquete['rijbewijsAM'] = rijbewijsAM\n",
    "enquete['rijbewijsA'] = rijbewijsA\n",
    "enquete['rijbewijsB'] = rijbewijsB\n",
    "enquete['rijbewijsC'] = rijbewijsC\n",
    "enquete['rijbewijsD'] = rijbewijsD\n",
    "enquete['rijbewijsG'] = rijbewijsG\n",
    "domicilie = enquete.domicilie\n",
    "domicilie = pd.Categorical(domicilie)\n",
    "domicilie = domicilie.rename_categories(['buiten de stad', 'in een stad'])\n",
    "enquete.domicilie = domicilie\n",
    "enquete.afstudeerrichting = pd.Categorical(enquete.afstudeerrichting)\n",
    "enquete.vrijetijd = pd.Categorical(enquete.vrijetijd)\n",
    "juiste_volgorde = ['Niet', 'Weinig', 'Matig', 'Groot', 'Zeer Groot', 'Extreem']\n",
    "enquete.informatica_belangrijk = pd.Categorical(enquete.informatica_belangrijk, categories=juiste_volgorde, ordered=True)\n",
    "uurMinuut = enquete.uur_schoolwerk_per_week\n",
    "uurMinuut = uurMinuut.str.split(':').to_list()\n",
    "minuten = []\n",
    "for i in range(len(uurMinuut)):\n",
    "    minuten.append(int(uurMinuut[i][0]) * 60 + int(uurMinuut[i][1]))\n",
    "enquete.drop(columns=['uur_schoolwerk_per_week'], inplace=True)\n",
    "enquete['schoolwerk_per_week'] = minuten\n",
    "vervoermiddel = enquete.vervoermiddel\n",
    "mogelijkheden = ['Te voet', 'Met de fiets', 'Met de tram', 'Met de auto', 'Met de trein', 'Met de bus']\n",
    "vervoer = vervoermiddel.str.split(';').to_list()\n",
    "vervoer_te_voet = []\n",
    "vervoer_fiets = []\n",
    "vervoer_tram = []\n",
    "vervoer_auto = []\n",
    "vervoer_trein = []\n",
    "vervoer_bus = []\n",
    "for i in range(len(vervoer)):\n",
    "    vervoer_te_voet.append(mogelijkheden[0] in vervoer[i])\n",
    "    vervoer_fiets.append(mogelijkheden[1] in vervoer[i])\n",
    "    vervoer_tram.append(mogelijkheden[2] in vervoer[i])\n",
    "    vervoer_auto.append(mogelijkheden[3] in vervoer[i])\n",
    "    vervoer_trein.append(mogelijkheden[4] in vervoer[i])\n",
    "    vervoer_bus.append(mogelijkheden[5] in vervoer[i])\n",
    "enquete.drop(columns=['vervoermiddel'], inplace=True)\n",
    "enquete['vervoer_te_voet'] = vervoer_te_voet\n",
    "enquete['vervoer_fiets'] = vervoer_fiets\n",
    "enquete['vervoer_tram'] = vervoer_tram\n",
    "enquete['vervoer_auto'] = vervoer_auto\n",
    "enquete['vervoer_trein'] = vervoer_trein\n",
    "enquete['vervoer_bus'] = vervoer_bus\n",
    "opwarming = enquete.opwarming\n",
    "opwarming = opwarming.str.split('-').to_list()\n",
    "for i in range(len(opwarming)):\n",
    "    opwarming[i] = int(opwarming[i][0])\n",
    "enquete.opwarming = opwarming\n",
    "enquete.besturingsysteem = pd.Categorical(enquete.besturingsysteem)\n",
    "enquete.app = pd.Categorical(enquete.app)\n",
    "enquete.zwaarste_vak = pd.Categorical(enquete.zwaarste_vak)\n",
    "enquete.boeiendste_vak = pd.Categorical(enquete.boeiendste_vak)"
   ],
   "metadata": {
    "collapsed": false
   }
  },
  {
   "cell_type": "code",
   "execution_count": null,
   "outputs": [],
   "source": [],
   "metadata": {
    "collapsed": false
   }
  }
 ],
 "metadata": {
  "kernelspec": {
   "display_name": "Python 3",
   "language": "python",
   "name": "python3"
  },
  "language_info": {
   "codemirror_mode": {
    "name": "ipython",
    "version": 2
   },
   "file_extension": ".py",
   "mimetype": "text/x-python",
   "name": "python",
   "nbconvert_exporter": "python",
   "pygments_lexer": "ipython2",
   "version": "2.7.6"
  }
 },
 "nbformat": 4,
 "nbformat_minor": 0
}
