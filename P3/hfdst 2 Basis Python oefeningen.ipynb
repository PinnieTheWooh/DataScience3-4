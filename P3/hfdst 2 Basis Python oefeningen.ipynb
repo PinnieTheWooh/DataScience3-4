{
 "cells": [
  {
   "cell_type": "markdown",
   "source": [
    "# Oefeningen basis Python"
   ],
   "metadata": {
    "collapsed": false
   }
  },
  {
   "cell_type": "markdown",
   "source": [
    "Importeer de volgende bibliotheken: math, numpy en pandas"
   ],
   "metadata": {
    "collapsed": false
   }
  },
  {
   "cell_type": "code",
   "execution_count": 1,
   "outputs": [],
   "source": [
    "import pandas as pd\n",
    "import math as math\n",
    "import numpy as np"
   ],
   "metadata": {
    "collapsed": false
   }
  },
  {
   "cell_type": "markdown",
   "source": [
    "## Lijsten en tabellen"
   ],
   "metadata": {
    "collapsed": false
   }
  },
  {
   "cell_type": "markdown",
   "source": [
    "Maak een list met volgende waarden: 1, 2, 3, 4, 5 en stop deze in de variabele \"id\""
   ],
   "metadata": {
    "collapsed": false
   }
  },
  {
   "cell_type": "code",
   "execution_count": 2,
   "metadata": {
    "collapsed": true
   },
   "outputs": [
    {
     "name": "stdout",
     "output_type": "stream",
     "text": [
      "0    1\n",
      "1    2\n",
      "2    3\n",
      "3    4\n",
      "4    5\n",
      "dtype: int64\n"
     ]
    }
   ],
   "source": [
    "lijst = [1,2,3,4,5]\n",
    "id = pd.Series(lijst)\n",
    "print(id)"
   ]
  },
  {
   "cell_type": "markdown",
   "source": [
    "Maak een numpy array met volgende waarden: 15, 18, 11, 17, 20 en stop deze in de variabele \"leeftijd\""
   ],
   "metadata": {
    "collapsed": false
   }
  },
  {
   "cell_type": "code",
   "execution_count": 3,
   "outputs": [
    {
     "name": "stdout",
     "output_type": "stream",
     "text": [
      "[15 18 11 17 20]\n"
     ]
    }
   ],
   "source": [
    "lijst = [15,18,11,17,20]\n",
    "leeftijd = np.array(lijst)\n",
    "print(leeftijd)"
   ],
   "metadata": {
    "collapsed": false
   }
  },
  {
   "cell_type": "markdown",
   "source": [
    "Zet de waarden van \"leeftijd\" om naar een pandas Series en zet het resultaat terug in de variabele \"leeftijd\".  Verifieer dat het type klopt."
   ],
   "metadata": {
    "collapsed": false
   }
  },
  {
   "cell_type": "code",
   "execution_count": 4,
   "outputs": [
    {
     "name": "stdout",
     "output_type": "stream",
     "text": [
      "0    15\n",
      "1    18\n",
      "2    11\n",
      "3    17\n",
      "4    20\n",
      "dtype: int32\n"
     ]
    }
   ],
   "source": [
    "leeftijd = pd.Series(leeftijd)\n",
    "print(leeftijd)"
   ],
   "metadata": {
    "collapsed": false
   }
  },
  {
   "cell_type": "markdown",
   "source": [
    "Maak een list met volgende waarden: 54.2, 68.1, 41.7, 59.5, 65.4 en stop deze in de variabele \"gewicht\""
   ],
   "metadata": {
    "collapsed": false
   }
  },
  {
   "cell_type": "code",
   "execution_count": 5,
   "outputs": [],
   "source": [
    "gewicht = [54.2,68.1,41.7,59.5,65.4]"
   ],
   "metadata": {
    "collapsed": false
   }
  },
  {
   "cell_type": "markdown",
   "source": [
    "Maak een numpy array met volgende waarden: 36.5, 37.1, 36.4, 37.2, 36.9 en stop deze in de variabele \"temp\""
   ],
   "metadata": {
    "collapsed": false
   }
  },
  {
   "cell_type": "code",
   "execution_count": 6,
   "outputs": [
    {
     "name": "stdout",
     "output_type": "stream",
     "text": [
      "[36.5, 37.1, 36.4, 37.2, 36.9]\n"
     ]
    }
   ],
   "source": [
    "lijst = [36.5,37.1,36.4,37.2,36.9]\n",
    "temp = np.array(lijst)\n",
    "print(lijst)"
   ],
   "metadata": {
    "collapsed": false
   }
  },
  {
   "cell_type": "markdown",
   "source": [
    "Zet de array \"temp\" om naar een list en bewaar het resultaat terug in \"temp\".  Verfifieer dat het type nu wel degelijk een list is."
   ],
   "metadata": {
    "collapsed": false
   }
  },
  {
   "cell_type": "code",
   "execution_count": 7,
   "outputs": [
    {
     "name": "stdout",
     "output_type": "stream",
     "text": [
      "[36.5 37.1 36.4 37.2 36.9]\n"
     ]
    }
   ],
   "source": [
    "lijst = list(temp)\n",
    "print(temp)"
   ],
   "metadata": {
    "collapsed": false
   }
  },
  {
   "cell_type": "markdown",
   "source": [
    "Maak een tabel (data frame) waarin de vorige lijsten de kolommen vormen en stop deze in de variabele \"gegevens\".  Gebruik voor de namen van de kolommen de namen van de variabelen (\"id\", \"leeftijd\", \"gewicht\" en \"temp\")."
   ],
   "metadata": {
    "collapsed": false
   }
  },
  {
   "cell_type": "code",
   "execution_count": 8,
   "outputs": [
    {
     "name": "stdout",
     "output_type": "stream",
     "text": [
      "   id  leeftijd  gewicht  temp\n",
      "0   1        15     54.2  36.5\n",
      "1   2        18     68.1  37.1\n",
      "2   3        11     41.7  36.4\n",
      "3   4        17     59.5  37.2\n",
      "4   5        20     65.4  36.9\n"
     ]
    }
   ],
   "source": [
    "frame = pd.DataFrame({\"id\":id,\"leeftijd\":leeftijd,\"gewicht\":gewicht,\"temp\":temp})\n",
    "print(frame)"
   ],
   "metadata": {
    "collapsed": false
   }
  },
  {
   "cell_type": "markdown",
   "source": [
    "Toon de kolomnamen van de tabel"
   ],
   "metadata": {
    "collapsed": false
   }
  },
  {
   "cell_type": "code",
   "execution_count": 9,
   "outputs": [
    {
     "name": "stdout",
     "output_type": "stream",
     "text": [
      "kolomnamen:  ['id', 'leeftijd', 'gewicht', 'temp']\n"
     ]
    }
   ],
   "source": [
    "print(\"kolomnamen: \", frame.columns.to_list())"
   ],
   "metadata": {
    "collapsed": false
   }
  },
  {
   "cell_type": "markdown",
   "source": [
    "Toon het aantal kolommen"
   ],
   "metadata": {
    "collapsed": false
   }
  },
  {
   "cell_type": "code",
   "execution_count": 10,
   "outputs": [
    {
     "name": "stdout",
     "output_type": "stream",
     "text": [
      "aantal kollomen:  4\n"
     ]
    }
   ],
   "source": [
    "print(\"aantal kollomen: \", frame.columns.size)"
   ],
   "metadata": {
    "collapsed": false
   }
  },
  {
   "cell_type": "markdown",
   "source": [
    "Toon de kolom met naam 'temp'"
   ],
   "metadata": {
    "collapsed": false
   }
  },
  {
   "cell_type": "code",
   "execution_count": 11,
   "outputs": [
    {
     "name": "stdout",
     "output_type": "stream",
     "text": [
      "0    36.5\n",
      "1    37.1\n",
      "2    36.4\n",
      "3    37.2\n",
      "4    36.9\n",
      "Name: temp, dtype: float64\n"
     ]
    }
   ],
   "source": [
    "print(frame.temp)"
   ],
   "metadata": {
    "collapsed": false
   }
  },
  {
   "cell_type": "markdown",
   "source": [
    "Toon de 2e kolom uit de tabel zonder de naam te gebruiken"
   ],
   "metadata": {
    "collapsed": false
   }
  },
  {
   "cell_type": "code",
   "execution_count": 12,
   "outputs": [
    {
     "name": "stdout",
     "output_type": "stream",
     "text": [
      "0    15\n",
      "1    18\n",
      "2    11\n",
      "3    17\n",
      "4    20\n",
      "Name: leeftijd, dtype: int32\n"
     ]
    }
   ],
   "source": [
    "print(frame.iloc[:,1])"
   ],
   "metadata": {
    "collapsed": false
   }
  },
  {
   "cell_type": "markdown",
   "source": [
    "Verwijder de derde rij uit de tabel"
   ],
   "metadata": {
    "collapsed": false
   }
  },
  {
   "cell_type": "code",
   "execution_count": 13,
   "outputs": [
    {
     "name": "stdout",
     "output_type": "stream",
     "text": [
      "   id  leeftijd  gewicht  temp\n",
      "0   1        15     54.2  36.5\n",
      "1   2        18     68.1  37.1\n",
      "2   3        11     41.7  36.4\n",
      "4   5        20     65.4  36.9\n"
     ]
    }
   ],
   "source": [
    "frame = frame.drop(3)\n",
    "print(frame)"
   ],
   "metadata": {
    "collapsed": false
   }
  },
  {
   "cell_type": "markdown",
   "source": [
    "Toon de 3e rij uit de tabel"
   ],
   "metadata": {
    "collapsed": false
   }
  },
  {
   "cell_type": "code",
   "execution_count": 14,
   "outputs": [
    {
     "name": "stdout",
     "output_type": "stream",
     "text": [
      "id           5.0\n",
      "leeftijd    20.0\n",
      "gewicht     65.4\n",
      "temp        36.9\n",
      "Name: 4, dtype: float64\n"
     ]
    }
   ],
   "source": [
    "print(frame.iloc[3])"
   ],
   "metadata": {
    "collapsed": false
   }
  },
  {
   "cell_type": "markdown",
   "source": [
    "Toon de 2e en de 4e rij uit de tabel"
   ],
   "metadata": {
    "collapsed": false
   }
  },
  {
   "cell_type": "code",
   "execution_count": 15,
   "outputs": [
    {
     "name": "stdout",
     "output_type": "stream",
     "text": [
      "id           2.0\n",
      "leeftijd    18.0\n",
      "gewicht     68.1\n",
      "temp        37.1\n",
      "Name: 1, dtype: float64\n",
      "id           5.0\n",
      "leeftijd    20.0\n",
      "gewicht     65.4\n",
      "temp        36.9\n",
      "Name: 4, dtype: float64\n"
     ]
    }
   ],
   "source": [
    "print(frame.iloc[1])\n",
    "print(frame.iloc[3])"
   ],
   "metadata": {
    "collapsed": false
   }
  },
  {
   "cell_type": "markdown",
   "source": [
    "Toon de 2e tot en met 4e rij uit de tabel"
   ],
   "metadata": {
    "collapsed": false
   }
  },
  {
   "cell_type": "code",
   "execution_count": 16,
   "outputs": [
    {
     "name": "stdout",
     "output_type": "stream",
     "text": [
      "   id  leeftijd  gewicht  temp\n",
      "1   2        18     68.1  37.1\n",
      "2   3        11     41.7  36.4\n",
      "4   5        20     65.4  36.9\n"
     ]
    }
   ],
   "source": [
    "print(frame.iloc[1:4])"
   ],
   "metadata": {
    "collapsed": false
   }
  },
  {
   "cell_type": "markdown",
   "source": [
    "Bereken de minimum en maximum leeftijd.  Je kan dit doen door de methoden \"min()\" en \"max()\" op te roepen op de kolom."
   ],
   "metadata": {
    "collapsed": false
   }
  },
  {
   "cell_type": "code",
   "execution_count": 17,
   "outputs": [
    {
     "name": "stdout",
     "output_type": "stream",
     "text": [
      "minimum leeftijd:  11\n",
      "maximum leeftijd:  20\n"
     ]
    }
   ],
   "source": [
    "print(\"minimum leeftijd: \",frame.leeftijd.min())\n",
    "print(\"maximum leeftijd: \",frame.leeftijd.max())"
   ],
   "metadata": {
    "collapsed": false
   }
  },
  {
   "cell_type": "markdown",
   "source": [
    "Bereken de som van alle gewichten en deel die door het aantal gewichten (bereken dus het gemiddelde gewicht).  Je kan hiervoor de methode \"sum()\" oproepen op de kolom.  De lengte van de kolom vind je met de functie \"len()\".\n",
    "Bemerk dat sum() een methode is die je op een object oproept (de kolom) en len() een functie is die niet aan een object gekoppeld is (vergelijkbaar met een static method in java).  Dit laat zien dat Python een hybride taal is waarin je tegelijk OO en procedureel kan programmeren.\n",
    "Toon het resultaat met 3 cijfers na de komma.  Hier zie je een hint hoe je dat kan doen:\n",
    "```python\n",
    "print(\"pi is{:10.2f}\".format(math.pi))\n",
    "```"
   ],
   "metadata": {
    "collapsed": false
   }
  },
  {
   "cell_type": "code",
   "execution_count": 18,
   "outputs": [
    {
     "name": "stdout",
     "output_type": "stream",
     "text": [
      "gemiddelde gewicht:  57.35\n"
     ]
    }
   ],
   "source": [
    "print(\"gemiddelde gewicht: \",(frame.gewicht.sum()/ len(frame)))"
   ],
   "metadata": {
    "collapsed": false
   }
  },
  {
   "cell_type": "markdown",
   "source": [
    "Bereken alle gewichten in gram (vermenigvuldig ze dus met 1000) maar verander de tabel niet.  Geef het resultaat weer als een Python list.\n",
    "Zie je wat er met de laatste waarde gebeurt?  Hoe komt dit?"
   ],
   "metadata": {
    "collapsed": false
   }
  },
  {
   "cell_type": "code",
   "execution_count": 19,
   "outputs": [
    {
     "name": "stdout",
     "output_type": "stream",
     "text": [
      "[54200.0, 68100.0, 41700.0, 65400.00000000001]\n"
     ]
    }
   ],
   "source": [
    "gewichtLijst = list()\n",
    "for i in frame.gewicht:\n",
    "    gewichtLijst.append(i*1000)\n",
    "print(gewichtLijst)"
   ],
   "metadata": {
    "collapsed": false
   }
  },
  {
   "cell_type": "markdown",
   "source": [
    "Zet alle temperaturen om naar Fahrenheit, rondt deze af op 1 cijfer na de komma en zet deze waarden in de tabel in een nieuwe kolom met de naam \"temp_far\".\n",
    "Hint: een kolom uit een data frame is een Series en heeft een methode \"round()\""
   ],
   "metadata": {
    "collapsed": false
   }
  },
  {
   "cell_type": "code",
   "execution_count": 20,
   "outputs": [
    {
     "name": "stdout",
     "output_type": "stream",
     "text": [
      "   id  leeftijd  gewicht  temp  temp_far\n",
      "0   1        15     54.2  36.5     97.70\n",
      "1   2        18     68.1  37.1     98.78\n",
      "2   3        11     41.7  36.4     97.52\n",
      "4   5        20     65.4  36.9     98.42\n"
     ]
    }
   ],
   "source": [
    "farList = list()\n",
    "for i in frame.temp:\n",
    "    far=i *(9/5)+32\n",
    "    farList.append(far)\n",
    "frame[\"temp_far\"]=farList\n",
    "print(frame)"
   ],
   "metadata": {
    "collapsed": false
   }
  },
  {
   "cell_type": "markdown",
   "source": [
    "Volgende code bewaart de tabel in een bestand \"gegevens.csv\".  Voer deze gewoon uit en kijk waar het bestand bewaard werd:"
   ],
   "metadata": {
    "collapsed": false
   }
  },
  {
   "cell_type": "code",
   "execution_count": 21,
   "outputs": [],
   "source": [
    "frame.to_csv(\"gegevens.csv\", sep=\";\", decimal=\",\", index=False)\n",
    "# hijd zet dit in de durectory van het project"
   ],
   "metadata": {
    "collapsed": false
   }
  },
  {
   "cell_type": "markdown",
   "source": [
    "Open de tabel in excel of open office. Als je het bestand juist bewaard hebt, zou dit moeten lukken.  Je kan het bestand eventueel ook uploaden naar google drive en openen met google spreadheets.\n",
    "Voeg er een kolom aan toe met de naam \"extra\".  Zet volgende gegevens in de kolom: \"hallo\", \"dit\", \"is\", \"een\", \"testje\"\n",
    "Bewaar het bestand als csv."
   ],
   "metadata": {
    "collapsed": false
   }
  },
  {
   "cell_type": "markdown",
   "source": [
    "Lees de aangepaste tabel nu terug in met volgende code en kijk na of de nieuwe kolom goed werd ingelezen:"
   ],
   "metadata": {
    "collapsed": false
   }
  },
  {
   "cell_type": "code",
   "execution_count": 22,
   "outputs": [
    {
     "name": "stdout",
     "output_type": "stream",
     "text": [
      "   id  leeftijd  gewicht  temp  temp_far\n",
      "0   1        15     54.2  36.5     97.70\n",
      "1   2        18     68.1  37.1     98.78\n",
      "2   3        11     41.7  36.4     97.52\n",
      "3   5        20     65.4  36.9     98.42\n"
     ]
    }
   ],
   "source": [
    "gegevens = pd.read_csv(\"gegevens.csv\", sep=\";\", decimal=\",\", header=0)\n",
    "\n",
    "print(gegevens)"
   ],
   "metadata": {
    "collapsed": false
   }
  },
  {
   "cell_type": "markdown",
   "source": [
    "Verwijder de kolom “id”."
   ],
   "metadata": {
    "collapsed": false
   }
  },
  {
   "cell_type": "code",
   "execution_count": 23,
   "outputs": [
    {
     "name": "stdout",
     "output_type": "stream",
     "text": [
      "   leeftijd  gewicht  temp  temp_far\n",
      "0        15     54.2  36.5     97.70\n",
      "1        18     68.1  37.1     98.78\n",
      "2        11     41.7  36.4     97.52\n",
      "3        20     65.4  36.9     98.42\n"
     ]
    }
   ],
   "source": [
    "gegevens=gegevens.drop(columns='id')\n",
    "print(gegevens)"
   ],
   "metadata": {
    "collapsed": false
   }
  },
  {
   "cell_type": "markdown",
   "source": [
    "Voeg een rij toe met [ 30, 74.1, 36.5, 97.7 ] als waarden (zoek eens op hoe je dat kan doen)"
   ],
   "metadata": {
    "collapsed": false
   }
  },
  {
   "cell_type": "code",
   "execution_count": 24,
   "outputs": [
    {
     "name": "stdout",
     "output_type": "stream",
     "text": [
      "   leeftijd  gewicht  temp  temp_far\n",
      "0        15     54.2  36.5     97.70\n",
      "1        18     68.1  37.1     98.78\n",
      "2        11     41.7  36.4     97.52\n",
      "3        20     65.4  36.9     98.42\n",
      "4        30     74.1  36.5     97.70\n"
     ]
    },
    {
     "name": "stderr",
     "output_type": "stream",
     "text": [
      "<ipython-input-24-79367d060634>:3: FutureWarning: The frame.append method is deprecated and will be removed from pandas in a future version. Use pandas.concat instead.\n",
      "  gegevens=gegevens.append(pd.DataFrame([tempList], columns=[\"leeftijd\",\"gewicht\",\"temp\",\"temp_far\"]),ignore_index=True)\n"
     ]
    }
   ],
   "source": [
    "# hier komt jouw code\n",
    "tempList = [30,74.1,36.5,97.7]\n",
    "gegevens=gegevens.append(pd.DataFrame([tempList], columns=[\"leeftijd\",\"gewicht\",\"temp\",\"temp_far\"]),ignore_index=True)\n",
    "print(gegevens)"
   ],
   "metadata": {
    "collapsed": false
   }
  },
  {
   "cell_type": "markdown",
   "source": [
    "Voeg een kolom “lengte” toe met gegevens: 160, 175, 162, 169, 179"
   ],
   "metadata": {
    "collapsed": false
   }
  },
  {
   "cell_type": "code",
   "execution_count": 25,
   "outputs": [
    {
     "name": "stdout",
     "output_type": "stream",
     "text": [
      "   leeftijd  gewicht  temp  temp_far  lengte\n",
      "0        15     54.2  36.5     97.70     160\n",
      "1        18     68.1  37.1     98.78     175\n",
      "2        11     41.7  36.4     97.52     162\n",
      "3        20     65.4  36.9     98.42     169\n",
      "4        30     74.1  36.5     97.70     179\n"
     ]
    }
   ],
   "source": [
    "gegevens[\"lengte\"]=[160,175,162,169,179]\n",
    "print(gegevens)"
   ],
   "metadata": {
    "collapsed": false
   }
  },
  {
   "cell_type": "markdown",
   "source": [
    "Bereken de BMI van iedere persoon in de tabel en rond deze af op 1 cijfer na de komma.\n",
    "De BMI is gelijk aan het gewicht gedeeld door de lengte in het kwadraat.  De lengte moet in meter uitgedrukt zijn en het gewicht in kilogram.\n",
    "Het resultaat moet een list zijn."
   ],
   "metadata": {
    "collapsed": false
   }
  },
  {
   "cell_type": "code",
   "execution_count": 26,
   "outputs": [
    {
     "name": "stdout",
     "output_type": "stream",
     "text": [
      "[21.2, 22.2, 15.9, 22.9, 23.1]\n"
     ]
    }
   ],
   "source": [
    "BMIlist = list()\n",
    "counter = 0\n",
    "for i in gegevens.lengte:\n",
    "    lengteM=i/100\n",
    "    BMI = gegevens.gewicht[counter]/(lengteM*lengteM)\n",
    "    counter += 1\n",
    "    BMI = round(BMI,1)\n",
    "    BMIlist.append(BMI)\n",
    "print(BMIlist)"
   ],
   "metadata": {
    "collapsed": false
   }
  },
  {
   "cell_type": "markdown",
   "source": [
    "Voeg deze BMI als kolom toe aan de tabel."
   ],
   "metadata": {
    "collapsed": false
   }
  },
  {
   "cell_type": "code",
   "execution_count": 27,
   "outputs": [
    {
     "name": "stdout",
     "output_type": "stream",
     "text": [
      "   leeftijd  gewicht  temp  temp_far  lengte   BMI\n",
      "0        15     54.2  36.5     97.70     160  21.2\n",
      "1        18     68.1  37.1     98.78     175  22.2\n",
      "2        11     41.7  36.4     97.52     162  15.9\n",
      "3        20     65.4  36.9     98.42     169  22.9\n",
      "4        30     74.1  36.5     97.70     179  23.1\n"
     ]
    }
   ],
   "source": [
    "gegevens[\"BMI\"] = BMIlist\n",
    "print(gegevens)"
   ],
   "metadata": {
    "collapsed": false
   }
  },
  {
   "cell_type": "markdown",
   "source": [
    "Toon alle gewichten die kleiner of gelijk zijn aan 60 uit de kolom gewicht als een list."
   ],
   "metadata": {
    "collapsed": false
   }
  },
  {
   "cell_type": "code",
   "execution_count": 28,
   "outputs": [
    {
     "name": "stdout",
     "output_type": "stream",
     "text": [
      "[54.2, 41.7]\n"
     ]
    }
   ],
   "source": [
    "lengteList = list()\n",
    "for i in gegevens.gewicht:\n",
    "    if i <= 60:\n",
    "        lengteList.append(i)\n",
    "print(lengteList)"
   ],
   "metadata": {
    "collapsed": false
   }
  },
  {
   "cell_type": "markdown",
   "source": [
    "Vervang in de kolom leeftijd alle leeftijden groter of gelijk aan 18 door 19.\n",
    "Krijg je een warning?  Je kan dit oplossen door gegevens.loc[] te gebruiken."
   ],
   "metadata": {
    "collapsed": false
   }
  },
  {
   "cell_type": "code",
   "execution_count": 29,
   "outputs": [
    {
     "name": "stdout",
     "output_type": "stream",
     "text": [
      "   leeftijd  gewicht  temp  temp_far  lengte   BMI\n",
      "0        15     54.2  36.5     97.70     160  21.2\n",
      "1        19     68.1  37.1     98.78     175  22.2\n",
      "2        11     41.7  36.4     97.52     162  15.9\n",
      "3        19     65.4  36.9     98.42     169  22.9\n",
      "4        19     74.1  36.5     97.70     179  23.1\n"
     ]
    }
   ],
   "source": [
    "rijen = gegevens.leeftijd >= 18\n",
    "gegevens.loc[rijen,'leeftijd']=19\n",
    "print(gegevens)"
   ],
   "metadata": {
    "collapsed": false
   }
  },
  {
   "cell_type": "markdown",
   "source": [
    "Vind alle temperaturen van de personen die ouder zijn dan 16 jaar.  Geef het resultaat weer als een numpy array."
   ],
   "metadata": {
    "collapsed": false
   }
  },
  {
   "cell_type": "code",
   "execution_count": 30,
   "outputs": [
    {
     "name": "stdout",
     "output_type": "stream",
     "text": [
      "[37.1 36.9 36.5]\n"
     ]
    }
   ],
   "source": [
    "rijen = gegevens.leeftijd > 16\n",
    "numparr = np.array(gegevens.loc[rijen,'temp'])\n",
    "print(numparr)"
   ],
   "metadata": {
    "collapsed": false
   }
  },
  {
   "cell_type": "markdown",
   "source": [
    "## Sport data"
   ],
   "metadata": {
    "collapsed": false
   }
  },
  {
   "cell_type": "markdown",
   "source": [
    "Lees het bestand \"sportData.csv\" in met volgende code.\n",
    "Toon alle kolommen van de tabel, samen met hun type."
   ],
   "metadata": {
    "collapsed": false
   }
  },
  {
   "cell_type": "code",
   "execution_count": 31,
   "outputs": [
    {
     "name": "stdout",
     "output_type": "stream",
     "text": [
      "    leeftijd geslacht      sport  keer per week  uren per week\n",
      "0         12        m       geen              0            0.0\n",
      "1         12        m  basketbal              1            2.0\n",
      "2         13        m    voetbal              2            4.0\n",
      "3         11        v    voetbal              2            4.0\n",
      "4         13        v       geen              0            0.0\n",
      "..       ...      ...        ...            ...            ...\n",
      "70        12        v     turnen              2            4.0\n",
      "71        11        v       judo              2            4.0\n",
      "72        11        v    voetbal              1            NaN\n",
      "73        12        v       geen              0            0.0\n",
      "74        11        v     anders              1            2.0\n",
      "\n",
      "[75 rows x 5 columns] \n",
      " leeftijd           int64\n",
      "geslacht          object\n",
      "sport             object\n",
      "keer per week      int64\n",
      "uren per week    float64\n",
      "dtype: object\n"
     ]
    }
   ],
   "source": [
    "sport = pd.read_csv(\"sportData.csv\", sep=\";\", decimal=\",\", header=0)\n",
    "print(sport,\"\\n\",sport.dtypes)\n",
    "# sport.info()"
   ],
   "metadata": {
    "collapsed": false
   }
  },
  {
   "cell_type": "markdown",
   "source": [
    "Hoeveel data-rijen zijn er in dit bestand?"
   ],
   "metadata": {
    "collapsed": false
   }
  },
  {
   "cell_type": "code",
   "execution_count": 32,
   "outputs": [
    {
     "name": "stdout",
     "output_type": "stream",
     "text": [
      "aantal rijen:  75\n"
     ]
    }
   ],
   "source": [
    "print(\"aantal rijen: \",len(sport))"
   ],
   "metadata": {
    "collapsed": false
   }
  },
  {
   "cell_type": "markdown",
   "source": [
    "Bepaal alle mogelijke waarden die in de kolom \"sport\" voorkomen."
   ],
   "metadata": {
    "collapsed": false
   }
  },
  {
   "cell_type": "code",
   "execution_count": 33,
   "outputs": [
    {
     "data": {
      "text/plain": "array(['geen', 'basketbal', 'voetbal', 'klimmen', 'turnen', 'anders',\n       'zwemmen', 'judo', 'fitness', nan], dtype=object)"
     },
     "execution_count": 33,
     "metadata": {},
     "output_type": "execute_result"
    }
   ],
   "source": [
    "sport.sport.unique()"
   ],
   "metadata": {
    "collapsed": false
   }
  },
  {
   "cell_type": "markdown",
   "source": [
    "Wat is het maximum van kolom \"leeftijd\"?"
   ],
   "metadata": {
    "collapsed": false
   }
  },
  {
   "cell_type": "code",
   "execution_count": 34,
   "outputs": [
    {
     "name": "stdout",
     "output_type": "stream",
     "text": [
      "de maximum leeftijd is:  14\n"
     ]
    }
   ],
   "source": [
    "print(\"de maximum leeftijd is: \",sport.leeftijd.max())"
   ],
   "metadata": {
    "collapsed": false
   }
  },
  {
   "cell_type": "markdown",
   "source": [
    "Wat is de som van alle waarden van kolom \"keer per week\" die groter zijn dan 1?"
   ],
   "metadata": {
    "collapsed": false
   }
  },
  {
   "cell_type": "code",
   "execution_count": 35,
   "outputs": [
    {
     "name": "stdout",
     "output_type": "stream",
     "text": [
      "de som is:  37\n"
     ]
    }
   ],
   "source": [
    "rijen = sport['keer per week'] > 1\n",
    "print(\"de som is: \",rijen.sum())"
   ],
   "metadata": {
    "collapsed": false
   }
  },
  {
   "cell_type": "markdown",
   "source": [
    "Geef een lijst van alle sporten die beoefend worden door mensen die meer dan 3 keer per week sporten.  Geef het resultaat als een Series."
   ],
   "metadata": {
    "collapsed": false
   }
  },
  {
   "cell_type": "code",
   "execution_count": 36,
   "outputs": [
    {
     "name": "stdout",
     "output_type": "stream",
     "text": [
      "['voetbal', 'voetbal', 'klimmen', 'judo', 'judo', 'basketbal', 'voetbal', 'fitness', 'fitness', 'basketbal', 'voetbal', 'judo', 'judo', 'basketbal', 'anders']\n"
     ]
    }
   ],
   "source": [
    "rijen = sport['keer per week'] >= 3\n",
    "sportlist = list(sport.loc[rijen,'sport'])\n",
    "print(sportlist)"
   ],
   "metadata": {
    "collapsed": false
   }
  },
  {
   "cell_type": "markdown",
   "source": [
    "## Programmeren"
   ],
   "metadata": {
    "collapsed": false
   }
  },
  {
   "cell_type": "markdown",
   "source": [
    "Hier staan een aantal programmeeropdrachten om gewoon te raken aan de syntax en mogelijkheden van Python. Het is bedoeld voor de studenten die ook geïnteresseerd zijn in het programmeren zelf."
   ],
   "metadata": {
    "collapsed": false
   }
  },
  {
   "cell_type": "markdown",
   "source": [
    "### Dobbelsteen\n",
    "Schrijf een programma dat 6000 keer met de dobbelsteen rolt en telt hoeveel keer iedere waarde voorkomt.  Probeer geen lussen te moeten schrijven.  Je kan dit doen door te starten met een numpy array van 6000 willekeurige getallen tussen 1 en 6.\n",
    "\n",
    "Voorbeeld van de werking (dit kan afwijken omdat het willekeurige getallen zijn, maar alle getallen zouden rond de 1000 moeten liggen):\n",
    "\n",
    "```{text}\n",
    "Aantal enen: 1007\n",
    "Aantal tweeën: 994\n",
    "Aantal drieën: 1006\n",
    "Aantal vieren: 995\n",
    "Aantal vijven: 998\n",
    "Aantal zessen: 1000\n",
    "```"
   ],
   "metadata": {
    "collapsed": false
   }
  },
  {
   "cell_type": "code",
   "execution_count": 37,
   "outputs": [
    {
     "name": "stdout",
     "output_type": "stream",
     "text": [
      "aantal keer een:  1013\n",
      "aantal keer twee:  967\n",
      "aantal keer drie:  967\n",
      "aantal keer vier:  1055\n",
      "aantal keer vijf:  1011\n",
      "aantal keer zes:  987\n"
     ]
    }
   ],
   "source": [
    "i =0\n",
    "een=0\n",
    "twee=0\n",
    "drie=0\n",
    "vier=0\n",
    "vijf=0\n",
    "zes=0\n",
    "while i < 6000:\n",
    "    arr = np.random.randint(1,7)\n",
    "    if arr == 1:\n",
    "        een = een+1\n",
    "    elif arr == 2:\n",
    "        twee = twee +1\n",
    "    elif arr == 3:\n",
    "        drie = drie +1\n",
    "    elif arr == 4:\n",
    "        vier = vier +1\n",
    "    elif arr == 5:\n",
    "        vijf= vijf +1\n",
    "    elif arr == 6:\n",
    "        zes = zes +1\n",
    "    i = i+1\n",
    "print(\"aantal keer een: \", een)\n",
    "print(\"aantal keer twee: \", twee)\n",
    "print(\"aantal keer drie: \",drie)\n",
    "print(\"aantal keer vier: \",vier)\n",
    "print(\"aantal keer vijf: \",vijf)\n",
    "print(\"aantal keer zes: \",zes)"
   ],
   "metadata": {
    "collapsed": false
   }
  },
  {
   "cell_type": "markdown",
   "source": [
    "### Kerstboom\n",
    "\n",
    "Schrijf een programma om een kerstboom af te drukken met behulp van ‘*’ tekens. De breedte van de boom wordt als een oneven geheel getal (13..29)  ingegeven. Indien niet voldaan is aan deze voorwaarde wordt de breedte op 13 ingesteld.\n",
    "\n",
    "Eerst moet je het midden van de boom bepalen aan de hand van de breedte.\n",
    "Vervolgens druk je de boom regel per regel af.\n",
    "Opmerking: de stam bestaat altijd uit 4 regels met een breedte van 3.\n",
    "Gebruik een for-lus om de boom af te drukken.\n",
    "\n",
    "Je kan het getal inlezen met volgende code:\n",
    "```{python}\n",
    "breedte = int(input(\"Geef de breedte de van kerstboom (oneven getal in bereik 13..29):\"))\n",
    "```\n",
    "Als je iets wil printen zonder newline op het einde (zoals System.out.print() in Java), dan kan dat als volgt:\n",
    "```{python}\n",
    "print(\"hello, \", end='')\n",
    "print(\"world!\")\n",
    "```\n",
    "Je kan een aantal keer hetzelfde karakter in een string zetten met:\n",
    "```{python}\n",
    "karakter = \"*\"\n",
    "aantal = 5\n",
    "print(karakter * aantal)\n",
    "```\n",
    "\n",
    "Voorbeeld van de werking:\n",
    "\n",
    "```{text}\n",
    "Geef de breedte de van kerstboom (oneven getal in bereik 13..29): 13\n",
    "\n",
    "      *\n",
    "     ***\n",
    "    *****\n",
    "   *******\n",
    "  *********\n",
    " ***********\n",
    "*************\n",
    "     ***\n",
    "     ***\n",
    "     ***\n",
    "     ***\n",
    "```"
   ],
   "metadata": {
    "collapsed": false
   }
  },
  {
   "cell_type": "code",
   "execution_count": 3,
   "outputs": [
    {
     "name": "stdout",
     "output_type": "stream",
     "text": [
      "*\n",
      "\n",
      "\n",
      "***\n",
      "\n",
      "\n",
      "*****\n",
      "\n",
      "\n",
      "*******\n",
      "\n",
      "\n",
      "*********\n",
      "\n",
      "\n",
      "***********\n",
      "\n",
      "\n"
     ]
    }
   ],
   "source": [
    "# hier komt jouw code\n",
    "i = 0\n",
    "staramount = 1\n",
    "while i <= 5:\n",
    "    print(\"*\"*staramount)\n",
    "    staramount = staramount+2\n",
    "    print(\"\\n\")\n",
    "    i=i+1"
   ],
   "metadata": {
    "collapsed": false
   }
  },
  {
   "cell_type": "markdown",
   "source": [
    "### Geheim schrift\n",
    "Schrijf een programma om berichten te coderen en te decoderen zoals Julius Caesar deed.\n",
    "Het programma vraagt eerst een bericht.  Dit bericht wordt naar hoofdletters omgezet.\n",
    "Daarna vraagt het programma aan de gebruiker of het bericht gecodeerd of gedecodeerd moet worden.\n",
    "Om te coderen, doorloopt het programma alle letters in het bericht en verschuift deze letter telkens een aantal plaatsen (zet deze verschuiving in een variabele).\n",
    "Met een verschuiving van 3 wordt bijvoorbeeld de letter 'A' een 'D'.  Indien je aan het einde van het alfabet komt begin je terug bij de 'A' (een 'Z' wordt in dit geval een 'C'). Bij het decoderen doe je uiteraard het tegenovergestelde.  Je kan dit heel snel doen door gebruik te maken van de ASCII code van ieder karakter (je mag ervan uitgaan dat alle karakters in de ASCII set passen).\n",
    "Als een karakter geen letter is, dan wordt die gewoon ongecodeerd (of ongedecodeerd) weergegeven.\n",
    "\n",
    "Voorbeeld van werking (de verschuiving staat hier op 6):\n",
    "```{text}\n",
    "Geef een bericht: The quick brown fox jumps over the lazy dog.\n",
    "Wil je dit encoderen? J\n",
    "Gecodeerd bericht:\n",
    "ZNK WAOIQ HXUCT LUD PASVY UBKX ZNK RGFE JUM.\n",
    "\n",
    "Geef een bericht: ZNK WAOIQ HXUCT LUD PASVY UBKX ZNK RGFE JUM.\n",
    "Wil je dit encoderen? N\n",
    "Gedecodeerd bericht:\n",
    "THE QUICK BROWN FOX JUMPS OVER THE LAZY DOG.\n",
    "```\n",
    "Hint: je kan de code heel compact maken als je gebruik maakt van de modulo (%) operator.\n",
    "Hint: je kan een karakter omzetten naar zijn ASCII code met \"ord(c)\" en omgekeerd kan je een ASCII code naar een karakter omzetten met \"chr(code)\""
   ],
   "metadata": {
    "collapsed": false
   }
  },
  {
   "cell_type": "code",
   "execution_count": 39,
   "outputs": [],
   "source": [
    "# hier komt jouw code"
   ],
   "metadata": {
    "collapsed": false
   }
  },
  {
   "cell_type": "markdown",
   "source": [
    "### Vervangen\n",
    "Maak een functie \"vervang(lijst, te_zoeken, vervanging)\" die in een list op zoek gaat naar een waarde en die vervangt door een andere."
   ],
   "metadata": {
    "collapsed": false
   }
  },
  {
   "cell_type": "code",
   "execution_count": 40,
   "outputs": [],
   "source": [
    "# hier komt jouw code"
   ],
   "metadata": {
    "collapsed": false
   }
  },
  {
   "cell_type": "markdown",
   "source": [
    "Test de functie uit door in de list [ 10, 20, 30, 30, 40, 30, 0 ] de waarde 30 te vervangen door 42.\n",
    "Probeer of je functie ook werkt op een numpy array en een pandas Series.  Dat zou moeten lukken."
   ],
   "metadata": {
    "collapsed": false
   }
  },
  {
   "cell_type": "code",
   "execution_count": 41,
   "outputs": [],
   "source": [
    "# hier komt jouw code"
   ],
   "metadata": {
    "collapsed": false
   }
  },
  {
   "cell_type": "markdown",
   "source": [
    "### Wachtwoorden\n",
    "Een goed wachtwoord kiezen, is voor sommige gebruikers een ware opgave.  We willen een programma maken waarin de gebruiker een nieuw wachtwoord moet kiezen.  Dit moet (omdat we het graag ingewikkeld maken) minstens 8 karakters lang zijn, minstens 1 hoofdletter, 1 kleine letter, een cijfer en een leesteken bevatten.\n",
    "Maak een functie \"is_goed_wachtwoord\" die een wachtwoord als parameter meekrijgt en een boolean teruggeeft.  Die boolean is true als het gegeven wachtwoord voldoet aan alle eisen.  De functie geeft ook een foutmelding op het scherm als het wachtwoord niet goed is.\n",
    "Maak dan een programma dat een nieuw wachtwoord vraagt totdat alle eisen voldaan zijn.\n",
    "\n",
    "Voorbeeld van de werking:\n",
    "\n",
    "```{text}\n",
    "Geef een nieuw wachtwoord: ww\n",
    "Het moet minstens 8 karakters lang zijn\n",
    "Geef een nieuw wachtwoord: wachtwoord\n",
    "Het moet minstens 1 hoofdletter bevatten\n",
    "Geef een nieuw wachtwoord: WACHTWOORD\n",
    "Het moet minstens 1 kleine letter bevatten\n",
    "Geef een nieuw wachtwoord: Wachtwoord\n",
    "Het moet minstens 1 cijfer bevatten\n",
    "Geef een nieuw wachtwoord: Wachtw00rd\n",
    "Het moet minstens 1 leesteken bevatten\n",
    "Geef een nieuw wachtwoord: Wachtw00rd!\n",
    "Je nieuwe wachtwoord is goedgekeurd!\n",
    "```\n",
    "\n",
    "Hint: je kan heel eenvoudig itereren door de karakters van een string met:\n",
    "```{python}\n",
    "for c in string:\n",
    "    ...\n",
    "```"
   ],
   "metadata": {
    "collapsed": false
   }
  },
  {
   "cell_type": "code",
   "execution_count": 42,
   "outputs": [],
   "source": [
    "# hier komt jouw code"
   ],
   "metadata": {
    "collapsed": false
   }
  }
 ],
 "metadata": {
  "kernelspec": {
   "display_name": "Python 3",
   "language": "python",
   "name": "python3"
  },
  "language_info": {
   "codemirror_mode": {
    "name": "ipython",
    "version": 2
   },
   "file_extension": ".py",
   "mimetype": "text/x-python",
   "name": "python",
   "nbconvert_exporter": "python",
   "pygments_lexer": "ipython2",
   "version": "2.7.6"
  }
 },
 "nbformat": 4,
 "nbformat_minor": 0
}
