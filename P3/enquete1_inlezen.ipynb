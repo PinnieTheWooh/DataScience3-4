{
 "cells": [
  {
   "cell_type": "code",
   "execution_count": 17,
   "metadata": {
    "collapsed": true
   },
   "outputs": [],
   "source": [
    "import pandas as pd"
   ]
  },
  {
   "cell_type": "code",
   "execution_count": 18,
   "outputs": [
    {
     "name": "stdout",
     "output_type": "stream",
     "text": [
      "<class 'pandas.core.frame.DataFrame'>\n",
      "RangeIndex: 110 entries, 0 to 109\n",
      "Data columns (total 32 columns):\n",
      " #   Column                                                                                                                                                                                                 Non-Null Count  Dtype  \n",
      "---  ------                                                                                                                                                                                                 --------------  -----  \n",
      " 0   1. Wat was je score op de GapMinder test? Je hoeft je niet te schamen als het slecht was :-). De meeste mensen score vrij slecht.  Noteer de score hieronder als een breuk.                            110 non-null    object \n",
      " 1   2. Met welke hand schrijf je?                                                                                                                                                                          110 non-null    object \n",
      " 2   3. Wat is je schoenmaat?                                                                                                                                                                               110 non-null    float64\n",
      " 3   4. Wat is je lichaamslengte (in cm)?                                                                                                                                                                   110 non-null    int64  \n",
      " 4   5. Wat is je bloedgroep: AB0?                                                                                                                                                                          110 non-null    object \n",
      " 5   6. Wat is de resusfactor van je bloedgroep?                                                                                                                                                            110 non-null    object \n",
      " 6   7. Hoeveel broers / zussen heb je?                                                                                                                                                                     110 non-null    int64  \n",
      " 7   8. Vink alle beweringen aan die volgens aannemelijk zijn.                                                                                                                                              110 non-null    object \n",
      " 8   9. Welke rijbewijzen heb je al volledig behaald?                                                                                                                                                       110 non-null    object \n",
      " 9   10. Mijn domicilieadres ligt                                                                                                                                                                           110 non-null    object \n",
      " 10  11. Welke afstudeerrichting denk je te kiezen?                                                                                                                                                         110 non-null    object \n",
      " 11  12. Wat is je favoriete vrijetijdsbesteding?                                                                                                                                                           110 non-null    object \n",
      " 12  13. Hoeveel uren wiskunde had je in het laatste jaar middelbaar?                                                                                                                                       110 non-null    int64  \n",
      " 13  14. Hoe belangrijk is het voor je om informaticus te worden?                                                                                                                                           110 non-null    object \n",
      " 14  15. Hoeveel uur werk je gemiddelde per week voor school buiten de schooluren? Noteer als HH:mm (en wees eerlijk)                                                                                       110 non-null    object \n",
      " 15  16. Wat is de afstand van thuis / kot naar de KdG campus Groenplaats (in km)?                                                                                                                          110 non-null    float64\n",
      " 16  17. Hoe kom je naar school?                                                                                                                                                                            110 non-null    object \n",
      " 17  18. In 2012 bedroeg de opwarming van de aarde 0.85°C t.o.v. het jaar 1880. In 2020 bedroeg het reeds 0.98°C. Wanneer zal de aarde volgens jou meer dan 1.5°C opgewarmd zijn door de klimaatopwarming?  110 non-null    object \n",
      " 18  19.  Hoeveel zakgeld krijg je of verdien je zelf per maand?                                                                                                                                            110 non-null    float64\n",
      " 19  20a. Hoeveel stukken / porties fruit eet je gemiddeld per dag?                                                                                                                                         110 non-null    int64  \n",
      " 20  21. Welk besturingssysteem gebruik je het liefst?                                                                                                                                                      110 non-null    object \n",
      " 21  22. Stel dat je maar één app op je smartphone mocht zetten, welke zou je dan kiezen                                                                                                                    110 non-null    object \n",
      " 22  23a. In hoeverre vind je het belangrijk om het welzijn van anderen te beschermen en te verzorgen?                                                                                                      110 non-null    int64  \n",
      " 23  23b. In hoeverre geloof je dat het belangrijk is om middelen gelijk en eerlijk te verdelen?                                                                                                            110 non-null    int64  \n",
      " 24  23c. In hoeverre vind je het belangrijk om loyaal te zijn aan je familie, vrienden of je land?                                                                                                         110 non-null    int64  \n",
      " 25  23d. In hoeverre vind je het belangrijk om gezag te respecteren en gevestigde regels en normen te volgen?                                                                                              110 non-null    int64  \n",
      " 26  23e. In hoeverre geloof je dat het belangrijk is om zuiverheid te handhaven en gedrag of handelingen te vermijden die als vulgair of immoreel worden ervaren?                                          110 non-null    int64  \n",
      " 27  23f. In hoeverre vind je het belangrijk dat individuen vrijheid van keuze en expressie hebben zonder inmenging van anderen?                                                                            110 non-null    int64  \n",
      " 28  24. Wat is volgens jou het zwaarste vak uit het eerste jaar?                                                                                                                                           110 non-null    object \n",
      " 29  25. Welke vak uit het eerste jaar TI vind je het boeiendst?                                                                                                                                            110 non-null    object \n",
      " 30  26. In het hoger onderwijs wordt 1 studiepunt gelijkgesteld aan 25 uren studiebelasting.  \n",
      "Wat is jouw inschatting?\t                                                                                   110 non-null    int64  \n",
      " 31  27. Ik geef toestemming om deze gegevens geanonimiseerd te gebruiken binnen de lessen Data Science van de opleiding Toegepaste Informatica op KdG.                                                     110 non-null    object \n",
      "dtypes: float64(3), int64(11), object(18)\n",
      "memory usage: 27.6+ KB\n"
     ]
    }
   ],
   "source": [
    "# eerst inlezen\n",
    "enquete = pd.read_csv('Enquête Data Science 2023.csv')\n",
    "enquete.info()"
   ],
   "metadata": {
    "collapsed": false
   }
  },
  {
   "cell_type": "code",
   "execution_count": 19,
   "outputs": [
    {
     "name": "stdout",
     "output_type": "stream",
     "text": [
      "<class 'pandas.core.frame.DataFrame'>\n",
      "RangeIndex: 110 entries, 0 to 109\n",
      "Data columns (total 32 columns):\n",
      " #   Column                   Non-Null Count  Dtype  \n",
      "---  ------                   --------------  -----  \n",
      " 0   gapminder                110 non-null    object \n",
      " 1   schrijfhand              110 non-null    object \n",
      " 2   schoenmaat               110 non-null    float64\n",
      " 3   lengte                   110 non-null    int64  \n",
      " 4   bloedgroep               110 non-null    object \n",
      " 5   resus                    110 non-null    object \n",
      " 6   siblings                 110 non-null    int64  \n",
      " 7   beweringen               110 non-null    object \n",
      " 8   rijbewijzen              110 non-null    object \n",
      " 9   domicilie                110 non-null    object \n",
      " 10  afstudeerrichting        110 non-null    object \n",
      " 11  vrijetijd                110 non-null    object \n",
      " 12  uren_wiskunde            110 non-null    int64  \n",
      " 13  informatica_belangrijk   110 non-null    object \n",
      " 14  uur_schoolwerk_per_week  110 non-null    object \n",
      " 15  afstand                  110 non-null    float64\n",
      " 16  vervoermiddel            110 non-null    object \n",
      " 17  opwarming                110 non-null    object \n",
      " 18  zakgeld_per_maand        110 non-null    float64\n",
      " 19  stukken_fruit            110 non-null    int64  \n",
      " 20  besturingsysteem         110 non-null    object \n",
      " 21  app                      110 non-null    object \n",
      " 22  welzijn                  110 non-null    int64  \n",
      " 23  gelijke_middelen         110 non-null    int64  \n",
      " 24  loyaliteit               110 non-null    int64  \n",
      " 25  respect                  110 non-null    int64  \n",
      " 26  geloof                   110 non-null    int64  \n",
      " 27  vrijheid                 110 non-null    int64  \n",
      " 28  zwaarste_vak             110 non-null    object \n",
      " 29  boeiendste_vak           110 non-null    object \n",
      " 30  studiepunt               110 non-null    int64  \n",
      " 31  toestemming              110 non-null    object \n",
      "dtypes: float64(3), int64(11), object(18)\n",
      "memory usage: 27.6+ KB\n"
     ]
    }
   ],
   "source": [
    "# kolomnamen opkuisen\n",
    "columnNames=['gapminder', 'schrijfhand', 'schoenmaat', 'lengte', 'bloedgroep', 'resus', 'siblings', 'beweringen', 'rijbewijzen', 'domicilie', 'afstudeerrichting', 'vrijetijd', 'uren_wiskunde', 'informatica_belangrijk', 'uur_schoolwerk_per_week', 'afstand', 'vervoermiddel', 'opwarming', 'zakgeld_per_maand', 'stukken_fruit', 'besturingsysteem', 'app', 'welzijn', 'gelijke_middelen', 'loyaliteit', 'respect', 'geloof', 'vrijheid', 'zwaarste_vak', 'boeiendste_vak', 'studiepunt', 'toestemming']\n",
    "enquete = enquete.set_axis(columnNames, axis=1)\n",
    "enquete.info()"
   ],
   "metadata": {
    "collapsed": false
   }
  },
  {
   "cell_type": "code",
   "execution_count": 20,
   "outputs": [
    {
     "name": "stdout",
     "output_type": "stream",
     "text": [
      "<class 'pandas.core.frame.DataFrame'>\n",
      "Int64Index: 105 entries, 0 to 109\n",
      "Data columns (total 31 columns):\n",
      " #   Column                   Non-Null Count  Dtype  \n",
      "---  ------                   --------------  -----  \n",
      " 0   gapminder                105 non-null    object \n",
      " 1   schrijfhand              105 non-null    object \n",
      " 2   schoenmaat               105 non-null    float64\n",
      " 3   lengte                   105 non-null    int64  \n",
      " 4   bloedgroep               105 non-null    object \n",
      " 5   resus                    105 non-null    object \n",
      " 6   siblings                 105 non-null    int64  \n",
      " 7   beweringen               105 non-null    object \n",
      " 8   rijbewijzen              105 non-null    object \n",
      " 9   domicilie                105 non-null    object \n",
      " 10  afstudeerrichting        105 non-null    object \n",
      " 11  vrijetijd                105 non-null    object \n",
      " 12  uren_wiskunde            105 non-null    int64  \n",
      " 13  informatica_belangrijk   105 non-null    object \n",
      " 14  uur_schoolwerk_per_week  105 non-null    object \n",
      " 15  afstand                  105 non-null    float64\n",
      " 16  vervoermiddel            105 non-null    object \n",
      " 17  opwarming                105 non-null    object \n",
      " 18  zakgeld_per_maand        105 non-null    float64\n",
      " 19  stukken_fruit            105 non-null    int64  \n",
      " 20  besturingsysteem         105 non-null    object \n",
      " 21  app                      105 non-null    object \n",
      " 22  welzijn                  105 non-null    int64  \n",
      " 23  gelijke_middelen         105 non-null    int64  \n",
      " 24  loyaliteit               105 non-null    int64  \n",
      " 25  respect                  105 non-null    int64  \n",
      " 26  geloof                   105 non-null    int64  \n",
      " 27  vrijheid                 105 non-null    int64  \n",
      " 28  zwaarste_vak             105 non-null    object \n",
      " 29  boeiendste_vak           105 non-null    object \n",
      " 30  studiepunt               105 non-null    int64  \n",
      "dtypes: float64(3), int64(11), object(17)\n",
      "memory usage: 26.2+ KB\n"
     ]
    }
   ],
   "source": [
    "# verwijder studenten die niet akkoord waren\n",
    "regels = (enquete.toestemming=='Ja')\n",
    "enquete = enquete[regels]\n",
    "enquete.drop(columns='toestemming', inplace=True)\n",
    "enquete.info()"
   ],
   "metadata": {
    "collapsed": false
   }
  },
  {
   "cell_type": "code",
   "execution_count": 21,
   "outputs": [
    {
     "name": "stdout",
     "output_type": "stream",
     "text": [
      "['10/20' '3/18' '7/10' '5/20' '02/09' '04/09' '06/09' '5/18' '6/13'\n",
      " '11/13' '8/10' '4/18' '9/18' '6/10' '10/18' '8/15' '10/10' '13/18' '5/13'\n",
      " '7/13' '7/18' '12/18' '10/13' '5/09' '03/09' '9/13' '8/09' '4/09' '6/06'\n",
      " '6/09' '1/04' '8/18' '2/04' '1/05' '8/13' '5/9' '8/9' '6/9' '4/9' '3/9'\n",
      " '6/18' '11/18' '14/18' '9/90']\n"
     ]
    }
   ],
   "source": [
    "print(enquete.gapminder.unique())"
   ],
   "metadata": {
    "collapsed": false
   }
  },
  {
   "cell_type": "code",
   "execution_count": 22,
   "outputs": [
    {
     "name": "stdout",
     "output_type": "stream",
     "text": [
      "<class 'pandas.core.frame.DataFrame'>\n",
      "Int64Index: 105 entries, 0 to 109\n",
      "Data columns (total 31 columns):\n",
      " #   Column                   Non-Null Count  Dtype  \n",
      "---  ------                   --------------  -----  \n",
      " 0   gapminder                105 non-null    float64\n",
      " 1   schrijfhand              105 non-null    object \n",
      " 2   schoenmaat               105 non-null    float64\n",
      " 3   lengte                   105 non-null    int64  \n",
      " 4   bloedgroep               105 non-null    object \n",
      " 5   resus                    105 non-null    object \n",
      " 6   siblings                 105 non-null    int64  \n",
      " 7   beweringen               105 non-null    object \n",
      " 8   rijbewijzen              105 non-null    object \n",
      " 9   domicilie                105 non-null    object \n",
      " 10  afstudeerrichting        105 non-null    object \n",
      " 11  vrijetijd                105 non-null    object \n",
      " 12  uren_wiskunde            105 non-null    int64  \n",
      " 13  informatica_belangrijk   105 non-null    object \n",
      " 14  uur_schoolwerk_per_week  105 non-null    object \n",
      " 15  afstand                  105 non-null    float64\n",
      " 16  vervoermiddel            105 non-null    object \n",
      " 17  opwarming                105 non-null    object \n",
      " 18  zakgeld_per_maand        105 non-null    float64\n",
      " 19  stukken_fruit            105 non-null    int64  \n",
      " 20  besturingsysteem         105 non-null    object \n",
      " 21  app                      105 non-null    object \n",
      " 22  welzijn                  105 non-null    int64  \n",
      " 23  gelijke_middelen         105 non-null    int64  \n",
      " 24  loyaliteit               105 non-null    int64  \n",
      " 25  respect                  105 non-null    int64  \n",
      " 26  geloof                   105 non-null    int64  \n",
      " 27  vrijheid                 105 non-null    int64  \n",
      " 28  zwaarste_vak             105 non-null    object \n",
      " 29  boeiendste_vak           105 non-null    object \n",
      " 30  studiepunt               105 non-null    int64  \n",
      "dtypes: float64(4), int64(11), object(16)\n",
      "memory usage: 26.2+ KB\n"
     ]
    }
   ],
   "source": [
    "# gapminder omzetten naar percentage\n",
    "gapminder = enquete.gapminder.str.split('/').tolist()\n",
    "for i in range(len(gapminder)):\n",
    "    gapminder[i] = int(gapminder[i][0]) / int(gapminder[i][1]) * 100.0\n",
    "enquete.gapminder = gapminder\n",
    "enquete.info()"
   ],
   "metadata": {
    "collapsed": false
   }
  },
  {
   "cell_type": "code",
   "execution_count": 23,
   "outputs": [
    {
     "name": "stdout",
     "output_type": "stream",
     "text": [
      "['Beide' 'Rechts' 'Links']\n"
     ]
    }
   ],
   "source": [
    "schrijfhand = enquete.schrijfhand\n",
    "print(schrijfhand.unique())"
   ],
   "metadata": {
    "collapsed": false
   }
  },
  {
   "cell_type": "code",
   "execution_count": 24,
   "outputs": [
    {
     "name": "stdout",
     "output_type": "stream",
     "text": [
      "<class 'pandas.core.frame.DataFrame'>\n",
      "Int64Index: 105 entries, 0 to 109\n",
      "Data columns (total 31 columns):\n",
      " #   Column                   Non-Null Count  Dtype   \n",
      "---  ------                   --------------  -----   \n",
      " 0   gapminder                105 non-null    float64 \n",
      " 1   schrijfhand              105 non-null    category\n",
      " 2   schoenmaat               105 non-null    float64 \n",
      " 3   lengte                   105 non-null    int64   \n",
      " 4   bloedgroep               105 non-null    object  \n",
      " 5   resus                    105 non-null    object  \n",
      " 6   siblings                 105 non-null    int64   \n",
      " 7   beweringen               105 non-null    object  \n",
      " 8   rijbewijzen              105 non-null    object  \n",
      " 9   domicilie                105 non-null    object  \n",
      " 10  afstudeerrichting        105 non-null    object  \n",
      " 11  vrijetijd                105 non-null    object  \n",
      " 12  uren_wiskunde            105 non-null    int64   \n",
      " 13  informatica_belangrijk   105 non-null    object  \n",
      " 14  uur_schoolwerk_per_week  105 non-null    object  \n",
      " 15  afstand                  105 non-null    float64 \n",
      " 16  vervoermiddel            105 non-null    object  \n",
      " 17  opwarming                105 non-null    object  \n",
      " 18  zakgeld_per_maand        105 non-null    float64 \n",
      " 19  stukken_fruit            105 non-null    int64   \n",
      " 20  besturingsysteem         105 non-null    object  \n",
      " 21  app                      105 non-null    object  \n",
      " 22  welzijn                  105 non-null    int64   \n",
      " 23  gelijke_middelen         105 non-null    int64   \n",
      " 24  loyaliteit               105 non-null    int64   \n",
      " 25  respect                  105 non-null    int64   \n",
      " 26  geloof                   105 non-null    int64   \n",
      " 27  vrijheid                 105 non-null    int64   \n",
      " 28  zwaarste_vak             105 non-null    object  \n",
      " 29  boeiendste_vak           105 non-null    object  \n",
      " 30  studiepunt               105 non-null    int64   \n",
      "dtypes: category(1), float64(4), int64(11), object(15)\n",
      "memory usage: 25.7+ KB\n"
     ]
    }
   ],
   "source": [
    "# schrijfhand naar categorical\n",
    "schrijfhand = pd.Categorical(schrijfhand)\n",
    "enquete.schrijfhand = schrijfhand\n",
    "enquete.info()"
   ],
   "metadata": {
    "collapsed": false
   }
  },
  {
   "cell_type": "code",
   "execution_count": 25,
   "outputs": [
    {
     "name": "stdout",
     "output_type": "stream",
     "text": [
      "['Weet ik niet' 'A' 'O' 'AB' 'B']\n"
     ]
    }
   ],
   "source": [
    "bloedgroep = enquete.bloedgroep\n",
    "print(bloedgroep.unique())"
   ],
   "metadata": {
    "collapsed": false
   }
  },
  {
   "cell_type": "code",
   "execution_count": 26,
   "outputs": [
    {
     "name": "stdout",
     "output_type": "stream",
     "text": [
      "<class 'pandas.core.frame.DataFrame'>\n",
      "Int64Index: 105 entries, 0 to 109\n",
      "Data columns (total 31 columns):\n",
      " #   Column                   Non-Null Count  Dtype   \n",
      "---  ------                   --------------  -----   \n",
      " 0   gapminder                105 non-null    float64 \n",
      " 1   schrijfhand              105 non-null    category\n",
      " 2   schoenmaat               105 non-null    float64 \n",
      " 3   lengte                   105 non-null    int64   \n",
      " 4   bloedgroep               65 non-null     category\n",
      " 5   resus                    105 non-null    object  \n",
      " 6   siblings                 105 non-null    int64   \n",
      " 7   beweringen               105 non-null    object  \n",
      " 8   rijbewijzen              105 non-null    object  \n",
      " 9   domicilie                105 non-null    object  \n",
      " 10  afstudeerrichting        105 non-null    object  \n",
      " 11  vrijetijd                105 non-null    object  \n",
      " 12  uren_wiskunde            105 non-null    int64   \n",
      " 13  informatica_belangrijk   105 non-null    object  \n",
      " 14  uur_schoolwerk_per_week  105 non-null    object  \n",
      " 15  afstand                  105 non-null    float64 \n",
      " 16  vervoermiddel            105 non-null    object  \n",
      " 17  opwarming                105 non-null    object  \n",
      " 18  zakgeld_per_maand        105 non-null    float64 \n",
      " 19  stukken_fruit            105 non-null    int64   \n",
      " 20  besturingsysteem         105 non-null    object  \n",
      " 21  app                      105 non-null    object  \n",
      " 22  welzijn                  105 non-null    int64   \n",
      " 23  gelijke_middelen         105 non-null    int64   \n",
      " 24  loyaliteit               105 non-null    int64   \n",
      " 25  respect                  105 non-null    int64   \n",
      " 26  geloof                   105 non-null    int64   \n",
      " 27  vrijheid                 105 non-null    int64   \n",
      " 28  zwaarste_vak             105 non-null    object  \n",
      " 29  boeiendste_vak           105 non-null    object  \n",
      " 30  studiepunt               105 non-null    int64   \n",
      "dtypes: category(2), float64(4), int64(11), object(14)\n",
      "memory usage: 25.1+ KB\n"
     ]
    }
   ],
   "source": [
    "# bloedgroep naar categorical\n",
    "# zet 'Weet ik niet' om naar NA\n",
    "bloedgroep = pd.Categorical(bloedgroep, categories=['O', 'A', 'B', 'AB'])\n",
    "enquete.bloedgroep = bloedgroep\n",
    "enquete.info()"
   ],
   "metadata": {
    "collapsed": false
   }
  },
  {
   "cell_type": "code",
   "execution_count": 27,
   "outputs": [
    {
     "name": "stdout",
     "output_type": "stream",
     "text": [
      "['Negatief' 'Positief' 'Weet ik niet']\n"
     ]
    }
   ],
   "source": [
    "resus = enquete.resus\n",
    "print(resus.unique())"
   ],
   "metadata": {
    "collapsed": false
   }
  },
  {
   "cell_type": "code",
   "execution_count": 28,
   "outputs": [
    {
     "name": "stdout",
     "output_type": "stream",
     "text": [
      "<class 'pandas.core.frame.DataFrame'>\n",
      "Int64Index: 105 entries, 0 to 109\n",
      "Data columns (total 31 columns):\n",
      " #   Column                   Non-Null Count  Dtype   \n",
      "---  ------                   --------------  -----   \n",
      " 0   gapminder                105 non-null    float64 \n",
      " 1   schrijfhand              105 non-null    category\n",
      " 2   schoenmaat               105 non-null    float64 \n",
      " 3   lengte                   105 non-null    int64   \n",
      " 4   bloedgroep               65 non-null     category\n",
      " 5   resus                    63 non-null     category\n",
      " 6   siblings                 105 non-null    int64   \n",
      " 7   beweringen               105 non-null    object  \n",
      " 8   rijbewijzen              105 non-null    object  \n",
      " 9   domicilie                105 non-null    object  \n",
      " 10  afstudeerrichting        105 non-null    object  \n",
      " 11  vrijetijd                105 non-null    object  \n",
      " 12  uren_wiskunde            105 non-null    int64   \n",
      " 13  informatica_belangrijk   105 non-null    object  \n",
      " 14  uur_schoolwerk_per_week  105 non-null    object  \n",
      " 15  afstand                  105 non-null    float64 \n",
      " 16  vervoermiddel            105 non-null    object  \n",
      " 17  opwarming                105 non-null    object  \n",
      " 18  zakgeld_per_maand        105 non-null    float64 \n",
      " 19  stukken_fruit            105 non-null    int64   \n",
      " 20  besturingsysteem         105 non-null    object  \n",
      " 21  app                      105 non-null    object  \n",
      " 22  welzijn                  105 non-null    int64   \n",
      " 23  gelijke_middelen         105 non-null    int64   \n",
      " 24  loyaliteit               105 non-null    int64   \n",
      " 25  respect                  105 non-null    int64   \n",
      " 26  geloof                   105 non-null    int64   \n",
      " 27  vrijheid                 105 non-null    int64   \n",
      " 28  zwaarste_vak             105 non-null    object  \n",
      " 29  boeiendste_vak           105 non-null    object  \n",
      " 30  studiepunt               105 non-null    int64   \n",
      "dtypes: category(3), float64(4), int64(11), object(13)\n",
      "memory usage: 24.5+ KB\n"
     ]
    }
   ],
   "source": [
    "# resus omzetten naar categorical\n",
    "# zet 'Weet ik niet' om naar NA\n",
    "resus = pd.Categorical(resus, categories=['Negatief', 'Positief'])\n",
    "enquete.resus = resus\n",
    "enquete.info()"
   ],
   "metadata": {
    "collapsed": false
   }
  },
  {
   "cell_type": "code",
   "execution_count": 29,
   "outputs": [
    {
     "name": "stdout",
     "output_type": "stream",
     "text": [
      "['De aanslagen van 9/11 in NY werden niet door terroristen gepleegd;Prinses Diana kwam niet per ongeluk om het leven;De maanlanding is in scène gezet om de Russen te slim af te zijn;In 1947 is er in Roswell, New Mexico, een UFO neergestort in de woestijn.;De wereld wordt eigenlijk gecontroleerd door een geheime elite'\n",
      " 'De aanslagen van 9/11 in NY werden niet door terroristen gepleegd'\n",
      " 'Geen enkele bewering is aannemelijk'\n",
      " 'Prinses Diana kwam niet per ongeluk om het leven;John F. Kennedy werd vermoord in opdracht van de CIA'\n",
      " 'De Holocaust heeft wel plaats gehad, maar was veel minder erg dan de geschiedenisboeken ons vertellen;De wereld wordt eigenlijk gecontroleerd door een geheime elite'\n",
      " 'Prinses Diana kwam niet per ongeluk om het leven;In 1947 is er in Roswell, New Mexico, een UFO neergestort in de woestijn.;De wereld wordt eigenlijk gecontroleerd door een geheime elite'\n",
      " 'De aanslagen van 9/11 in NY werden niet door terroristen gepleegd;De maanlanding is in scène gezet om de Russen te slim af te zijn;John F. Kennedy werd vermoord in opdracht van de CIA;De wereld wordt eigenlijk gecontroleerd door een geheime elite;Vaccinaties kunnen autisme veroorzaken'\n",
      " 'De aanslagen van 9/11 in NY werden niet door terroristen gepleegd;Prinses Diana kwam niet per ongeluk om het leven;De maanlanding is in scène gezet om de Russen te slim af te zijn;John F. Kennedy werd vermoord in opdracht van de CIA;De uitlaatgassen van vliegtuigen bevatten chemicaliën die gebruikt worden om het weer te beïnvloeden;De eerste corona-uitbraken gebeuren in de buurt van 5G zendmasten;De Holocaust heeft wel plaats gehad, maar was veel minder erg dan de geschiedenisboeken ons vertellen;De wereld wordt eigenlijk gecontroleerd door een geheime elite;AIDS werd in labo gemaakt;Vaccinaties kunnen autisme veroorzaken;De tsunami van 2004 in de Indische Oceaan was het gevolg van een nucleair experiment'\n",
      " 'De aanslagen van 9/11 in NY werden niet door terroristen gepleegd;Prinses Diana kwam niet per ongeluk om het leven;De maanlanding is in scène gezet om de Russen te slim af te zijn;De wereld wordt eigenlijk gecontroleerd door een geheime elite'\n",
      " 'De wereld wordt eigenlijk gecontroleerd door een geheime elite'\n",
      " 'Prinses Diana kwam niet per ongeluk om het leven'\n",
      " 'De aanslagen van 9/11 in NY werden niet door terroristen gepleegd;Prinses Diana kwam niet per ongeluk om het leven'\n",
      " 'Prinses Diana kwam niet per ongeluk om het leven;De maanlanding is in scène gezet om de Russen te slim af te zijn;In 1947 is er in Roswell, New Mexico, een UFO neergestort in de woestijn.;De Holocaust heeft wel plaats gehad, maar was veel minder erg dan de geschiedenisboeken ons vertellen;De wereld wordt eigenlijk gecontroleerd door een geheime elite;Vaccinaties kunnen autisme veroorzaken;De tsunami van 2004 in de Indische Oceaan was het gevolg van een nucleair experiment'\n",
      " 'De aanslagen van 9/11 in NY werden niet door terroristen gepleegd;John F. Kennedy werd vermoord in opdracht van de CIA'\n",
      " 'Prinses Diana kwam niet per ongeluk om het leven;De wereld wordt eigenlijk gecontroleerd door een geheime elite'\n",
      " 'De aanslagen van 9/11 in NY werden niet door terroristen gepleegd;De maanlanding is in scène gezet om de Russen te slim af te zijn;De Holocaust heeft wel plaats gehad, maar was veel minder erg dan de geschiedenisboeken ons vertellen;De wereld wordt eigenlijk gecontroleerd door een geheime elite'\n",
      " 'De aanslagen van 9/11 in NY werden niet door terroristen gepleegd;Prinses Diana kwam niet per ongeluk om het leven;De maanlanding is in scène gezet om de Russen te slim af te zijn;John F. Kennedy werd vermoord in opdracht van de CIA;In 1947 is er in Roswell, New Mexico, een UFO neergestort in de woestijn.;De uitlaatgassen van vliegtuigen bevatten chemicaliën die gebruikt worden om het weer te beïnvloeden;De eerste corona-uitbraken gebeuren in de buurt van 5G zendmasten;De Holocaust heeft wel plaats gehad, maar was veel minder erg dan de geschiedenisboeken ons vertellen;De wereld wordt eigenlijk gecontroleerd door een geheime elite;AIDS werd in labo gemaakt;Vaccinaties kunnen autisme veroorzaken;De tsunami van 2004 in de Indische Oceaan was het gevolg van een nucleair experiment'\n",
      " 'De maanlanding is in scène gezet om de Russen te slim af te zijn;John F. Kennedy werd vermoord in opdracht van de CIA;Vaccinaties kunnen autisme veroorzaken'\n",
      " 'Prinses Diana kwam niet per ongeluk om het leven;De maanlanding is in scène gezet om de Russen te slim af te zijn;John F. Kennedy werd vermoord in opdracht van de CIA;De eerste corona-uitbraken gebeuren in de buurt van 5G zendmasten;De wereld wordt eigenlijk gecontroleerd door een geheime elite'\n",
      " 'De aanslagen van 9/11 in NY werden niet door terroristen gepleegd;John F. Kennedy werd vermoord in opdracht van de CIA;De wereld wordt eigenlijk gecontroleerd door een geheime elite'\n",
      " 'De aanslagen van 9/11 in NY werden niet door terroristen gepleegd;De maanlanding is in scène gezet om de Russen te slim af te zijn;John F. Kennedy werd vermoord in opdracht van de CIA;De Holocaust heeft wel plaats gehad, maar was veel minder erg dan de geschiedenisboeken ons vertellen;De wereld wordt eigenlijk gecontroleerd door een geheime elite;AIDS werd in labo gemaakt'\n",
      " 'Prinses Diana kwam niet per ongeluk om het leven;De maanlanding is in scène gezet om de Russen te slim af te zijn;AIDS werd in labo gemaakt'\n",
      " 'De aanslagen van 9/11 in NY werden niet door terroristen gepleegd;Prinses Diana kwam niet per ongeluk om het leven;John F. Kennedy werd vermoord in opdracht van de CIA;De uitlaatgassen van vliegtuigen bevatten chemicaliën die gebruikt worden om het weer te beïnvloeden;De wereld wordt eigenlijk gecontroleerd door een geheime elite;De tsunami van 2004 in de Indische Oceaan was het gevolg van een nucleair experiment'\n",
      " 'De aanslagen van 9/11 in NY werden niet door terroristen gepleegd;John F. Kennedy werd vermoord in opdracht van de CIA;De eerste corona-uitbraken gebeuren in de buurt van 5G zendmasten;De wereld wordt eigenlijk gecontroleerd door een geheime elite;AIDS werd in labo gemaakt'\n",
      " 'Prinses Diana kwam niet per ongeluk om het leven;John F. Kennedy werd vermoord in opdracht van de CIA;De wereld wordt eigenlijk gecontroleerd door een geheime elite;De tsunami van 2004 in de Indische Oceaan was het gevolg van een nucleair experiment'\n",
      " 'Vaccinaties kunnen autisme veroorzaken'\n",
      " 'De maanlanding is in scène gezet om de Russen te slim af te zijn;John F. Kennedy werd vermoord in opdracht van de CIA;De wereld wordt eigenlijk gecontroleerd door een geheime elite;De tsunami van 2004 in de Indische Oceaan was het gevolg van een nucleair experiment'\n",
      " 'De aanslagen van 9/11 in NY werden niet door terroristen gepleegd;Prinses Diana kwam niet per ongeluk om het leven;De maanlanding is in scène gezet om de Russen te slim af te zijn;John F. Kennedy werd vermoord in opdracht van de CIA;AIDS werd in labo gemaakt;Vaccinaties kunnen autisme veroorzaken;De tsunami van 2004 in de Indische Oceaan was het gevolg van een nucleair experiment'\n",
      " 'Prinses Diana kwam niet per ongeluk om het leven;De uitlaatgassen van vliegtuigen bevatten chemicaliën die gebruikt worden om het weer te beïnvloeden;De wereld wordt eigenlijk gecontroleerd door een geheime elite'\n",
      " 'De aanslagen van 9/11 in NY werden niet door terroristen gepleegd;Prinses Diana kwam niet per ongeluk om het leven;De maanlanding is in scène gezet om de Russen te slim af te zijn;John F. Kennedy werd vermoord in opdracht van de CIA;In 1947 is er in Roswell, New Mexico, een UFO neergestort in de woestijn.;De uitlaatgassen van vliegtuigen bevatten chemicaliën die gebruikt worden om het weer te beïnvloeden;De eerste corona-uitbraken gebeuren in de buurt van 5G zendmasten;De Holocaust heeft wel plaats gehad, maar was veel minder erg dan de geschiedenisboeken ons vertellen;De wereld wordt eigenlijk gecontroleerd door een geheime elite;AIDS werd in labo gemaakt;Vaccinaties kunnen autisme veroorzaken;De tsunami van 2004 in de Indische Oceaan was het gevolg van een nucleair experiment;Geen enkele bewering is aannemelijk'\n",
      " 'Prinses Diana kwam niet per ongeluk om het leven;John F. Kennedy werd vermoord in opdracht van de CIA;De wereld wordt eigenlijk gecontroleerd door een geheime elite'\n",
      " 'De aanslagen van 9/11 in NY werden niet door terroristen gepleegd;Prinses Diana kwam niet per ongeluk om het leven;In 1947 is er in Roswell, New Mexico, een UFO neergestort in de woestijn.;De Holocaust heeft wel plaats gehad, maar was veel minder erg dan de geschiedenisboeken ons vertellen;De wereld wordt eigenlijk gecontroleerd door een geheime elite;AIDS werd in labo gemaakt;Vaccinaties kunnen autisme veroorzaken'\n",
      " 'De aanslagen van 9/11 in NY werden niet door terroristen gepleegd;De wereld wordt eigenlijk gecontroleerd door een geheime elite'\n",
      " 'Prinses Diana kwam niet per ongeluk om het leven;John F. Kennedy werd vermoord in opdracht van de CIA;De uitlaatgassen van vliegtuigen bevatten chemicaliën die gebruikt worden om het weer te beïnvloeden;De wereld wordt eigenlijk gecontroleerd door een geheime elite'\n",
      " 'Prinses Diana kwam niet per ongeluk om het leven;John F. Kennedy werd vermoord in opdracht van de CIA;In 1947 is er in Roswell, New Mexico, een UFO neergestort in de woestijn.;De wereld wordt eigenlijk gecontroleerd door een geheime elite;AIDS werd in labo gemaakt'\n",
      " 'De aanslagen van 9/11 in NY werden niet door terroristen gepleegd;Prinses Diana kwam niet per ongeluk om het leven;De uitlaatgassen van vliegtuigen bevatten chemicaliën die gebruikt worden om het weer te beïnvloeden;De tsunami van 2004 in de Indische Oceaan was het gevolg van een nucleair experiment'\n",
      " 'De maanlanding is in scène gezet om de Russen te slim af te zijn;De uitlaatgassen van vliegtuigen bevatten chemicaliën die gebruikt worden om het weer te beïnvloeden'\n",
      " 'De aanslagen van 9/11 in NY werden niet door terroristen gepleegd;John F. Kennedy werd vermoord in opdracht van de CIA;In 1947 is er in Roswell, New Mexico, een UFO neergestort in de woestijn.;De wereld wordt eigenlijk gecontroleerd door een geheime elite'\n",
      " 'Prinses Diana kwam niet per ongeluk om het leven;John F. Kennedy werd vermoord in opdracht van de CIA;In 1947 is er in Roswell, New Mexico, een UFO neergestort in de woestijn.;De wereld wordt eigenlijk gecontroleerd door een geheime elite;De tsunami van 2004 in de Indische Oceaan was het gevolg van een nucleair experiment'\n",
      " 'De aanslagen van 9/11 in NY werden niet door terroristen gepleegd;Prinses Diana kwam niet per ongeluk om het leven;John F. Kennedy werd vermoord in opdracht van de CIA;AIDS werd in labo gemaakt;De tsunami van 2004 in de Indische Oceaan was het gevolg van een nucleair experiment'\n",
      " 'De aanslagen van 9/11 in NY werden niet door terroristen gepleegd;Prinses Diana kwam niet per ongeluk om het leven;In 1947 is er in Roswell, New Mexico, een UFO neergestort in de woestijn.;De wereld wordt eigenlijk gecontroleerd door een geheime elite;Vaccinaties kunnen autisme veroorzaken'\n",
      " 'Prinses Diana kwam niet per ongeluk om het leven;In 1947 is er in Roswell, New Mexico, een UFO neergestort in de woestijn.;De eerste corona-uitbraken gebeuren in de buurt van 5G zendmasten;De wereld wordt eigenlijk gecontroleerd door een geheime elite;Vaccinaties kunnen autisme veroorzaken'\n",
      " 'De aanslagen van 9/11 in NY werden niet door terroristen gepleegd;Prinses Diana kwam niet per ongeluk om het leven;John F. Kennedy werd vermoord in opdracht van de CIA;De tsunami van 2004 in de Indische Oceaan was het gevolg van een nucleair experiment'\n",
      " 'De aanslagen van 9/11 in NY werden niet door terroristen gepleegd;John F. Kennedy werd vermoord in opdracht van de CIA;De wereld wordt eigenlijk gecontroleerd door een geheime elite;Vaccinaties kunnen autisme veroorzaken'\n",
      " 'John F. Kennedy werd vermoord in opdracht van de CIA'\n",
      " 'De aanslagen van 9/11 in NY werden niet door terroristen gepleegd;In 1947 is er in Roswell, New Mexico, een UFO neergestort in de woestijn.;De uitlaatgassen van vliegtuigen bevatten chemicaliën die gebruikt worden om het weer te beïnvloeden;De Holocaust heeft wel plaats gehad, maar was veel minder erg dan de geschiedenisboeken ons vertellen;AIDS werd in labo gemaakt;Geen enkele bewering is aannemelijk'\n",
      " 'Prinses Diana kwam niet per ongeluk om het leven;De tsunami van 2004 in de Indische Oceaan was het gevolg van een nucleair experiment'\n",
      " 'De wereld wordt eigenlijk gecontroleerd door een geheime elite;De tsunami van 2004 in de Indische Oceaan was het gevolg van een nucleair experiment']\n"
     ]
    }
   ],
   "source": [
    "# beweringen omzetten naar kolommen\n",
    "beweringen = enquete.beweringen\n",
    "print(beweringen.unique())\n",
    "# nah, another time :-)"
   ],
   "metadata": {
    "collapsed": false
   }
  },
  {
   "cell_type": "code",
   "execution_count": 30,
   "outputs": [
    {
     "name": "stdout",
     "output_type": "stream",
     "text": [
      "['Categorie A: Motorfietsen.;Categorie B: Wagens.;Categorie D: Bussen.'\n",
      " 'Categorie B: Wagens.'\n",
      " 'Categorie AM: Bromfietsen met een maximumsnelheid tussen 25 en 45 km/u.;Categorie B: Wagens.'\n",
      " 'Categorie D: Bussen.' 'Categorie G: Landbouwvoertuigen.'\n",
      " 'Categorie AM: Bromfietsen met een maximumsnelheid tussen 25 en 45 km/u.'\n",
      " 'Categorie AM: Bromfietsen met een maximumsnelheid tussen 25 en 45 km/u.;Categorie A: Motorfietsen.;Categorie B: Wagens.;Categorie C: Vrachtwagens.;Categorie D: Bussen.;Categorie G: Landbouwvoertuigen.'\n",
      " 'Categorie B: Wagens.;Categorie G: Landbouwvoertuigen.' 'Geen'\n",
      " 'Categorie AM: Bromfietsen met een maximumsnelheid tussen 25 en 45 km/u.;Categorie A: Motorfietsen.;Categorie B: Wagens.']\n"
     ]
    }
   ],
   "source": [
    "rijbewijzen = enquete.rijbewijzen\n",
    "print(rijbewijzen.unique())"
   ],
   "metadata": {
    "collapsed": false
   }
  },
  {
   "cell_type": "code",
   "execution_count": 31,
   "outputs": [
    {
     "name": "stdout",
     "output_type": "stream",
     "text": [
      "['Categorie A: Motorfietsen.', 'Categorie B: Wagens.', 'Categorie D: Bussen.']\n",
      "['Categorie B: Wagens.']\n"
     ]
    }
   ],
   "source": [
    "# rijbewijzen opsplitsen in verschillende kolommen\n",
    "mogelijkheden = ['Categorie AM: Bromfietsen met een maximumsnelheid tussen 25 en 45 km/u.', 'Categorie A: Motorfietsen.', 'Categorie B: Wagens.', 'Categorie C: Vrachtwagens.', 'Categorie D: Bussen.', 'Categorie G: Landbouwvoertuigen.', 'Geen']\n",
    "rijbewijzen = enquete.rijbewijzen.str.split(';').to_list()\n",
    "print(rijbewijzen[0])\n",
    "print(rijbewijzen[1])"
   ],
   "metadata": {
    "collapsed": false
   }
  },
  {
   "cell_type": "code",
   "execution_count": 32,
   "outputs": [
    {
     "name": "stdout",
     "output_type": "stream",
     "text": [
      "<class 'pandas.core.frame.DataFrame'>\n",
      "Int64Index: 105 entries, 0 to 109\n",
      "Data columns (total 36 columns):\n",
      " #   Column                   Non-Null Count  Dtype   \n",
      "---  ------                   --------------  -----   \n",
      " 0   gapminder                105 non-null    float64 \n",
      " 1   schrijfhand              105 non-null    category\n",
      " 2   schoenmaat               105 non-null    float64 \n",
      " 3   lengte                   105 non-null    int64   \n",
      " 4   bloedgroep               65 non-null     category\n",
      " 5   resus                    63 non-null     category\n",
      " 6   siblings                 105 non-null    int64   \n",
      " 7   beweringen               105 non-null    object  \n",
      " 8   domicilie                105 non-null    object  \n",
      " 9   afstudeerrichting        105 non-null    object  \n",
      " 10  vrijetijd                105 non-null    object  \n",
      " 11  uren_wiskunde            105 non-null    int64   \n",
      " 12  informatica_belangrijk   105 non-null    object  \n",
      " 13  uur_schoolwerk_per_week  105 non-null    object  \n",
      " 14  afstand                  105 non-null    float64 \n",
      " 15  vervoermiddel            105 non-null    object  \n",
      " 16  opwarming                105 non-null    object  \n",
      " 17  zakgeld_per_maand        105 non-null    float64 \n",
      " 18  stukken_fruit            105 non-null    int64   \n",
      " 19  besturingsysteem         105 non-null    object  \n",
      " 20  app                      105 non-null    object  \n",
      " 21  welzijn                  105 non-null    int64   \n",
      " 22  gelijke_middelen         105 non-null    int64   \n",
      " 23  loyaliteit               105 non-null    int64   \n",
      " 24  respect                  105 non-null    int64   \n",
      " 25  geloof                   105 non-null    int64   \n",
      " 26  vrijheid                 105 non-null    int64   \n",
      " 27  zwaarste_vak             105 non-null    object  \n",
      " 28  boeiendste_vak           105 non-null    object  \n",
      " 29  studiepunt               105 non-null    int64   \n",
      " 30  rijbewijsAM              105 non-null    bool    \n",
      " 31  rijbewijsA               105 non-null    bool    \n",
      " 32  rijbewijsB               105 non-null    bool    \n",
      " 33  rijbewijsC               105 non-null    bool    \n",
      " 34  rijbewijsD               105 non-null    bool    \n",
      " 35  rijbewijsG               105 non-null    bool    \n",
      "dtypes: bool(6), category(3), float64(4), int64(11), object(12)\n",
      "memory usage: 24.3+ KB\n"
     ]
    }
   ],
   "source": [
    "rijbewijsAM = []\n",
    "rijbewijsA = []\n",
    "rijbewijsB = []\n",
    "rijbewijsC = []\n",
    "rijbewijsD = []\n",
    "rijbewijsG = []\n",
    "for i in range(len(rijbewijzen)):\n",
    "    rijbewijsAM.append(mogelijkheden[0] in rijbewijzen[i])\n",
    "    rijbewijsA.append(mogelijkheden[1] in rijbewijzen[i])\n",
    "    rijbewijsB.append(mogelijkheden[2] in rijbewijzen[i])\n",
    "    rijbewijsC.append(mogelijkheden[3] in rijbewijzen[i])\n",
    "    rijbewijsD.append(mogelijkheden[4] in rijbewijzen[i])\n",
    "    rijbewijsG.append(mogelijkheden[5] in rijbewijzen[i])\n",
    "enquete.drop(columns=['rijbewijzen'], inplace=True)\n",
    "enquete['rijbewijsAM'] = rijbewijsAM\n",
    "enquete['rijbewijsA'] = rijbewijsA\n",
    "enquete['rijbewijsB'] = rijbewijsB\n",
    "enquete['rijbewijsC'] = rijbewijsC\n",
    "enquete['rijbewijsD'] = rijbewijsD\n",
    "enquete['rijbewijsG'] = rijbewijsG\n",
    "enquete.info()"
   ],
   "metadata": {
    "collapsed": false
   }
  },
  {
   "cell_type": "code",
   "execution_count": 33,
   "outputs": [
    {
     "name": "stdout",
     "output_type": "stream",
     "text": [
      "['in een stad'\n",
      " 'buiten de stad (een dorp, een gehucht, het platteland, ...)']\n"
     ]
    }
   ],
   "source": [
    "domicilie = enquete.domicilie\n",
    "print(domicilie.unique())"
   ],
   "metadata": {
    "collapsed": false
   }
  },
  {
   "cell_type": "code",
   "execution_count": 34,
   "outputs": [
    {
     "name": "stdout",
     "output_type": "stream",
     "text": [
      "['in een stad', 'buiten de stad (een dorp, een gehucht, het pl..., 'in een stad', 'buiten de stad (een dorp, een gehucht, het pl..., 'buiten de stad (een dorp, een gehucht, het pl..., ..., 'buiten de stad (een dorp, een gehucht, het pl..., 'buiten de stad (een dorp, een gehucht, het pl..., 'buiten de stad (een dorp, een gehucht, het pl..., 'in een stad', 'in een stad']\n",
      "Length: 105\n",
      "Categories (2, object): ['buiten de stad (een dorp, een gehucht, het pl..., 'in een stad']\n"
     ]
    }
   ],
   "source": [
    "# domicilie omzetten naar categorical\n",
    "domicilie = pd.Categorical(domicilie)\n",
    "print(domicilie)"
   ],
   "metadata": {
    "collapsed": false
   }
  },
  {
   "cell_type": "code",
   "execution_count": 35,
   "outputs": [
    {
     "name": "stdout",
     "output_type": "stream",
     "text": [
      "['in een stad', 'buiten de stad', 'in een stad', 'buiten de stad', 'buiten de stad', ..., 'buiten de stad', 'buiten de stad', 'buiten de stad', 'in een stad', 'in een stad']\n",
      "Length: 105\n",
      "Categories (2, object): ['buiten de stad', 'in een stad']\n"
     ]
    }
   ],
   "source": [
    "domicilie = domicilie.rename_categories(['buiten de stad', 'in een stad'])\n",
    "print(domicilie)"
   ],
   "metadata": {
    "collapsed": false
   }
  },
  {
   "cell_type": "code",
   "execution_count": 36,
   "outputs": [
    {
     "name": "stdout",
     "output_type": "stream",
     "text": [
      "<class 'pandas.core.frame.DataFrame'>\n",
      "Int64Index: 105 entries, 0 to 109\n",
      "Data columns (total 36 columns):\n",
      " #   Column                   Non-Null Count  Dtype   \n",
      "---  ------                   --------------  -----   \n",
      " 0   gapminder                105 non-null    float64 \n",
      " 1   schrijfhand              105 non-null    category\n",
      " 2   schoenmaat               105 non-null    float64 \n",
      " 3   lengte                   105 non-null    int64   \n",
      " 4   bloedgroep               65 non-null     category\n",
      " 5   resus                    63 non-null     category\n",
      " 6   siblings                 105 non-null    int64   \n",
      " 7   beweringen               105 non-null    object  \n",
      " 8   domicilie                105 non-null    category\n",
      " 9   afstudeerrichting        105 non-null    object  \n",
      " 10  vrijetijd                105 non-null    object  \n",
      " 11  uren_wiskunde            105 non-null    int64   \n",
      " 12  informatica_belangrijk   105 non-null    object  \n",
      " 13  uur_schoolwerk_per_week  105 non-null    object  \n",
      " 14  afstand                  105 non-null    float64 \n",
      " 15  vervoermiddel            105 non-null    object  \n",
      " 16  opwarming                105 non-null    object  \n",
      " 17  zakgeld_per_maand        105 non-null    float64 \n",
      " 18  stukken_fruit            105 non-null    int64   \n",
      " 19  besturingsysteem         105 non-null    object  \n",
      " 20  app                      105 non-null    object  \n",
      " 21  welzijn                  105 non-null    int64   \n",
      " 22  gelijke_middelen         105 non-null    int64   \n",
      " 23  loyaliteit               105 non-null    int64   \n",
      " 24  respect                  105 non-null    int64   \n",
      " 25  geloof                   105 non-null    int64   \n",
      " 26  vrijheid                 105 non-null    int64   \n",
      " 27  zwaarste_vak             105 non-null    object  \n",
      " 28  boeiendste_vak           105 non-null    object  \n",
      " 29  studiepunt               105 non-null    int64   \n",
      " 30  rijbewijsAM              105 non-null    bool    \n",
      " 31  rijbewijsA               105 non-null    bool    \n",
      " 32  rijbewijsB               105 non-null    bool    \n",
      " 33  rijbewijsC               105 non-null    bool    \n",
      " 34  rijbewijsD               105 non-null    bool    \n",
      " 35  rijbewijsG               105 non-null    bool    \n",
      "dtypes: bool(6), category(4), float64(4), int64(11), object(11)\n",
      "memory usage: 23.7+ KB\n"
     ]
    }
   ],
   "source": [
    "enquete.domicilie = domicilie\n",
    "enquete.info()"
   ],
   "metadata": {
    "collapsed": false
   }
  },
  {
   "cell_type": "code",
   "execution_count": 37,
   "outputs": [
    {
     "name": "stdout",
     "output_type": "stream",
     "text": [
      "['Artificial Intelligence' 'Applicatieontwikkeling'\n",
      " 'Systeem en netwerkbeheer' 'Software Management']\n"
     ]
    }
   ],
   "source": [
    "afstudeerrichting = enquete.afstudeerrichting\n",
    "print(afstudeerrichting.unique())"
   ],
   "metadata": {
    "collapsed": false
   }
  },
  {
   "cell_type": "code",
   "execution_count": 38,
   "outputs": [
    {
     "name": "stdout",
     "output_type": "stream",
     "text": [
      "<class 'pandas.core.frame.DataFrame'>\n",
      "Int64Index: 105 entries, 0 to 109\n",
      "Data columns (total 36 columns):\n",
      " #   Column                   Non-Null Count  Dtype   \n",
      "---  ------                   --------------  -----   \n",
      " 0   gapminder                105 non-null    float64 \n",
      " 1   schrijfhand              105 non-null    category\n",
      " 2   schoenmaat               105 non-null    float64 \n",
      " 3   lengte                   105 non-null    int64   \n",
      " 4   bloedgroep               65 non-null     category\n",
      " 5   resus                    63 non-null     category\n",
      " 6   siblings                 105 non-null    int64   \n",
      " 7   beweringen               105 non-null    object  \n",
      " 8   domicilie                105 non-null    category\n",
      " 9   afstudeerrichting        105 non-null    category\n",
      " 10  vrijetijd                105 non-null    object  \n",
      " 11  uren_wiskunde            105 non-null    int64   \n",
      " 12  informatica_belangrijk   105 non-null    object  \n",
      " 13  uur_schoolwerk_per_week  105 non-null    object  \n",
      " 14  afstand                  105 non-null    float64 \n",
      " 15  vervoermiddel            105 non-null    object  \n",
      " 16  opwarming                105 non-null    object  \n",
      " 17  zakgeld_per_maand        105 non-null    float64 \n",
      " 18  stukken_fruit            105 non-null    int64   \n",
      " 19  besturingsysteem         105 non-null    object  \n",
      " 20  app                      105 non-null    object  \n",
      " 21  welzijn                  105 non-null    int64   \n",
      " 22  gelijke_middelen         105 non-null    int64   \n",
      " 23  loyaliteit               105 non-null    int64   \n",
      " 24  respect                  105 non-null    int64   \n",
      " 25  geloof                   105 non-null    int64   \n",
      " 26  vrijheid                 105 non-null    int64   \n",
      " 27  zwaarste_vak             105 non-null    object  \n",
      " 28  boeiendste_vak           105 non-null    object  \n",
      " 29  studiepunt               105 non-null    int64   \n",
      " 30  rijbewijsAM              105 non-null    bool    \n",
      " 31  rijbewijsA               105 non-null    bool    \n",
      " 32  rijbewijsB               105 non-null    bool    \n",
      " 33  rijbewijsC               105 non-null    bool    \n",
      " 34  rijbewijsD               105 non-null    bool    \n",
      " 35  rijbewijsG               105 non-null    bool    \n",
      "dtypes: bool(6), category(5), float64(4), int64(11), object(10)\n",
      "memory usage: 23.2+ KB\n"
     ]
    }
   ],
   "source": [
    "# afstudeerrichting omzetten naar categorical\n",
    "afstudeerrichting = pd.Categorical(afstudeerrichting)\n",
    "enquete.afstudeerrichting = afstudeerrichting\n",
    "enquete.info()"
   ],
   "metadata": {
    "collapsed": false
   }
  },
  {
   "cell_type": "code",
   "execution_count": 39,
   "outputs": [
    {
     "name": "stdout",
     "output_type": "stream",
     "text": [
      "['Lezen' 'Gamen' 'Dansen' 'Andere' 'Sport (beoefenen/supporteren)'\n",
      " 'Internet/Social Media' 'Shoppen' 'Film/TV-series'\n",
      " 'Muziek (bespelen/luisteren)' 'Jeugdbeweging']\n"
     ]
    }
   ],
   "source": [
    "vrijetijd = enquete.vrijetijd\n",
    "print(vrijetijd.unique())"
   ],
   "metadata": {
    "collapsed": false
   }
  },
  {
   "cell_type": "code",
   "execution_count": 40,
   "outputs": [
    {
     "name": "stdout",
     "output_type": "stream",
     "text": [
      "<class 'pandas.core.frame.DataFrame'>\n",
      "Int64Index: 105 entries, 0 to 109\n",
      "Data columns (total 36 columns):\n",
      " #   Column                   Non-Null Count  Dtype   \n",
      "---  ------                   --------------  -----   \n",
      " 0   gapminder                105 non-null    float64 \n",
      " 1   schrijfhand              105 non-null    category\n",
      " 2   schoenmaat               105 non-null    float64 \n",
      " 3   lengte                   105 non-null    int64   \n",
      " 4   bloedgroep               65 non-null     category\n",
      " 5   resus                    63 non-null     category\n",
      " 6   siblings                 105 non-null    int64   \n",
      " 7   beweringen               105 non-null    object  \n",
      " 8   domicilie                105 non-null    category\n",
      " 9   afstudeerrichting        105 non-null    category\n",
      " 10  vrijetijd                105 non-null    category\n",
      " 11  uren_wiskunde            105 non-null    int64   \n",
      " 12  informatica_belangrijk   105 non-null    object  \n",
      " 13  uur_schoolwerk_per_week  105 non-null    object  \n",
      " 14  afstand                  105 non-null    float64 \n",
      " 15  vervoermiddel            105 non-null    object  \n",
      " 16  opwarming                105 non-null    object  \n",
      " 17  zakgeld_per_maand        105 non-null    float64 \n",
      " 18  stukken_fruit            105 non-null    int64   \n",
      " 19  besturingsysteem         105 non-null    object  \n",
      " 20  app                      105 non-null    object  \n",
      " 21  welzijn                  105 non-null    int64   \n",
      " 22  gelijke_middelen         105 non-null    int64   \n",
      " 23  loyaliteit               105 non-null    int64   \n",
      " 24  respect                  105 non-null    int64   \n",
      " 25  geloof                   105 non-null    int64   \n",
      " 26  vrijheid                 105 non-null    int64   \n",
      " 27  zwaarste_vak             105 non-null    object  \n",
      " 28  boeiendste_vak           105 non-null    object  \n",
      " 29  studiepunt               105 non-null    int64   \n",
      " 30  rijbewijsAM              105 non-null    bool    \n",
      " 31  rijbewijsA               105 non-null    bool    \n",
      " 32  rijbewijsB               105 non-null    bool    \n",
      " 33  rijbewijsC               105 non-null    bool    \n",
      " 34  rijbewijsD               105 non-null    bool    \n",
      " 35  rijbewijsG               105 non-null    bool    \n",
      "dtypes: bool(6), category(6), float64(4), int64(11), object(9)\n",
      "memory usage: 22.9+ KB\n"
     ]
    }
   ],
   "source": [
    "# vrijetijd omzetten naar categorical\n",
    "vrijetijd = pd.Categorical(vrijetijd)\n",
    "enquete.vrijetijd = vrijetijd\n",
    "enquete.info()"
   ],
   "metadata": {
    "collapsed": false
   }
  },
  {
   "cell_type": "code",
   "execution_count": 41,
   "outputs": [
    {
     "name": "stdout",
     "output_type": "stream",
     "text": [
      "['Extreem' 'Matig' 'Groot' 'Niet' 'Zeer Groot' 'Weinig']\n"
     ]
    }
   ],
   "source": [
    "belangrijk = enquete.informatica_belangrijk\n",
    "print(belangrijk.unique())"
   ],
   "metadata": {
    "collapsed": false
   }
  },
  {
   "cell_type": "code",
   "execution_count": 42,
   "outputs": [
    {
     "name": "stdout",
     "output_type": "stream",
     "text": [
      "<class 'pandas.core.frame.DataFrame'>\n",
      "Int64Index: 105 entries, 0 to 109\n",
      "Data columns (total 36 columns):\n",
      " #   Column                   Non-Null Count  Dtype   \n",
      "---  ------                   --------------  -----   \n",
      " 0   gapminder                105 non-null    float64 \n",
      " 1   schrijfhand              105 non-null    category\n",
      " 2   schoenmaat               105 non-null    float64 \n",
      " 3   lengte                   105 non-null    int64   \n",
      " 4   bloedgroep               65 non-null     category\n",
      " 5   resus                    63 non-null     category\n",
      " 6   siblings                 105 non-null    int64   \n",
      " 7   beweringen               105 non-null    object  \n",
      " 8   domicilie                105 non-null    category\n",
      " 9   afstudeerrichting        105 non-null    category\n",
      " 10  vrijetijd                105 non-null    category\n",
      " 11  uren_wiskunde            105 non-null    int64   \n",
      " 12  informatica_belangrijk   105 non-null    category\n",
      " 13  uur_schoolwerk_per_week  105 non-null    object  \n",
      " 14  afstand                  105 non-null    float64 \n",
      " 15  vervoermiddel            105 non-null    object  \n",
      " 16  opwarming                105 non-null    object  \n",
      " 17  zakgeld_per_maand        105 non-null    float64 \n",
      " 18  stukken_fruit            105 non-null    int64   \n",
      " 19  besturingsysteem         105 non-null    object  \n",
      " 20  app                      105 non-null    object  \n",
      " 21  welzijn                  105 non-null    int64   \n",
      " 22  gelijke_middelen         105 non-null    int64   \n",
      " 23  loyaliteit               105 non-null    int64   \n",
      " 24  respect                  105 non-null    int64   \n",
      " 25  geloof                   105 non-null    int64   \n",
      " 26  vrijheid                 105 non-null    int64   \n",
      " 27  zwaarste_vak             105 non-null    object  \n",
      " 28  boeiendste_vak           105 non-null    object  \n",
      " 29  studiepunt               105 non-null    int64   \n",
      " 30  rijbewijsAM              105 non-null    bool    \n",
      " 31  rijbewijsA               105 non-null    bool    \n",
      " 32  rijbewijsB               105 non-null    bool    \n",
      " 33  rijbewijsC               105 non-null    bool    \n",
      " 34  rijbewijsD               105 non-null    bool    \n",
      " 35  rijbewijsG               105 non-null    bool    \n",
      "dtypes: bool(6), category(7), float64(4), int64(11), object(8)\n",
      "memory usage: 22.4+ KB\n"
     ]
    }
   ],
   "source": [
    "# informatica belangrijk naar categorical\n",
    "juiste_volgorde = ['Niet', 'Weinig', 'Matig', 'Groot', 'Zeer Groot', 'Extreem']\n",
    "belangrijk = pd.Categorical(belangrijk, categories=juiste_volgorde, ordered=True)\n",
    "enquete.informatica_belangrijk = belangrijk\n",
    "enquete.info()"
   ],
   "metadata": {
    "collapsed": false
   }
  },
  {
   "cell_type": "code",
   "execution_count": 43,
   "outputs": [
    {
     "name": "stdout",
     "output_type": "stream",
     "text": [
      "['23:27' '02:00' '12:30' '07:00' '04:30' '04:00' '03:00' '09:00' '10:00'\n",
      " '11:00' '06:30' '15:00' '16:00' '00:45' '08:20' '23:00' '01:15' '08:00'\n",
      " '00:10' '06:00' '10:30' '00:00' '12:00' '00:05' '05:30' '05:00' '22:00'\n",
      " '01:00' '18:00' '20:00' '02:30' '26:34' '14:00' '10:20' '15:30' '24:00'\n",
      " '01:30']\n"
     ]
    }
   ],
   "source": [
    "uurMinuut = enquete.uur_schoolwerk_per_week\n",
    "print(uurMinuut.unique())"
   ],
   "metadata": {
    "collapsed": false
   }
  },
  {
   "cell_type": "code",
   "execution_count": 44,
   "outputs": [
    {
     "name": "stdout",
     "output_type": "stream",
     "text": [
      "<class 'pandas.core.frame.DataFrame'>\n",
      "Int64Index: 105 entries, 0 to 109\n",
      "Data columns (total 36 columns):\n",
      " #   Column                  Non-Null Count  Dtype   \n",
      "---  ------                  --------------  -----   \n",
      " 0   gapminder               105 non-null    float64 \n",
      " 1   schrijfhand             105 non-null    category\n",
      " 2   schoenmaat              105 non-null    float64 \n",
      " 3   lengte                  105 non-null    int64   \n",
      " 4   bloedgroep              65 non-null     category\n",
      " 5   resus                   63 non-null     category\n",
      " 6   siblings                105 non-null    int64   \n",
      " 7   beweringen              105 non-null    object  \n",
      " 8   domicilie               105 non-null    category\n",
      " 9   afstudeerrichting       105 non-null    category\n",
      " 10  vrijetijd               105 non-null    category\n",
      " 11  uren_wiskunde           105 non-null    int64   \n",
      " 12  informatica_belangrijk  105 non-null    category\n",
      " 13  afstand                 105 non-null    float64 \n",
      " 14  vervoermiddel           105 non-null    object  \n",
      " 15  opwarming               105 non-null    object  \n",
      " 16  zakgeld_per_maand       105 non-null    float64 \n",
      " 17  stukken_fruit           105 non-null    int64   \n",
      " 18  besturingsysteem        105 non-null    object  \n",
      " 19  app                     105 non-null    object  \n",
      " 20  welzijn                 105 non-null    int64   \n",
      " 21  gelijke_middelen        105 non-null    int64   \n",
      " 22  loyaliteit              105 non-null    int64   \n",
      " 23  respect                 105 non-null    int64   \n",
      " 24  geloof                  105 non-null    int64   \n",
      " 25  vrijheid                105 non-null    int64   \n",
      " 26  zwaarste_vak            105 non-null    object  \n",
      " 27  boeiendste_vak          105 non-null    object  \n",
      " 28  studiepunt              105 non-null    int64   \n",
      " 29  rijbewijsAM             105 non-null    bool    \n",
      " 30  rijbewijsA              105 non-null    bool    \n",
      " 31  rijbewijsB              105 non-null    bool    \n",
      " 32  rijbewijsC              105 non-null    bool    \n",
      " 33  rijbewijsD              105 non-null    bool    \n",
      " 34  rijbewijsG              105 non-null    bool    \n",
      " 35  schoolwerk_per_week     105 non-null    int64   \n",
      "dtypes: bool(6), category(7), float64(4), int64(12), object(7)\n",
      "memory usage: 22.4+ KB\n"
     ]
    }
   ],
   "source": [
    "# uurMinuut omzetten naar minuten\n",
    "uurMinuut = uurMinuut.str.split(':').to_list()\n",
    "minuten = []\n",
    "for i in range(len(uurMinuut)):\n",
    "    minuten.append(int(uurMinuut[i][0]) * 60 + int(uurMinuut[i][1]))\n",
    "enquete.drop(columns=['uur_schoolwerk_per_week'], inplace=True)\n",
    "enquete['schoolwerk_per_week'] = minuten\n",
    "enquete.info()"
   ],
   "metadata": {
    "collapsed": false
   }
  },
  {
   "cell_type": "code",
   "execution_count": 45,
   "outputs": [
    {
     "name": "stdout",
     "output_type": "stream",
     "text": [
      "['Te voet;Met de fiets' 'Met de tram;Met de auto' 'Met de fiets'\n",
      " 'Met de trein;Met de tram;Met de bus'\n",
      " 'Met de trein;Met de tram;Met de auto' 'Te voet;Met de trein;Met de tram'\n",
      " 'Met de tram;Met de bus' 'Te voet;Met de fiets;Met de tram'\n",
      " 'Met de trein;Met de tram' 'Met de tram'\n",
      " 'Te voet;Met de fiets;Met de tram;Met de bus;Met de auto' 'Te voet'\n",
      " 'Met de fiets;Met de tram;Met de bus' 'Met de fiets;Met de trein'\n",
      " 'Met de trein' 'Te voet;Met de fiets;Met de trein;Met de tram;Met de bus'\n",
      " 'Te voet;Met de tram;Met de bus'\n",
      " 'Te voet;Met de fiets;Met de trein;Met de tram' 'Met de bus'\n",
      " 'Met de fiets;Met de trein;Met de tram' 'Met de trein;Met de auto'\n",
      " 'Andere' 'Met de fiets;Met de tram' 'Met de trein;Andere'\n",
      " 'Met de tram;Andere' 'Met de bus;Andere'\n",
      " 'Te voet;Met de tram;Met de auto' 'Te voet;Met de tram'\n",
      " 'Met de fiets;Met de auto' 'Met de bus;Met de auto']\n"
     ]
    }
   ],
   "source": [
    "vervoermiddel = enquete.vervoermiddel\n",
    "print(vervoermiddel.unique())"
   ],
   "metadata": {
    "collapsed": false
   }
  },
  {
   "cell_type": "code",
   "execution_count": 46,
   "outputs": [
    {
     "name": "stdout",
     "output_type": "stream",
     "text": [
      "<class 'pandas.core.frame.DataFrame'>\n",
      "Int64Index: 105 entries, 0 to 109\n",
      "Data columns (total 41 columns):\n",
      " #   Column                  Non-Null Count  Dtype   \n",
      "---  ------                  --------------  -----   \n",
      " 0   gapminder               105 non-null    float64 \n",
      " 1   schrijfhand             105 non-null    category\n",
      " 2   schoenmaat              105 non-null    float64 \n",
      " 3   lengte                  105 non-null    int64   \n",
      " 4   bloedgroep              65 non-null     category\n",
      " 5   resus                   63 non-null     category\n",
      " 6   siblings                105 non-null    int64   \n",
      " 7   beweringen              105 non-null    object  \n",
      " 8   domicilie               105 non-null    category\n",
      " 9   afstudeerrichting       105 non-null    category\n",
      " 10  vrijetijd               105 non-null    category\n",
      " 11  uren_wiskunde           105 non-null    int64   \n",
      " 12  informatica_belangrijk  105 non-null    category\n",
      " 13  afstand                 105 non-null    float64 \n",
      " 14  opwarming               105 non-null    object  \n",
      " 15  zakgeld_per_maand       105 non-null    float64 \n",
      " 16  stukken_fruit           105 non-null    int64   \n",
      " 17  besturingsysteem        105 non-null    object  \n",
      " 18  app                     105 non-null    object  \n",
      " 19  welzijn                 105 non-null    int64   \n",
      " 20  gelijke_middelen        105 non-null    int64   \n",
      " 21  loyaliteit              105 non-null    int64   \n",
      " 22  respect                 105 non-null    int64   \n",
      " 23  geloof                  105 non-null    int64   \n",
      " 24  vrijheid                105 non-null    int64   \n",
      " 25  zwaarste_vak            105 non-null    object  \n",
      " 26  boeiendste_vak          105 non-null    object  \n",
      " 27  studiepunt              105 non-null    int64   \n",
      " 28  rijbewijsAM             105 non-null    bool    \n",
      " 29  rijbewijsA              105 non-null    bool    \n",
      " 30  rijbewijsB              105 non-null    bool    \n",
      " 31  rijbewijsC              105 non-null    bool    \n",
      " 32  rijbewijsD              105 non-null    bool    \n",
      " 33  rijbewijsG              105 non-null    bool    \n",
      " 34  schoolwerk_per_week     105 non-null    int64   \n",
      " 35  vervoer_te_voet         105 non-null    bool    \n",
      " 36  vervoer_fiets           105 non-null    bool    \n",
      " 37  vervoer_tram            105 non-null    bool    \n",
      " 38  vervoer_auto            105 non-null    bool    \n",
      " 39  vervoer_trein           105 non-null    bool    \n",
      " 40  vervoer_bus             105 non-null    bool    \n",
      "dtypes: bool(12), category(7), float64(4), int64(12), object(6)\n",
      "memory usage: 22.2+ KB\n"
     ]
    }
   ],
   "source": [
    "# vervoermiddel omzetten naar verschillende kolommen\n",
    "mogelijkheden = ['Te voet', 'Met de fiets', 'Met de tram', 'Met de auto', 'Met de trein', 'Met de bus']\n",
    "vervoer = vervoermiddel.str.split(';').to_list()\n",
    "vervoer_te_voet = []\n",
    "vervoer_fiets = []\n",
    "vervoer_tram = []\n",
    "vervoer_auto = []\n",
    "vervoer_trein = []\n",
    "vervoer_bus = []\n",
    "for i in range(len(vervoer)):\n",
    "    vervoer_te_voet.append(mogelijkheden[0] in vervoer[i])\n",
    "    vervoer_fiets.append(mogelijkheden[1] in vervoer[i])\n",
    "    vervoer_tram.append(mogelijkheden[2] in vervoer[i])\n",
    "    vervoer_auto.append(mogelijkheden[3] in vervoer[i])\n",
    "    vervoer_trein.append(mogelijkheden[4] in vervoer[i])\n",
    "    vervoer_bus.append(mogelijkheden[5] in vervoer[i])\n",
    "enquete.drop(columns=['vervoermiddel'], inplace=True)\n",
    "enquete['vervoer_te_voet'] = vervoer_te_voet\n",
    "enquete['vervoer_fiets'] = vervoer_fiets\n",
    "enquete['vervoer_tram'] = vervoer_tram\n",
    "enquete['vervoer_auto'] = vervoer_auto\n",
    "enquete['vervoer_trein'] = vervoer_trein\n",
    "enquete['vervoer_bus'] = vervoer_bus\n",
    "enquete.info()"
   ],
   "metadata": {
    "collapsed": false
   }
  },
  {
   "cell_type": "code",
   "execution_count": 47,
   "outputs": [
    {
     "name": "stdout",
     "output_type": "stream",
     "text": [
      "['2028-04-01' '2035-01-01' '2040-01-01' '2030-07-27' '2030-11-29'\n",
      " '2030-12-01' '2050-01-01' '2073-01-01' '2120-01-01' '2050-02-09'\n",
      " '2030-12-30' '2030-01-01' '2032-05-27' '2055-01-01' '2028-01-10'\n",
      " '2027-10-31' '2050-01-10' '2065-01-10' '2050-11-30' '2025-06-10'\n",
      " '2023-02-11' '2040-02-10' '2030-06-05' '2030-11-09' '2013-02-28'\n",
      " '2031-01-10' '2060-01-01' '2067-06-03' '2024-09-11' '2072-12-31'\n",
      " '2024-05-10' '2110-01-09' '2036-03-21' '2062-03-31' '2050-01-11'\n",
      " '2030-03-22' '2050-12-06' '2020-02-01' '2050-06-22' '2070-02-02'\n",
      " '2032-05-17' '2100-01-01' '2025-02-16' '2032-10-05' '2500-12-12'\n",
      " '2023-02-16' '2045-01-16' '2037-07-11' '2023-12-16' '2025-03-16'\n",
      " '2024-10-20' '2023-03-07' '2050-02-01' '2025-01-01' '2030-07-16'\n",
      " '2300-01-01' '2035-06-01' '2026-09-07' '2026-03-18' '2026-04-17'\n",
      " '2029-02-27' '2036-01-01' '2024-01-15' '2065-01-01' '2045-02-13'\n",
      " '2030-08-27' '2026-02-13' '2025-02-27' '2035-06-24' '2028-08-28'\n",
      " '2045-01-01']\n"
     ]
    }
   ],
   "source": [
    "opwarming = enquete.opwarming\n",
    "print(opwarming.unique())"
   ],
   "metadata": {
    "collapsed": false
   }
  },
  {
   "cell_type": "code",
   "execution_count": 48,
   "outputs": [
    {
     "name": "stdout",
     "output_type": "stream",
     "text": [
      "<class 'pandas.core.frame.DataFrame'>\n",
      "Int64Index: 105 entries, 0 to 109\n",
      "Data columns (total 41 columns):\n",
      " #   Column                  Non-Null Count  Dtype   \n",
      "---  ------                  --------------  -----   \n",
      " 0   gapminder               105 non-null    float64 \n",
      " 1   schrijfhand             105 non-null    category\n",
      " 2   schoenmaat              105 non-null    float64 \n",
      " 3   lengte                  105 non-null    int64   \n",
      " 4   bloedgroep              65 non-null     category\n",
      " 5   resus                   63 non-null     category\n",
      " 6   siblings                105 non-null    int64   \n",
      " 7   beweringen              105 non-null    object  \n",
      " 8   domicilie               105 non-null    category\n",
      " 9   afstudeerrichting       105 non-null    category\n",
      " 10  vrijetijd               105 non-null    category\n",
      " 11  uren_wiskunde           105 non-null    int64   \n",
      " 12  informatica_belangrijk  105 non-null    category\n",
      " 13  afstand                 105 non-null    float64 \n",
      " 14  opwarming               105 non-null    int64   \n",
      " 15  zakgeld_per_maand       105 non-null    float64 \n",
      " 16  stukken_fruit           105 non-null    int64   \n",
      " 17  besturingsysteem        105 non-null    object  \n",
      " 18  app                     105 non-null    object  \n",
      " 19  welzijn                 105 non-null    int64   \n",
      " 20  gelijke_middelen        105 non-null    int64   \n",
      " 21  loyaliteit              105 non-null    int64   \n",
      " 22  respect                 105 non-null    int64   \n",
      " 23  geloof                  105 non-null    int64   \n",
      " 24  vrijheid                105 non-null    int64   \n",
      " 25  zwaarste_vak            105 non-null    object  \n",
      " 26  boeiendste_vak          105 non-null    object  \n",
      " 27  studiepunt              105 non-null    int64   \n",
      " 28  rijbewijsAM             105 non-null    bool    \n",
      " 29  rijbewijsA              105 non-null    bool    \n",
      " 30  rijbewijsB              105 non-null    bool    \n",
      " 31  rijbewijsC              105 non-null    bool    \n",
      " 32  rijbewijsD              105 non-null    bool    \n",
      " 33  rijbewijsG              105 non-null    bool    \n",
      " 34  schoolwerk_per_week     105 non-null    int64   \n",
      " 35  vervoer_te_voet         105 non-null    bool    \n",
      " 36  vervoer_fiets           105 non-null    bool    \n",
      " 37  vervoer_tram            105 non-null    bool    \n",
      " 38  vervoer_auto            105 non-null    bool    \n",
      " 39  vervoer_trein           105 non-null    bool    \n",
      " 40  vervoer_bus             105 non-null    bool    \n",
      "dtypes: bool(12), category(7), float64(4), int64(13), object(5)\n",
      "memory usage: 22.2+ KB\n"
     ]
    }
   ],
   "source": [
    "# opwarming omzetten naar jaartal\n",
    "opwarming = opwarming.str.split('-').to_list()\n",
    "for i in range(len(opwarming)):\n",
    "    opwarming[i] = int(opwarming[i][0])\n",
    "enquete.opwarming = opwarming\n",
    "enquete.info()"
   ],
   "metadata": {
    "collapsed": false
   }
  },
  {
   "cell_type": "code",
   "execution_count": 49,
   "outputs": [
    {
     "name": "stdout",
     "output_type": "stream",
     "text": [
      "['Linux' 'Windows' 'iOS' 'Andere']\n"
     ]
    }
   ],
   "source": [
    "besturingsysteem = enquete.besturingsysteem\n",
    "print(besturingsysteem.unique())"
   ],
   "metadata": {
    "collapsed": false
   }
  },
  {
   "cell_type": "code",
   "execution_count": 50,
   "outputs": [
    {
     "name": "stdout",
     "output_type": "stream",
     "text": [
      "<class 'pandas.core.frame.DataFrame'>\n",
      "Int64Index: 105 entries, 0 to 109\n",
      "Data columns (total 41 columns):\n",
      " #   Column                  Non-Null Count  Dtype   \n",
      "---  ------                  --------------  -----   \n",
      " 0   gapminder               105 non-null    float64 \n",
      " 1   schrijfhand             105 non-null    category\n",
      " 2   schoenmaat              105 non-null    float64 \n",
      " 3   lengte                  105 non-null    int64   \n",
      " 4   bloedgroep              65 non-null     category\n",
      " 5   resus                   63 non-null     category\n",
      " 6   siblings                105 non-null    int64   \n",
      " 7   beweringen              105 non-null    object  \n",
      " 8   domicilie               105 non-null    category\n",
      " 9   afstudeerrichting       105 non-null    category\n",
      " 10  vrijetijd               105 non-null    category\n",
      " 11  uren_wiskunde           105 non-null    int64   \n",
      " 12  informatica_belangrijk  105 non-null    category\n",
      " 13  afstand                 105 non-null    float64 \n",
      " 14  opwarming               105 non-null    int64   \n",
      " 15  zakgeld_per_maand       105 non-null    float64 \n",
      " 16  stukken_fruit           105 non-null    int64   \n",
      " 17  besturingsysteem        105 non-null    category\n",
      " 18  app                     105 non-null    object  \n",
      " 19  welzijn                 105 non-null    int64   \n",
      " 20  gelijke_middelen        105 non-null    int64   \n",
      " 21  loyaliteit              105 non-null    int64   \n",
      " 22  respect                 105 non-null    int64   \n",
      " 23  geloof                  105 non-null    int64   \n",
      " 24  vrijheid                105 non-null    int64   \n",
      " 25  zwaarste_vak            105 non-null    object  \n",
      " 26  boeiendste_vak          105 non-null    object  \n",
      " 27  studiepunt              105 non-null    int64   \n",
      " 28  rijbewijsAM             105 non-null    bool    \n",
      " 29  rijbewijsA              105 non-null    bool    \n",
      " 30  rijbewijsB              105 non-null    bool    \n",
      " 31  rijbewijsC              105 non-null    bool    \n",
      " 32  rijbewijsD              105 non-null    bool    \n",
      " 33  rijbewijsG              105 non-null    bool    \n",
      " 34  schoolwerk_per_week     105 non-null    int64   \n",
      " 35  vervoer_te_voet         105 non-null    bool    \n",
      " 36  vervoer_fiets           105 non-null    bool    \n",
      " 37  vervoer_tram            105 non-null    bool    \n",
      " 38  vervoer_auto            105 non-null    bool    \n",
      " 39  vervoer_trein           105 non-null    bool    \n",
      " 40  vervoer_bus             105 non-null    bool    \n",
      "dtypes: bool(12), category(8), float64(4), int64(13), object(4)\n",
      "memory usage: 21.7+ KB\n"
     ]
    }
   ],
   "source": [
    "# besturingsysteem omzetten naar categorical\n",
    "besturingsysteem = pd.Categorical(besturingsysteem)\n",
    "enquete.besturingsysteem = besturingsysteem\n",
    "enquete.info()"
   ],
   "metadata": {
    "collapsed": false
   }
  },
  {
   "cell_type": "code",
   "execution_count": 51,
   "outputs": [
    {
     "name": "stdout",
     "output_type": "stream",
     "text": [
      "['Muziek App' 'Agenda App' 'Sociaal Netwerk App' 'Game App' 'Bank App'\n",
      " 'GPS App' 'Openbaar vervoer App' 'Podcast App' 'Andere App']\n"
     ]
    }
   ],
   "source": [
    "app = enquete.app\n",
    "print(app.unique())"
   ],
   "metadata": {
    "collapsed": false
   }
  },
  {
   "cell_type": "code",
   "execution_count": 52,
   "outputs": [
    {
     "name": "stdout",
     "output_type": "stream",
     "text": [
      "<class 'pandas.core.frame.DataFrame'>\n",
      "Int64Index: 105 entries, 0 to 109\n",
      "Data columns (total 41 columns):\n",
      " #   Column                  Non-Null Count  Dtype   \n",
      "---  ------                  --------------  -----   \n",
      " 0   gapminder               105 non-null    float64 \n",
      " 1   schrijfhand             105 non-null    category\n",
      " 2   schoenmaat              105 non-null    float64 \n",
      " 3   lengte                  105 non-null    int64   \n",
      " 4   bloedgroep              65 non-null     category\n",
      " 5   resus                   63 non-null     category\n",
      " 6   siblings                105 non-null    int64   \n",
      " 7   beweringen              105 non-null    object  \n",
      " 8   domicilie               105 non-null    category\n",
      " 9   afstudeerrichting       105 non-null    category\n",
      " 10  vrijetijd               105 non-null    category\n",
      " 11  uren_wiskunde           105 non-null    int64   \n",
      " 12  informatica_belangrijk  105 non-null    category\n",
      " 13  afstand                 105 non-null    float64 \n",
      " 14  opwarming               105 non-null    int64   \n",
      " 15  zakgeld_per_maand       105 non-null    float64 \n",
      " 16  stukken_fruit           105 non-null    int64   \n",
      " 17  besturingsysteem        105 non-null    category\n",
      " 18  app                     105 non-null    category\n",
      " 19  welzijn                 105 non-null    int64   \n",
      " 20  gelijke_middelen        105 non-null    int64   \n",
      " 21  loyaliteit              105 non-null    int64   \n",
      " 22  respect                 105 non-null    int64   \n",
      " 23  geloof                  105 non-null    int64   \n",
      " 24  vrijheid                105 non-null    int64   \n",
      " 25  zwaarste_vak            105 non-null    object  \n",
      " 26  boeiendste_vak          105 non-null    object  \n",
      " 27  studiepunt              105 non-null    int64   \n",
      " 28  rijbewijsAM             105 non-null    bool    \n",
      " 29  rijbewijsA              105 non-null    bool    \n",
      " 30  rijbewijsB              105 non-null    bool    \n",
      " 31  rijbewijsC              105 non-null    bool    \n",
      " 32  rijbewijsD              105 non-null    bool    \n",
      " 33  rijbewijsG              105 non-null    bool    \n",
      " 34  schoolwerk_per_week     105 non-null    int64   \n",
      " 35  vervoer_te_voet         105 non-null    bool    \n",
      " 36  vervoer_fiets           105 non-null    bool    \n",
      " 37  vervoer_tram            105 non-null    bool    \n",
      " 38  vervoer_auto            105 non-null    bool    \n",
      " 39  vervoer_trein           105 non-null    bool    \n",
      " 40  vervoer_bus             105 non-null    bool    \n",
      "dtypes: bool(12), category(9), float64(4), int64(13), object(3)\n",
      "memory usage: 21.3+ KB\n"
     ]
    }
   ],
   "source": [
    "# app omzetten naar categorical\n",
    "app = pd.Categorical(app)\n",
    "enquete.app = app\n",
    "enquete.info()"
   ],
   "metadata": {
    "collapsed": false
   }
  },
  {
   "cell_type": "code",
   "execution_count": 53,
   "outputs": [
    {
     "name": "stdout",
     "output_type": "stream",
     "text": [
      "['Management 1' 'User interfaces 1' 'Software engineering 1'\n",
      " 'Computersystemen 1' 'Netwerken 1' 'Communicatie 1'\n",
      " 'Programmeren 1 - Java' 'Databanken 1' 'Programmeren 1 - Embedded'\n",
      " 'Data science 1' 'Geen enkel']\n"
     ]
    }
   ],
   "source": [
    "zwaarste_vak = enquete.zwaarste_vak\n",
    "print(zwaarste_vak.unique())"
   ],
   "metadata": {
    "collapsed": false
   }
  },
  {
   "cell_type": "code",
   "execution_count": 54,
   "outputs": [
    {
     "name": "stdout",
     "output_type": "stream",
     "text": [
      "<class 'pandas.core.frame.DataFrame'>\n",
      "Int64Index: 105 entries, 0 to 109\n",
      "Data columns (total 41 columns):\n",
      " #   Column                  Non-Null Count  Dtype   \n",
      "---  ------                  --------------  -----   \n",
      " 0   gapminder               105 non-null    float64 \n",
      " 1   schrijfhand             105 non-null    category\n",
      " 2   schoenmaat              105 non-null    float64 \n",
      " 3   lengte                  105 non-null    int64   \n",
      " 4   bloedgroep              65 non-null     category\n",
      " 5   resus                   63 non-null     category\n",
      " 6   siblings                105 non-null    int64   \n",
      " 7   beweringen              105 non-null    object  \n",
      " 8   domicilie               105 non-null    category\n",
      " 9   afstudeerrichting       105 non-null    category\n",
      " 10  vrijetijd               105 non-null    category\n",
      " 11  uren_wiskunde           105 non-null    int64   \n",
      " 12  informatica_belangrijk  105 non-null    category\n",
      " 13  afstand                 105 non-null    float64 \n",
      " 14  opwarming               105 non-null    int64   \n",
      " 15  zakgeld_per_maand       105 non-null    float64 \n",
      " 16  stukken_fruit           105 non-null    int64   \n",
      " 17  besturingsysteem        105 non-null    category\n",
      " 18  app                     105 non-null    category\n",
      " 19  welzijn                 105 non-null    int64   \n",
      " 20  gelijke_middelen        105 non-null    int64   \n",
      " 21  loyaliteit              105 non-null    int64   \n",
      " 22  respect                 105 non-null    int64   \n",
      " 23  geloof                  105 non-null    int64   \n",
      " 24  vrijheid                105 non-null    int64   \n",
      " 25  zwaarste_vak            105 non-null    category\n",
      " 26  boeiendste_vak          105 non-null    object  \n",
      " 27  studiepunt              105 non-null    int64   \n",
      " 28  rijbewijsAM             105 non-null    bool    \n",
      " 29  rijbewijsA              105 non-null    bool    \n",
      " 30  rijbewijsB              105 non-null    bool    \n",
      " 31  rijbewijsC              105 non-null    bool    \n",
      " 32  rijbewijsD              105 non-null    bool    \n",
      " 33  rijbewijsG              105 non-null    bool    \n",
      " 34  schoolwerk_per_week     105 non-null    int64   \n",
      " 35  vervoer_te_voet         105 non-null    bool    \n",
      " 36  vervoer_fiets           105 non-null    bool    \n",
      " 37  vervoer_tram            105 non-null    bool    \n",
      " 38  vervoer_auto            105 non-null    bool    \n",
      " 39  vervoer_trein           105 non-null    bool    \n",
      " 40  vervoer_bus             105 non-null    bool    \n",
      "dtypes: bool(12), category(10), float64(4), int64(13), object(2)\n",
      "memory usage: 21.0+ KB\n"
     ]
    }
   ],
   "source": [
    "# zwaarste vak omzetten naar categorical\n",
    "zwaarste_vak = pd.Categorical(zwaarste_vak)\n",
    "enquete.zwaarste_vak = zwaarste_vak\n",
    "enquete.info()"
   ],
   "metadata": {
    "collapsed": false
   }
  },
  {
   "cell_type": "code",
   "execution_count": 55,
   "outputs": [
    {
     "name": "stdout",
     "output_type": "stream",
     "text": [
      "['Computersystemen 1' 'Programmeren 1 - Java' 'Data science 1'\n",
      " 'Netwerken 1' 'User interfaces 1' 'Programmeren 1 - Embedded'\n",
      " 'Management 1' 'Databanken 1' 'Software engineering 1' 'Communicatie 1'\n",
      " 'Geen enkel']\n"
     ]
    }
   ],
   "source": [
    "boeiendste_vak = enquete.boeiendste_vak\n",
    "print(boeiendste_vak.unique())"
   ],
   "metadata": {
    "collapsed": false
   }
  },
  {
   "cell_type": "code",
   "execution_count": 56,
   "outputs": [
    {
     "name": "stdout",
     "output_type": "stream",
     "text": [
      "<class 'pandas.core.frame.DataFrame'>\n",
      "Int64Index: 105 entries, 0 to 109\n",
      "Data columns (total 41 columns):\n",
      " #   Column                  Non-Null Count  Dtype   \n",
      "---  ------                  --------------  -----   \n",
      " 0   gapminder               105 non-null    float64 \n",
      " 1   schrijfhand             105 non-null    category\n",
      " 2   schoenmaat              105 non-null    float64 \n",
      " 3   lengte                  105 non-null    int64   \n",
      " 4   bloedgroep              65 non-null     category\n",
      " 5   resus                   63 non-null     category\n",
      " 6   siblings                105 non-null    int64   \n",
      " 7   beweringen              105 non-null    object  \n",
      " 8   domicilie               105 non-null    category\n",
      " 9   afstudeerrichting       105 non-null    category\n",
      " 10  vrijetijd               105 non-null    category\n",
      " 11  uren_wiskunde           105 non-null    int64   \n",
      " 12  informatica_belangrijk  105 non-null    category\n",
      " 13  afstand                 105 non-null    float64 \n",
      " 14  opwarming               105 non-null    int64   \n",
      " 15  zakgeld_per_maand       105 non-null    float64 \n",
      " 16  stukken_fruit           105 non-null    int64   \n",
      " 17  besturingsysteem        105 non-null    category\n",
      " 18  app                     105 non-null    category\n",
      " 19  welzijn                 105 non-null    int64   \n",
      " 20  gelijke_middelen        105 non-null    int64   \n",
      " 21  loyaliteit              105 non-null    int64   \n",
      " 22  respect                 105 non-null    int64   \n",
      " 23  geloof                  105 non-null    int64   \n",
      " 24  vrijheid                105 non-null    int64   \n",
      " 25  zwaarste_vak            105 non-null    category\n",
      " 26  boeiendste_vak          105 non-null    category\n",
      " 27  studiepunt              105 non-null    int64   \n",
      " 28  rijbewijsAM             105 non-null    bool    \n",
      " 29  rijbewijsA              105 non-null    bool    \n",
      " 30  rijbewijsB              105 non-null    bool    \n",
      " 31  rijbewijsC              105 non-null    bool    \n",
      " 32  rijbewijsD              105 non-null    bool    \n",
      " 33  rijbewijsG              105 non-null    bool    \n",
      " 34  schoolwerk_per_week     105 non-null    int64   \n",
      " 35  vervoer_te_voet         105 non-null    bool    \n",
      " 36  vervoer_fiets           105 non-null    bool    \n",
      " 37  vervoer_tram            105 non-null    bool    \n",
      " 38  vervoer_auto            105 non-null    bool    \n",
      " 39  vervoer_trein           105 non-null    bool    \n",
      " 40  vervoer_bus             105 non-null    bool    \n",
      "dtypes: bool(12), category(11), float64(4), int64(13), object(1)\n",
      "memory usage: 20.6+ KB\n"
     ]
    }
   ],
   "source": [
    "# boeiendste vak omzetten naar categorical\n",
    "boeiendste_vak = pd.Categorical(boeiendste_vak)\n",
    "enquete.boeiendste_vak = boeiendste_vak\n",
    "enquete.info()"
   ],
   "metadata": {
    "collapsed": false
   }
  },
  {
   "cell_type": "code",
   "execution_count": 57,
   "outputs": [],
   "source": [
    "# klaar!"
   ],
   "metadata": {
    "collapsed": false
   }
  }
 ],
 "metadata": {
  "kernelspec": {
   "display_name": "Python 3",
   "language": "python",
   "name": "python3"
  },
  "language_info": {
   "codemirror_mode": {
    "name": "ipython",
    "version": 2
   },
   "file_extension": ".py",
   "mimetype": "text/x-python",
   "name": "python",
   "nbconvert_exporter": "python",
   "pygments_lexer": "ipython2",
   "version": "2.7.6"
  }
 },
 "nbformat": 4,
 "nbformat_minor": 0
}
