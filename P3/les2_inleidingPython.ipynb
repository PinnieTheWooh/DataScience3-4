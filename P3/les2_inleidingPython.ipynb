{
 "cells": [
  {
   "cell_type": "markdown",
   "metadata": {},
   "source": [
    "# Inleiding Python"
   ]
  },
  {
   "cell_type": "markdown",
   "metadata": {},
   "source": [
    "## Algemeen\n",
    "### Python als rekenmachine"
   ]
  },
  {
   "cell_type": "code",
   "execution_count": 2,
   "metadata": {},
   "outputs": [
    {
     "name": "stdout",
     "output_type": "stream",
     "text": [
      "42\n",
      "8\n",
      "42\n"
     ]
    },
    {
     "data": {
      "text/plain": "12"
     },
     "execution_count": 2,
     "metadata": {},
     "output_type": "execute_result"
    }
   ],
   "source": [
    "# dit is commentaar\n",
    "\n",
    "\"\"\"\n",
    "dit is commentaar\n",
    "over verschillende regels heen\n",
    "maar het is een beetje een 'hack'\n",
    "dit is namelijk een string literal\n",
    "die over verschillende regels heen gaat\n",
    "\"\"\"\n",
    "\n",
    "# je kan ook iedere\n",
    "# lijn apart in commentaar zetten\n",
    "# dat is veel mooier :-)\n",
    "\n",
    "print(6 * 7) # eenvoudige vermenigvuldiging\n",
    "print(2 ** 3) # machtsverheffing\n",
    "print((2+4)*(9-2)) # haakjes\n",
    "3*4 # zonder print(): enkel laatste commando"
   ]
  },
  {
   "cell_type": "code",
   "execution_count": 4,
   "metadata": {},
   "outputs": [
    {
     "name": "stdout",
     "output_type": "stream",
     "text": [
      "42.00000000000001\n"
     ]
    }
   ],
   "source": [
    "import math # Je kan een bibliotheek importeren.  PyCharm zal voorstellen om de bib te installeren\n",
    "print(59.396969619669996 * math.sin(math.pi/4)) # goniometrische functies (Python werkt met radialen)"
   ]
  },
  {
   "cell_type": "markdown",
   "metadata": {},
   "source": [
    "### Variabelen en types"
   ]
  },
  {
   "cell_type": "code",
   "execution_count": 5,
   "outputs": [
    {
     "name": "stdout",
     "output_type": "stream",
     "text": [
      "42\n",
      "297\n",
      "type van a =  <class 'int'>\n"
     ]
    }
   ],
   "source": [
    "# geen declaratie nodig\n",
    "# het type wordt automatisch bepaald\n",
    "# het type mag veranderen\n",
    "a = 3 * 14\n",
    "print(a)\n",
    "print(a * 7 + 3)\n",
    "print('type van a = ', type(a))"
   ],
   "metadata": {
    "collapsed": false
   }
  },
  {
   "cell_type": "code",
   "execution_count": 6,
   "outputs": [
    {
     "name": "stdout",
     "output_type": "stream",
     "text": [
      "a =  bla\n",
      "type van a =  <class 'str'>\n"
     ]
    }
   ],
   "source": [
    "a = \"bla\"\n",
    "print('a = ', a)\n",
    "print('type van a = ', type(a))"
   ],
   "metadata": {
    "collapsed": false
   }
  },
  {
   "cell_type": "code",
   "execution_count": 7,
   "outputs": [
    {
     "name": "stdout",
     "output_type": "stream",
     "text": [
      "a =  bla\n",
      "type van a =  <class 'str'>\n"
     ]
    }
   ],
   "source": [
    "# er is geen char-type\n",
    "a = 'bla'\n",
    "print('a = ', a)\n",
    "print('type van a = ', type(a))"
   ],
   "metadata": {
    "collapsed": false
   }
  },
  {
   "cell_type": "code",
   "execution_count": 8,
   "outputs": [
    {
     "name": "stdout",
     "output_type": "stream",
     "text": [
      "a =  42.5\n",
      "type van a =  <class 'float'>\n",
      "42\n"
     ]
    }
   ],
   "source": [
    "a = 42.5\n",
    "print('a = ', a)\n",
    "print('type van a = ', type(a))\n",
    "a = int(a) # casting gebeurt met functies int(), float(), str(), ...\n",
    "print(a)"
   ],
   "metadata": {
    "collapsed": false
   }
  },
  {
   "cell_type": "code",
   "execution_count": 9,
   "outputs": [
    {
     "name": "stdout",
     "output_type": "stream",
     "text": [
      "a =  True\n",
      "type van a =  <class 'bool'>\n"
     ]
    }
   ],
   "source": [
    "a = True\n",
    "print('a = ', a)\n",
    "print('type van a = ', type(a))"
   ],
   "metadata": {
    "collapsed": false
   }
  },
  {
   "cell_type": "code",
   "execution_count": 11,
   "metadata": {},
   "outputs": [
    {
     "name": "stdout",
     "output_type": "stream",
     "text": [
      "5\n"
     ]
    }
   ],
   "source": [
    "# variabelnamen: gebruik underscore ipv camelCase\n",
    "mijn_variabele = 5\n",
    "print(mijn_variabele)"
   ]
  },
  {
   "cell_type": "code",
   "execution_count": 10,
   "outputs": [
    {
     "name": "stdout",
     "output_type": "stream",
     "text": [
      "42.333333333333336\n"
     ]
    }
   ],
   "source": [
    "mijn_variabele = 127 / 3\n",
    "print(mijn_variabele) # float!"
   ],
   "metadata": {
    "collapsed": false
   }
  },
  {
   "cell_type": "code",
   "execution_count": 12,
   "outputs": [
    {
     "name": "stdout",
     "output_type": "stream",
     "text": [
      "42\n"
     ]
    }
   ],
   "source": [
    "mijn_variabele = 127 // 3\n",
    "print(mijn_variabele)"
   ],
   "metadata": {
    "collapsed": false
   }
  },
  {
   "cell_type": "markdown",
   "metadata": {},
   "source": [
    "### IEEE 754"
   ]
  },
  {
   "cell_type": "code",
   "execution_count": 13,
   "metadata": {},
   "outputs": [
    {
     "name": "stdout",
     "output_type": "stream",
     "text": [
      "a =  inf\n",
      "b =  nan\n"
     ]
    }
   ],
   "source": [
    "a = math.inf\n",
    "print('a = ', a)\n",
    "b = math.nan\n",
    "print('b = ', b)"
   ]
  },
  {
   "cell_type": "code",
   "execution_count": null,
   "metadata": {},
   "outputs": [],
   "source": [
    "# verklaar het resultaat...\n",
    "d = 2927.6 + 67 + 63 + 63 + 70 - 3142.5\n",
    "print('d = ', d)"
   ]
  },
  {
   "cell_type": "markdown",
   "metadata": {},
   "source": [
    "## Lijsten\n",
    "Er zijn 3 soorten lijsten:\n",
    "* Python lists\n",
    "* Numpy arrays\n",
    "* Pandas Series"
   ]
  },
  {
   "cell_type": "markdown",
   "metadata": {},
   "source": [
    "### Python lists"
   ]
  },
  {
   "cell_type": "code",
   "execution_count": 17,
   "metadata": {},
   "outputs": [
    {
     "name": "stdout",
     "output_type": "stream",
     "text": [
      "[3, 4, 5, 6, 7, 8, 9, 10]\n"
     ]
    }
   ],
   "source": [
    "x = [ 3, 4, 5, 6, 7, 8, 9, 10 ]\n",
    "print(x)"
   ]
  },
  {
   "cell_type": "code",
   "execution_count": 16,
   "outputs": [
    {
     "name": "stdout",
     "output_type": "stream",
     "text": [
      "4\n"
     ]
    }
   ],
   "source": [
    "print(len(x)) # niet met een methode..."
   ],
   "metadata": {
    "collapsed": false
   }
  },
  {
   "cell_type": "code",
   "execution_count": 15,
   "metadata": {},
   "outputs": [
    {
     "name": "stdout",
     "output_type": "stream",
     "text": [
      "[3, 5, 7, 9]\n"
     ]
    }
   ],
   "source": [
    "x = list(range(3,11,2)) # je kan een lijst maken van een range\n",
    "print(x)"
   ]
  },
  {
   "cell_type": "code",
   "execution_count": 18,
   "metadata": {},
   "outputs": [
    {
     "name": "stdout",
     "output_type": "stream",
     "text": [
      "[3, 4, 5, 6, 7, 8, 9, 10, 11, 12, 13]\n"
     ]
    }
   ],
   "source": [
    "y = x + [ 11, 12, 13 ]\n",
    "print(y)"
   ]
  },
  {
   "cell_type": "code",
   "execution_count": 19,
   "metadata": {},
   "outputs": [
    {
     "name": "stdout",
     "output_type": "stream",
     "text": [
      "[1, 2, 3, 1, 2, 3, 1, 2, 3]\n"
     ]
    }
   ],
   "source": [
    "x = [ 1, 2, 3 ]\n",
    "print(x * 3)"
   ]
  },
  {
   "cell_type": "code",
   "execution_count": 20,
   "metadata": {},
   "outputs": [
    {
     "name": "stdout",
     "output_type": "stream",
     "text": [
      "[42, 3.14, 'hallo', True]\n"
     ]
    }
   ],
   "source": [
    "x = [ 42, 3.14, 'hallo', True ] # verschillende types\n",
    "print(x)"
   ]
  },
  {
   "cell_type": "code",
   "execution_count": 21,
   "metadata": {},
   "outputs": [
    {
     "name": "stdout",
     "output_type": "stream",
     "text": [
      "[42, 3.14, 'hallo', True]\n",
      "hallo\n"
     ]
    }
   ],
   "source": [
    "print(x)\n",
    "print(x[2])"
   ]
  },
  {
   "cell_type": "code",
   "execution_count": 22,
   "metadata": {},
   "outputs": [
    {
     "name": "stdout",
     "output_type": "stream",
     "text": [
      "[42, 3.14, 'hallo', True]\n",
      "True\n"
     ]
    }
   ],
   "source": [
    "print(x)\n",
    "print(x[-1]) # index<0 => lengte-index"
   ]
  },
  {
   "cell_type": "code",
   "execution_count": 23,
   "metadata": {},
   "outputs": [
    {
     "name": "stdout",
     "output_type": "stream",
     "text": [
      "[42, 3.14, 'hallo', True]\n",
      "[3.14, 'hallo', True]\n"
     ]
    }
   ],
   "source": [
    "print(x)\n",
    "print(x[1:4]) # slicing"
   ]
  },
  {
   "cell_type": "code",
   "execution_count": null,
   "metadata": {},
   "outputs": [],
   "source": [
    "print(x)\n",
    "print(x[1:4:2])"
   ]
  },
  {
   "cell_type": "markdown",
   "source": [
    "komt overeen met (Java):\n",
    "for(int i=1; i<4; i+=2)"
   ],
   "metadata": {
    "collapsed": false
   }
  },
  {
   "cell_type": "code",
   "execution_count": 24,
   "metadata": {},
   "outputs": [
    {
     "name": "stdout",
     "output_type": "stream",
     "text": [
      "[42, 3.14, 'hallo', True]\n",
      "[42, 'hallo']\n"
     ]
    }
   ],
   "source": [
    "print(x)\n",
    "print(x[::2])"
   ]
  },
  {
   "cell_type": "code",
   "execution_count": 25,
   "metadata": {},
   "outputs": [
    {
     "name": "stdout",
     "output_type": "stream",
     "text": [
      "[42, 3.14, 'hallo', True]\n",
      "[True, 'hallo', 3.14, 42]\n"
     ]
    }
   ],
   "source": [
    "print(x)\n",
    "print(x[::-1])"
   ]
  },
  {
   "cell_type": "markdown",
   "source": [
    "### Pandas Series"
   ],
   "metadata": {
    "collapsed": false
   }
  },
  {
   "cell_type": "code",
   "execution_count": 28,
   "outputs": [],
   "source": [
    "import pandas as pd"
   ],
   "metadata": {
    "collapsed": false
   }
  },
  {
   "cell_type": "code",
   "execution_count": 29,
   "outputs": [
    {
     "name": "stdout",
     "output_type": "stream",
     "text": [
      "0    10\n",
      "1    20\n",
      "2    30\n",
      "3    40\n",
      "4    50\n",
      "5    60\n",
      "dtype: int64\n",
      "lengte =  6\n"
     ]
    }
   ],
   "source": [
    "# Series maken\n",
    "# Series is eigenlijk een map\n",
    "lijst = [10, 20, 30, 40, 50, 60]\n",
    "series = pd.Series(lijst)\n",
    "print(series)\n",
    "print(\"lengte = \", len(series))"
   ],
   "metadata": {
    "collapsed": false
   }
  },
  {
   "cell_type": "code",
   "execution_count": 30,
   "outputs": [
    {
     "name": "stdout",
     "output_type": "stream",
     "text": [
      "[10, 20, 30, 40, 50, 60]\n"
     ]
    }
   ],
   "source": [
    "# terug omzetten naar list\n",
    "print(series.to_list())"
   ],
   "metadata": {
    "collapsed": false
   }
  },
  {
   "cell_type": "code",
   "execution_count": 31,
   "outputs": [],
   "source": [
    "# rekenen met Series\n",
    "series = pd.Series([2, 2, 0, 5, 1, 4, 4, 0, 0, 3])"
   ],
   "metadata": {
    "collapsed": false
   }
  },
  {
   "cell_type": "code",
   "execution_count": 32,
   "outputs": [
    {
     "name": "stdout",
     "output_type": "stream",
     "text": [
      "[6, 6, 0, 15, 3, 12, 12, 0, 0, 9]\n"
     ]
    }
   ],
   "source": [
    "print((series * 3).to_list())"
   ],
   "metadata": {
    "collapsed": false
   }
  },
  {
   "cell_type": "code",
   "execution_count": 33,
   "outputs": [
    {
     "name": "stdout",
     "output_type": "stream",
     "text": [
      "[12, 12, 10, 15, 11, 14, 14, 10, 10, 13]\n"
     ]
    }
   ],
   "source": [
    "print((series + 10).to_list())"
   ],
   "metadata": {
    "collapsed": false
   }
  },
  {
   "cell_type": "code",
   "execution_count": 39,
   "outputs": [],
   "source": [
    "series2 = pd.Series([1, 4, 4, 3, 4, 0, 0, 3, 4, 1])"
   ],
   "metadata": {
    "collapsed": false
   }
  },
  {
   "cell_type": "code",
   "execution_count": 35,
   "outputs": [
    {
     "name": "stdout",
     "output_type": "stream",
     "text": [
      "[3, 6, 4, 8, 5, 4, 4, 3, 4, 4]\n"
     ]
    }
   ],
   "source": [
    "print((series + series2).to_list())"
   ],
   "metadata": {
    "collapsed": false
   }
  },
  {
   "cell_type": "code",
   "execution_count": 36,
   "outputs": [
    {
     "name": "stdout",
     "output_type": "stream",
     "text": [
      "[2, 8, 0, 15, 4, 0, 0, 0, 0, 3]\n"
     ]
    }
   ],
   "source": [
    "print((series * series2).to_list())"
   ],
   "metadata": {
    "collapsed": false
   }
  },
  {
   "cell_type": "code",
   "execution_count": 37,
   "outputs": [
    {
     "name": "stdout",
     "output_type": "stream",
     "text": [
      "0    3.0\n",
      "1    4.0\n",
      "2    3.0\n",
      "3    9.0\n",
      "4    NaN\n",
      "5    NaN\n",
      "6    NaN\n",
      "7    NaN\n",
      "8    NaN\n",
      "9    NaN\n",
      "dtype: float64\n"
     ]
    }
   ],
   "source": [
    "series3 = pd.Series(range(1,5))\n",
    "print((series + series3))"
   ],
   "metadata": {
    "collapsed": false
   }
  },
  {
   "cell_type": "code",
   "execution_count": 38,
   "outputs": [
    {
     "name": "stdout",
     "output_type": "stream",
     "text": [
      "0    1\n",
      "1    2\n",
      "2    3\n",
      "3    4\n",
      "4    5\n",
      "5    6\n",
      "6    7\n",
      "7    8\n",
      "8    9\n",
      "dtype: int64\n",
      "2    3\n",
      "4    5\n",
      "6    7\n",
      "8    9\n",
      "dtype: int64\n"
     ]
    }
   ],
   "source": [
    "# selecties\n",
    "series = pd.Series(range(1,10))\n",
    "print(series)\n",
    "print(series[2:9:2])"
   ],
   "metadata": {
    "collapsed": false
   }
  },
  {
   "cell_type": "code",
   "execution_count": 40,
   "outputs": [
    {
     "name": "stdout",
     "output_type": "stream",
     "text": [
      "0    1\n",
      "2    3\n",
      "1    2\n",
      "dtype: int64\n"
     ]
    }
   ],
   "source": [
    "select = [0, 2, 1] # gewone list\n",
    "print(series[select]) # geen for nodig"
   ],
   "metadata": {
    "collapsed": false
   }
  },
  {
   "cell_type": "code",
   "execution_count": 41,
   "outputs": [
    {
     "name": "stdout",
     "output_type": "stream",
     "text": [
      "0    1\n",
      "1    2\n",
      "2    3\n",
      "3    4\n",
      "4    5\n",
      "5    6\n",
      "6    7\n",
      "7    8\n",
      "8    9\n",
      "dtype: int64\n",
      "0    False\n",
      "1    False\n",
      "2    False\n",
      "3    False\n",
      "4     True\n",
      "5     True\n",
      "6     True\n",
      "7     True\n",
      "8     True\n",
      "dtype: bool\n"
     ]
    }
   ],
   "source": [
    "print(series)\n",
    "print(series > 4)"
   ],
   "metadata": {
    "collapsed": false
   }
  },
  {
   "cell_type": "code",
   "execution_count": 42,
   "outputs": [
    {
     "name": "stdout",
     "output_type": "stream",
     "text": [
      "4    5\n",
      "5    6\n",
      "6    7\n",
      "7    8\n",
      "8    9\n",
      "dtype: int64\n"
     ]
    }
   ],
   "source": [
    "print(series[series > 4])"
   ],
   "metadata": {
    "collapsed": false
   }
  },
  {
   "cell_type": "code",
   "execution_count": 43,
   "outputs": [
    {
     "name": "stdout",
     "output_type": "stream",
     "text": [
      "1    2\n",
      "3    4\n",
      "5    6\n",
      "7    8\n",
      "dtype: int64\n"
     ]
    }
   ],
   "source": [
    "even = ((series % 2) == 0)\n",
    "#print(even)\n",
    "print(series[even])"
   ],
   "metadata": {
    "collapsed": false
   }
  },
  {
   "cell_type": "code",
   "execution_count": 44,
   "outputs": [],
   "source": [
    "vakken = pd.Series(['data science', 'programmeren', 'databanken', 'hardware', 'operating systems'])\n",
    "scores = pd.Series([18, 15, 13, 16, 12])"
   ],
   "metadata": {
    "collapsed": false
   }
  },
  {
   "cell_type": "code",
   "execution_count": 45,
   "outputs": [
    {
     "name": "stdout",
     "output_type": "stream",
     "text": [
      "0    data science\n",
      "3        hardware\n",
      "dtype: object\n"
     ]
    }
   ],
   "source": [
    "print(vakken[scores > 15])"
   ],
   "metadata": {
    "collapsed": false
   }
  },
  {
   "cell_type": "code",
   "execution_count": 46,
   "outputs": [
    {
     "name": "stdout",
     "output_type": "stream",
     "text": [
      "4     10\n",
      "3     20\n",
      "8     30\n",
      "6     40\n",
      "10    50\n",
      "dtype: int64\n"
     ]
    }
   ],
   "source": [
    "# Series als een map\n",
    "series = pd.Series([10, 20, 30, 40, 50], index=[4, 3, 8, 6, 10])\n",
    "print(series)"
   ],
   "metadata": {
    "collapsed": false
   }
  },
  {
   "cell_type": "code",
   "execution_count": 47,
   "outputs": [
    {
     "name": "stdout",
     "output_type": "stream",
     "text": [
      "4        10\n",
      "3        20\n",
      "8        30\n",
      "6        40\n",
      "10       50\n",
      "100       5\n",
      "hello    42\n",
      "dtype: int64\n"
     ]
    }
   ],
   "source": [
    "series[100] = 5\n",
    "series['hello'] = 42\n",
    "print(series)"
   ],
   "metadata": {
    "collapsed": false
   }
  },
  {
   "cell_type": "code",
   "execution_count": 48,
   "outputs": [
    {
     "data": {
      "text/plain": "42"
     },
     "execution_count": 48,
     "metadata": {},
     "output_type": "execute_result"
    }
   ],
   "source": [
    "series['hello']"
   ],
   "metadata": {
    "collapsed": false
   }
  },
  {
   "cell_type": "code",
   "execution_count": 49,
   "outputs": [
    {
     "ename": "KeyError",
     "evalue": "99",
     "output_type": "error",
     "traceback": [
      "\u001B[1;31m---------------------------------------------------------------------------\u001B[0m",
      "\u001B[1;31mKeyError\u001B[0m                                  Traceback (most recent call last)",
      "File \u001B[1;32m~\\OneDrive\\Desktop\\Data Science\\venv\\Lib\\site-packages\\pandas\\core\\indexes\\base.py:3802\u001B[0m, in \u001B[0;36mIndex.get_loc\u001B[1;34m(self, key, method, tolerance)\u001B[0m\n\u001B[0;32m   3801\u001B[0m \u001B[38;5;28;01mtry\u001B[39;00m:\n\u001B[1;32m-> 3802\u001B[0m     \u001B[38;5;28;01mreturn\u001B[39;00m \u001B[38;5;28;43mself\u001B[39;49m\u001B[38;5;241;43m.\u001B[39;49m\u001B[43m_engine\u001B[49m\u001B[38;5;241;43m.\u001B[39;49m\u001B[43mget_loc\u001B[49m\u001B[43m(\u001B[49m\u001B[43mcasted_key\u001B[49m\u001B[43m)\u001B[49m\n\u001B[0;32m   3803\u001B[0m \u001B[38;5;28;01mexcept\u001B[39;00m \u001B[38;5;167;01mKeyError\u001B[39;00m \u001B[38;5;28;01mas\u001B[39;00m err:\n",
      "File \u001B[1;32m~\\OneDrive\\Desktop\\Data Science\\venv\\Lib\\site-packages\\pandas\\_libs\\index.pyx:138\u001B[0m, in \u001B[0;36mpandas._libs.index.IndexEngine.get_loc\u001B[1;34m()\u001B[0m\n",
      "File \u001B[1;32m~\\OneDrive\\Desktop\\Data Science\\venv\\Lib\\site-packages\\pandas\\_libs\\index.pyx:165\u001B[0m, in \u001B[0;36mpandas._libs.index.IndexEngine.get_loc\u001B[1;34m()\u001B[0m\n",
      "File \u001B[1;32mpandas\\_libs\\hashtable_class_helper.pxi:5745\u001B[0m, in \u001B[0;36mpandas._libs.hashtable.PyObjectHashTable.get_item\u001B[1;34m()\u001B[0m\n",
      "File \u001B[1;32mpandas\\_libs\\hashtable_class_helper.pxi:5753\u001B[0m, in \u001B[0;36mpandas._libs.hashtable.PyObjectHashTable.get_item\u001B[1;34m()\u001B[0m\n",
      "\u001B[1;31mKeyError\u001B[0m: 99",
      "\nThe above exception was the direct cause of the following exception:\n",
      "\u001B[1;31mKeyError\u001B[0m                                  Traceback (most recent call last)",
      "Cell \u001B[1;32mIn[49], line 1\u001B[0m\n\u001B[1;32m----> 1\u001B[0m \u001B[43mseries\u001B[49m\u001B[43m[\u001B[49m\u001B[38;5;241;43m99\u001B[39;49m\u001B[43m]\u001B[49m\n",
      "File \u001B[1;32m~\\OneDrive\\Desktop\\Data Science\\venv\\Lib\\site-packages\\pandas\\core\\series.py:981\u001B[0m, in \u001B[0;36mSeries.__getitem__\u001B[1;34m(self, key)\u001B[0m\n\u001B[0;32m    978\u001B[0m     \u001B[38;5;28;01mreturn\u001B[39;00m \u001B[38;5;28mself\u001B[39m\u001B[38;5;241m.\u001B[39m_values[key]\n\u001B[0;32m    980\u001B[0m \u001B[38;5;28;01melif\u001B[39;00m key_is_scalar:\n\u001B[1;32m--> 981\u001B[0m     \u001B[38;5;28;01mreturn\u001B[39;00m \u001B[38;5;28;43mself\u001B[39;49m\u001B[38;5;241;43m.\u001B[39;49m\u001B[43m_get_value\u001B[49m\u001B[43m(\u001B[49m\u001B[43mkey\u001B[49m\u001B[43m)\u001B[49m\n\u001B[0;32m    983\u001B[0m \u001B[38;5;28;01mif\u001B[39;00m is_hashable(key):\n\u001B[0;32m    984\u001B[0m     \u001B[38;5;66;03m# Otherwise index.get_value will raise InvalidIndexError\u001B[39;00m\n\u001B[0;32m    985\u001B[0m     \u001B[38;5;28;01mtry\u001B[39;00m:\n\u001B[0;32m    986\u001B[0m         \u001B[38;5;66;03m# For labels that don't resolve as scalars like tuples and frozensets\u001B[39;00m\n",
      "File \u001B[1;32m~\\OneDrive\\Desktop\\Data Science\\venv\\Lib\\site-packages\\pandas\\core\\series.py:1089\u001B[0m, in \u001B[0;36mSeries._get_value\u001B[1;34m(self, label, takeable)\u001B[0m\n\u001B[0;32m   1086\u001B[0m     \u001B[38;5;28;01mreturn\u001B[39;00m \u001B[38;5;28mself\u001B[39m\u001B[38;5;241m.\u001B[39m_values[label]\n\u001B[0;32m   1088\u001B[0m \u001B[38;5;66;03m# Similar to Index.get_value, but we do not fall back to positional\u001B[39;00m\n\u001B[1;32m-> 1089\u001B[0m loc \u001B[38;5;241m=\u001B[39m \u001B[38;5;28;43mself\u001B[39;49m\u001B[38;5;241;43m.\u001B[39;49m\u001B[43mindex\u001B[49m\u001B[38;5;241;43m.\u001B[39;49m\u001B[43mget_loc\u001B[49m\u001B[43m(\u001B[49m\u001B[43mlabel\u001B[49m\u001B[43m)\u001B[49m\n\u001B[0;32m   1090\u001B[0m \u001B[38;5;28;01mreturn\u001B[39;00m \u001B[38;5;28mself\u001B[39m\u001B[38;5;241m.\u001B[39mindex\u001B[38;5;241m.\u001B[39m_get_values_for_loc(\u001B[38;5;28mself\u001B[39m, loc, label)\n",
      "File \u001B[1;32m~\\OneDrive\\Desktop\\Data Science\\venv\\Lib\\site-packages\\pandas\\core\\indexes\\base.py:3804\u001B[0m, in \u001B[0;36mIndex.get_loc\u001B[1;34m(self, key, method, tolerance)\u001B[0m\n\u001B[0;32m   3802\u001B[0m     \u001B[38;5;28;01mreturn\u001B[39;00m \u001B[38;5;28mself\u001B[39m\u001B[38;5;241m.\u001B[39m_engine\u001B[38;5;241m.\u001B[39mget_loc(casted_key)\n\u001B[0;32m   3803\u001B[0m \u001B[38;5;28;01mexcept\u001B[39;00m \u001B[38;5;167;01mKeyError\u001B[39;00m \u001B[38;5;28;01mas\u001B[39;00m err:\n\u001B[1;32m-> 3804\u001B[0m     \u001B[38;5;28;01mraise\u001B[39;00m \u001B[38;5;167;01mKeyError\u001B[39;00m(key) \u001B[38;5;28;01mfrom\u001B[39;00m \u001B[38;5;21;01merr\u001B[39;00m\n\u001B[0;32m   3805\u001B[0m \u001B[38;5;28;01mexcept\u001B[39;00m \u001B[38;5;167;01mTypeError\u001B[39;00m:\n\u001B[0;32m   3806\u001B[0m     \u001B[38;5;66;03m# If we have a listlike key, _check_indexing_error will raise\u001B[39;00m\n\u001B[0;32m   3807\u001B[0m     \u001B[38;5;66;03m#  InvalidIndexError. Otherwise we fall through and re-raise\u001B[39;00m\n\u001B[0;32m   3808\u001B[0m     \u001B[38;5;66;03m#  the TypeError.\u001B[39;00m\n\u001B[0;32m   3809\u001B[0m     \u001B[38;5;28mself\u001B[39m\u001B[38;5;241m.\u001B[39m_check_indexing_error(key)\n",
      "\u001B[1;31mKeyError\u001B[0m: 99"
     ]
    }
   ],
   "source": [
    "series[99]"
   ],
   "metadata": {
    "collapsed": false
   }
  },
  {
   "cell_type": "markdown",
   "source": [
    "### Numpy arrays"
   ],
   "metadata": {
    "collapsed": false
   }
  },
  {
   "cell_type": "code",
   "execution_count": 50,
   "outputs": [],
   "source": [
    "import numpy as np"
   ],
   "metadata": {
    "collapsed": false
   }
  },
  {
   "cell_type": "code",
   "execution_count": 51,
   "outputs": [
    {
     "name": "stdout",
     "output_type": "stream",
     "text": [
      "[0 0 0 0 0 0 0 0 0 0]\n"
     ]
    }
   ],
   "source": [
    "arr = np.zeros(10, dtype=int)\n",
    "print(arr)"
   ],
   "metadata": {
    "collapsed": false
   }
  },
  {
   "cell_type": "code",
   "execution_count": 52,
   "outputs": [
    {
     "name": "stdout",
     "output_type": "stream",
     "text": [
      "[1. 1. 1. 1. 1.]\n"
     ]
    }
   ],
   "source": [
    "arr = np.ones(5, dtype=float)\n",
    "print(arr)"
   ],
   "metadata": {
    "collapsed": false
   }
  },
  {
   "cell_type": "code",
   "execution_count": 53,
   "outputs": [
    {
     "name": "stdout",
     "output_type": "stream",
     "text": [
      "[6 2 3 3 6 5 4 2 3 5]\n"
     ]
    }
   ],
   "source": [
    "arr = np.random.randint(6, size=10)+1\n",
    "print(arr)"
   ],
   "metadata": {
    "collapsed": false
   }
  },
  {
   "cell_type": "code",
   "execution_count": 54,
   "outputs": [
    {
     "ename": "TypeError",
     "evalue": "'float' object cannot be interpreted as an integer",
     "output_type": "error",
     "traceback": [
      "\u001B[1;31m---------------------------------------------------------------------------\u001B[0m",
      "\u001B[1;31mTypeError\u001B[0m                                 Traceback (most recent call last)",
      "Cell \u001B[1;32mIn[54], line 1\u001B[0m\n\u001B[1;32m----> 1\u001B[0m \u001B[38;5;28mlist\u001B[39m(\u001B[38;5;28;43mrange\u001B[39;49m\u001B[43m(\u001B[49m\u001B[38;5;241;43m1.1\u001B[39;49m\u001B[43m,\u001B[49m\u001B[38;5;241;43m10\u001B[39;49m\u001B[43m,\u001B[49m\u001B[38;5;241;43m3\u001B[39;49m\u001B[43m)\u001B[49m)\n",
      "\u001B[1;31mTypeError\u001B[0m: 'float' object cannot be interpreted as an integer"
     ]
    }
   ],
   "source": [
    "list(range(1.1,10,3))"
   ],
   "metadata": {
    "collapsed": false
   }
  },
  {
   "cell_type": "code",
   "execution_count": 55,
   "outputs": [
    {
     "name": "stdout",
     "output_type": "stream",
     "text": [
      "[1.1 1.4 1.7]\n"
     ]
    }
   ],
   "source": [
    "arr = np.arange(1.1, 2, 0.3)\n",
    "print(arr)"
   ],
   "metadata": {
    "collapsed": false
   }
  },
  {
   "cell_type": "code",
   "execution_count": 56,
   "outputs": [
    {
     "name": "stdout",
     "output_type": "stream",
     "text": [
      "[1 2 3]\n"
     ]
    }
   ],
   "source": [
    "lijst = [ 1, 2, 3 ]\n",
    "arr = np.array(lijst)\n",
    "print(arr)"
   ],
   "metadata": {
    "collapsed": false
   }
  },
  {
   "cell_type": "code",
   "execution_count": 57,
   "outputs": [
    {
     "name": "stdout",
     "output_type": "stream",
     "text": [
      "<class 'numpy.ndarray'>\n"
     ]
    }
   ],
   "source": [
    "print(type(arr))"
   ],
   "metadata": {
    "collapsed": false
   }
  },
  {
   "cell_type": "code",
   "execution_count": 58,
   "outputs": [
    {
     "name": "stdout",
     "output_type": "stream",
     "text": [
      "[0, 5, 2, 5, 3, 4, 3, 3, 2, 2]\n",
      "<class 'list'>\n"
     ]
    }
   ],
   "source": [
    "arr = np.random.randint(6, size=10)\n",
    "lijst = arr.tolist()\n",
    "print(lijst)\n",
    "print(type(lijst))"
   ],
   "metadata": {
    "collapsed": false
   }
  },
  {
   "cell_type": "markdown",
   "source": [
    "## Kwalitatieve gegevens"
   ],
   "metadata": {
    "collapsed": false
   }
  },
  {
   "cell_type": "code",
   "execution_count": 59,
   "outputs": [],
   "source": [
    "# hoeveel geheugen gebruikt volgende list?\n",
    "mening = [ 'niet belangrijk', 'heel belangrijk', 'heel belangrijk', 'een beetje belangrijk', 'heel belangrijk', 'een beetje belangrijk', 'een beetje belangrijk', 'niet belangrijk', 'heel belangrijk', 'heel belangrijk']"
   ],
   "metadata": {
    "collapsed": false
   }
  },
  {
   "cell_type": "code",
   "execution_count": 60,
   "outputs": [],
   "source": [
    "# omzetten naar categorical\n",
    "meningMogelijkheden = [ 'niet belangrijk', 'een beetje belangrijk', 'heel belangrijk', 'extreem belangrijk' ]\n",
    "meningIndexen = [ 0, 2, 2, 1, 2, 1, 1, 0, 2, 2 ]"
   ],
   "metadata": {
    "collapsed": false
   }
  },
  {
   "cell_type": "code",
   "execution_count": 61,
   "outputs": [
    {
     "name": "stdout",
     "output_type": "stream",
     "text": [
      "['niet belangrijk', 'heel belangrijk', 'heel belangrijk', 'een beetje belangrijk', 'heel belangrijk', 'een beetje belangrijk', 'een beetje belangrijk', 'niet belangrijk', 'heel belangrijk', 'heel belangrijk']\n",
      "Categories (4, object): ['niet belangrijk', 'een beetje belangrijk', 'heel belangrijk', 'extreem belangrijk']\n"
     ]
    }
   ],
   "source": [
    "meningSeries = pd.Categorical(mening, categories=meningMogelijkheden)\n",
    "print(meningSeries)"
   ],
   "metadata": {
    "collapsed": false
   }
  },
  {
   "cell_type": "code",
   "execution_count": 62,
   "outputs": [
    {
     "name": "stdout",
     "output_type": "stream",
     "text": [
      "[0 2 2 1 2 1 1 0 2 2]\n"
     ]
    }
   ],
   "source": [
    "# je kan de getallen en categorieën apart terug uit het object halen\n",
    "print(meningSeries.codes)"
   ],
   "metadata": {
    "collapsed": false
   }
  },
  {
   "cell_type": "code",
   "execution_count": 63,
   "outputs": [
    {
     "name": "stdout",
     "output_type": "stream",
     "text": [
      "['niet belangrijk', 'een beetje belangrijk', 'heel belangrijk', 'extreem belangrijk']\n"
     ]
    }
   ],
   "source": [
    "print(meningSeries.categories.tolist())"
   ],
   "metadata": {
    "collapsed": false
   }
  },
  {
   "cell_type": "code",
   "execution_count": 64,
   "outputs": [
    {
     "name": "stdout",
     "output_type": "stream",
     "text": [
      "['niet belangrijk', 'heel belangrijk', 'heel belangrijk', 'een beetje belangrijk', 'heel belangrijk', 'een beetje belangrijk', 'een beetje belangrijk', 'niet belangrijk', 'heel belangrijk', 'heel belangrijk']\n",
      "Categories (4, object): ['niet belangrijk' < 'een beetje belangrijk' < 'heel belangrijk' < 'extreem belangrijk']\n",
      "['niet belangrijk', 'een beetje belangrijk', 'heel belangrijk', 'extreem belangrijk']\n",
      "[0 2 2 1 2 1 1 0 2 2]\n"
     ]
    }
   ],
   "source": [
    "meningSeries = pd.Categorical(mening, categories=meningMogelijkheden, ordered=True)\n",
    "print(meningSeries)\n",
    "print(meningSeries.categories.tolist())\n",
    "print(meningSeries.codes)"
   ],
   "metadata": {
    "collapsed": false
   }
  },
  {
   "cell_type": "markdown",
   "source": [
    "## Data frames"
   ],
   "metadata": {
    "collapsed": false
   }
  },
  {
   "cell_type": "markdown",
   "source": [
    "### Aanmaken"
   ],
   "metadata": {
    "collapsed": false
   }
  },
  {
   "cell_type": "code",
   "execution_count": 65,
   "outputs": [
    {
     "name": "stdout",
     "output_type": "stream",
     "text": [
      "   id naam  score\n",
      "0   1  foo      1\n",
      "1   2  bar      5\n",
      "2   3  bla      6\n",
      "3   4  boe      7\n",
      "4   5  foo      4\n"
     ]
    }
   ],
   "source": [
    "x = pd.Series(range(1,6))\n",
    "y = [ \"foo\", \"bar\", \"bla\", \"boe\", \"foo\" ]\n",
    "z = np.random.randint(10, size=5)\n",
    "f  = pd.DataFrame({'id': x, 'naam': y, 'score': z}) # we gebruiken hier een \"dictionary\"\n",
    "print(f)"
   ],
   "metadata": {
    "collapsed": false
   }
  },
  {
   "cell_type": "markdown",
   "source": [
    "### Gebruiken en manipuleren"
   ],
   "metadata": {
    "collapsed": false
   }
  },
  {
   "cell_type": "markdown",
   "source": [
    "Veel gebruikte eigenschappen:"
   ],
   "metadata": {
    "collapsed": false
   }
  },
  {
   "cell_type": "code",
   "execution_count": 66,
   "outputs": [
    {
     "name": "stdout",
     "output_type": "stream",
     "text": [
      "   id naam  score\n",
      "0   1  foo      1\n",
      "1   2  bar      5\n",
      "2   3  bla      6\n",
      "3   4  boe      7\n",
      "4   5  foo      4\n",
      "aantal rijen:  5\n",
      "aantal kolommen:  3\n",
      "kolomnamen:  ['id', 'naam', 'score']\n",
      "rijnamen:  [0, 1, 2, 3, 4]\n"
     ]
    }
   ],
   "source": [
    "print(f)\n",
    "print(\"aantal rijen: \", len(f))\n",
    "print(\"aantal kolommen: \", f.columns.size)\n",
    "print(\"kolomnamen: \", f.columns.tolist())\n",
    "print(\"rijnamen: \", f.index.tolist())"
   ],
   "metadata": {
    "collapsed": false
   }
  },
  {
   "cell_type": "markdown",
   "source": [
    "Kolommen selecteren:"
   ],
   "metadata": {
    "collapsed": false
   }
  },
  {
   "cell_type": "code",
   "execution_count": 67,
   "outputs": [
    {
     "name": "stdout",
     "output_type": "stream",
     "text": [
      "0    1\n",
      "1    2\n",
      "2    3\n",
      "3    4\n",
      "4    5\n",
      "Name: id, dtype: int64\n"
     ]
    }
   ],
   "source": [
    "print(f['id'])"
   ],
   "metadata": {
    "collapsed": false
   }
  },
  {
   "cell_type": "code",
   "execution_count": 68,
   "outputs": [
    {
     "name": "stdout",
     "output_type": "stream",
     "text": [
      "0    foo\n",
      "1    bar\n",
      "2    bla\n",
      "3    boe\n",
      "4    foo\n",
      "Name: naam, dtype: object\n"
     ]
    }
   ],
   "source": [
    "print(f[\"naam\"])"
   ],
   "metadata": {
    "collapsed": false
   }
  },
  {
   "cell_type": "code",
   "execution_count": 69,
   "outputs": [
    {
     "name": "stdout",
     "output_type": "stream",
     "text": [
      "0    1\n",
      "1    2\n",
      "2    3\n",
      "3    4\n",
      "4    5\n",
      "Name: id, dtype: int64\n"
     ]
    }
   ],
   "source": [
    "print(f.id)"
   ],
   "metadata": {
    "collapsed": false
   }
  },
  {
   "cell_type": "code",
   "execution_count": 70,
   "outputs": [
    {
     "name": "stdout",
     "output_type": "stream",
     "text": [
      "0    foo\n",
      "1    bar\n",
      "2    bla\n",
      "3    boe\n",
      "4    foo\n",
      "Name: naam, dtype: object\n"
     ]
    }
   ],
   "source": [
    "print(f.naam)"
   ],
   "metadata": {
    "collapsed": false
   }
  },
  {
   "cell_type": "markdown",
   "source": [
    "Kolommen verwijderen:"
   ],
   "metadata": {
    "collapsed": false
   }
  },
  {
   "cell_type": "code",
   "execution_count": 71,
   "outputs": [
    {
     "name": "stdout",
     "output_type": "stream",
     "text": [
      "   id naam  score\n",
      "0   1  foo      1\n",
      "1   2  bar      5\n",
      "2   3  bla      6\n",
      "3   4  boe      7\n",
      "4   5  foo      4\n"
     ]
    }
   ],
   "source": [
    "f.drop(columns=\"id\")\n",
    "print(f) # is de kolom weg?"
   ],
   "metadata": {
    "collapsed": false
   }
  },
  {
   "cell_type": "code",
   "execution_count": 72,
   "outputs": [],
   "source": [
    "f = f.drop(columns='id')"
   ],
   "metadata": {
    "collapsed": false
   }
  },
  {
   "cell_type": "code",
   "execution_count": 73,
   "outputs": [
    {
     "name": "stdout",
     "output_type": "stream",
     "text": [
      "  naam  score\n",
      "0  foo      1\n",
      "1  bar      5\n",
      "2  bla      6\n",
      "3  boe      7\n",
      "4  foo      4\n"
     ]
    }
   ],
   "source": [
    "#f.drop(columns=\"id\", inplace=True)\n",
    "print(f)"
   ],
   "metadata": {
    "collapsed": false
   }
  },
  {
   "cell_type": "markdown",
   "source": [
    "Kolommen toevoegen:"
   ],
   "metadata": {
    "collapsed": false
   }
  },
  {
   "cell_type": "code",
   "execution_count": 74,
   "outputs": [
    {
     "name": "stdout",
     "output_type": "stream",
     "text": [
      "  naam  score  key\n",
      "0  foo      1   10\n",
      "1  bar      5   20\n",
      "2  bla      6   30\n",
      "3  boe      7   60\n",
      "4  foo      4   40\n"
     ]
    }
   ],
   "source": [
    "f[\"key\"] = [ 10, 20, 30, 60, 40 ]\n",
    "print(f)"
   ],
   "metadata": {
    "collapsed": false
   }
  },
  {
   "cell_type": "markdown",
   "source": [
    "Rijen selecteren:"
   ],
   "metadata": {
    "collapsed": false
   }
  },
  {
   "cell_type": "code",
   "execution_count": 75,
   "outputs": [
    {
     "name": "stdout",
     "output_type": "stream",
     "text": [
      "naam     bar\n",
      "score      5\n",
      "key       20\n",
      "Name: 1, dtype: object\n"
     ]
    }
   ],
   "source": [
    "# gebruik .loc om een rij te selecteren\n",
    "print(f.loc[1]) # geeft een Series"
   ],
   "metadata": {
    "collapsed": false
   }
  },
  {
   "cell_type": "code",
   "execution_count": 76,
   "outputs": [
    {
     "name": "stdout",
     "output_type": "stream",
     "text": [
      "  naam  score  key\n",
      "1  bar      5   20\n",
      "2  bla      6   30\n",
      "3  boe      7   60\n"
     ]
    }
   ],
   "source": [
    "# meerdere rijen selecteren levert een data frame\n",
    "print(f.loc[1:3]) # laatste index inclusief!!!"
   ],
   "metadata": {
    "collapsed": false
   }
  },
  {
   "cell_type": "markdown",
   "source": [],
   "metadata": {
    "collapsed": false
   }
  },
  {
   "cell_type": "code",
   "execution_count": 77,
   "outputs": [
    {
     "name": "stdout",
     "output_type": "stream",
     "text": [
      "  naam  score  key\n",
      "0  foo      1   10\n",
      "2  bla      6   30\n",
      "3  boe      7   60\n",
      "4  foo      4   40\n"
     ]
    }
   ],
   "source": [
    "f = f.drop(1) # verwijder de rij met nummer 1\n",
    "print(f)"
   ],
   "metadata": {
    "collapsed": false
   }
  },
  {
   "cell_type": "code",
   "execution_count": 78,
   "outputs": [],
   "source": [
    "#f.drop(1) # error: er is geen rij nummer 1 meer..."
   ],
   "metadata": {
    "collapsed": false
   }
  },
  {
   "cell_type": "markdown",
   "source": [
    "Data frame als een 2-dimensionale array:"
   ],
   "metadata": {
    "collapsed": false
   }
  },
  {
   "cell_type": "code",
   "execution_count": 79,
   "outputs": [
    {
     "name": "stdout",
     "output_type": "stream",
     "text": [
      "  naam  score  key\n",
      "0  foo      1   10\n",
      "2  bla      6   30\n",
      "3  boe      7   60\n",
      "4  foo      4   40\n",
      "40\n"
     ]
    }
   ],
   "source": [
    "# gebruik iloc voor rij- en kolomnummers\n",
    "print(f)\n",
    "print(f.iloc[3,2])"
   ],
   "metadata": {
    "collapsed": false
   }
  },
  {
   "cell_type": "code",
   "execution_count": 80,
   "outputs": [
    {
     "name": "stdout",
     "output_type": "stream",
     "text": [
      "naam     foo\n",
      "score      4\n",
      "key       40\n",
      "Name: 4, dtype: object\n"
     ]
    }
   ],
   "source": [
    "# selecteer een rijnummer\n",
    "print(f.iloc[3])"
   ],
   "metadata": {
    "collapsed": false
   }
  },
  {
   "cell_type": "code",
   "execution_count": 81,
   "outputs": [
    {
     "name": "stdout",
     "output_type": "stream",
     "text": [
      "  naam  score  key\n",
      "2  bla      6   30\n",
      "3  boe      7   60\n",
      "4  foo      4   40\n"
     ]
    }
   ],
   "source": [
    "# selecteer verschillende rijnummers\n",
    "print(f.iloc[1:4])"
   ],
   "metadata": {
    "collapsed": false
   }
  },
  {
   "cell_type": "code",
   "execution_count": 82,
   "outputs": [
    {
     "name": "stdout",
     "output_type": "stream",
     "text": [
      "naam     foo\n",
      "score      4\n",
      "key       40\n",
      "Name: 4, dtype: object\n"
     ]
    }
   ],
   "source": [
    "# wat doet dit?\n",
    "print(f.iloc[-1])"
   ],
   "metadata": {
    "collapsed": false
   }
  },
  {
   "cell_type": "code",
   "execution_count": 83,
   "outputs": [
    {
     "name": "stdout",
     "output_type": "stream",
     "text": [
      "   score  key\n",
      "0      1   10\n",
      "2      6   30\n"
     ]
    }
   ],
   "source": [
    "# combinatie van rijen en kolommen\n",
    "print(f.iloc[0:2,1:3])"
   ],
   "metadata": {
    "collapsed": false
   }
  },
  {
   "cell_type": "markdown",
   "source": [
    "Informatie over data frame:"
   ],
   "metadata": {
    "collapsed": false
   }
  },
  {
   "cell_type": "code",
   "execution_count": 84,
   "outputs": [
    {
     "name": "stdout",
     "output_type": "stream",
     "text": [
      "  naam  score  key\n",
      "0  foo      1   10\n",
      "2  bla      6   30\n",
      "3  boe      7   60\n"
     ]
    }
   ],
   "source": [
    "print(f.head(n=3))"
   ],
   "metadata": {
    "collapsed": false
   }
  },
  {
   "cell_type": "code",
   "execution_count": 85,
   "outputs": [
    {
     "name": "stdout",
     "output_type": "stream",
     "text": [
      "<class 'pandas.core.frame.DataFrame'>\n",
      "Int64Index: 4 entries, 0 to 4\n",
      "Data columns (total 3 columns):\n",
      " #   Column  Non-Null Count  Dtype \n",
      "---  ------  --------------  ----- \n",
      " 0   naam    4 non-null      object\n",
      " 1   score   4 non-null      int32 \n",
      " 2   key     4 non-null      int64 \n",
      "dtypes: int32(1), int64(1), object(1)\n",
      "memory usage: 112.0+ bytes\n",
      "None\n"
     ]
    }
   ],
   "source": [
    "print(f.info())"
   ],
   "metadata": {
    "collapsed": false
   }
  },
  {
   "cell_type": "code",
   "execution_count": 86,
   "outputs": [
    {
     "data": {
      "text/plain": "          score       key\ncount  4.000000   4.00000\nmean   4.500000  35.00000\nstd    2.645751  20.81666\nmin    1.000000  10.00000\n25%    3.250000  25.00000\n50%    5.000000  35.00000\n75%    6.250000  45.00000\nmax    7.000000  60.00000",
      "text/html": "<div>\n<style scoped>\n    .dataframe tbody tr th:only-of-type {\n        vertical-align: middle;\n    }\n\n    .dataframe tbody tr th {\n        vertical-align: top;\n    }\n\n    .dataframe thead th {\n        text-align: right;\n    }\n</style>\n<table border=\"1\" class=\"dataframe\">\n  <thead>\n    <tr style=\"text-align: right;\">\n      <th></th>\n      <th>score</th>\n      <th>key</th>\n    </tr>\n  </thead>\n  <tbody>\n    <tr>\n      <th>count</th>\n      <td>4.000000</td>\n      <td>4.00000</td>\n    </tr>\n    <tr>\n      <th>mean</th>\n      <td>4.500000</td>\n      <td>35.00000</td>\n    </tr>\n    <tr>\n      <th>std</th>\n      <td>2.645751</td>\n      <td>20.81666</td>\n    </tr>\n    <tr>\n      <th>min</th>\n      <td>1.000000</td>\n      <td>10.00000</td>\n    </tr>\n    <tr>\n      <th>25%</th>\n      <td>3.250000</td>\n      <td>25.00000</td>\n    </tr>\n    <tr>\n      <th>50%</th>\n      <td>5.000000</td>\n      <td>35.00000</td>\n    </tr>\n    <tr>\n      <th>75%</th>\n      <td>6.250000</td>\n      <td>45.00000</td>\n    </tr>\n    <tr>\n      <th>max</th>\n      <td>7.000000</td>\n      <td>60.00000</td>\n    </tr>\n  </tbody>\n</table>\n</div>"
     },
     "execution_count": 86,
     "metadata": {},
     "output_type": "execute_result"
    }
   ],
   "source": [
    "f.describe()"
   ],
   "metadata": {
    "collapsed": false
   }
  },
  {
   "cell_type": "code",
   "execution_count": 87,
   "outputs": [
    {
     "data": {
      "text/plain": "count       4\nunique      3\ntop       foo\nfreq        2\nName: naam, dtype: object"
     },
     "execution_count": 87,
     "metadata": {},
     "output_type": "execute_result"
    }
   ],
   "source": [
    "f.naam.describe()"
   ],
   "metadata": {
    "collapsed": false
   }
  },
  {
   "cell_type": "markdown",
   "source": [
    "## Functies schrijven"
   ],
   "metadata": {
    "collapsed": false
   }
  },
  {
   "cell_type": "code",
   "execution_count": 88,
   "outputs": [],
   "source": [
    "# zie je wat volgende code doet?\n",
    "# indentatie is belangrijk! (geen accolades)\n",
    "def mijn_functie(n):\n",
    "    result = np.sqrt(n)/2\n",
    "    return result"
   ],
   "metadata": {
    "collapsed": false
   }
  },
  {
   "cell_type": "code",
   "execution_count": 89,
   "outputs": [
    {
     "name": "stdout",
     "output_type": "stream",
     "text": [
      "1.5\n"
     ]
    }
   ],
   "source": [
    "print(mijn_functie(9))"
   ],
   "metadata": {
    "collapsed": false
   }
  },
  {
   "cell_type": "markdown",
   "source": [
    "Meerdere return-values:"
   ],
   "metadata": {
    "collapsed": false
   }
  },
  {
   "cell_type": "code",
   "execution_count": 90,
   "outputs": [],
   "source": [
    "def minmax(x):\n",
    "  return [ np.min(x), np.max(x) ]"
   ],
   "metadata": {
    "collapsed": false
   }
  },
  {
   "cell_type": "code",
   "execution_count": 91,
   "outputs": [
    {
     "name": "stdout",
     "output_type": "stream",
     "text": [
      "1\n",
      "5\n"
     ]
    }
   ],
   "source": [
    "mi, ma = minmax([1,2,3,4,5])\n",
    "print(mi)\n",
    "print(ma)"
   ],
   "metadata": {
    "collapsed": false
   }
  },
  {
   "cell_type": "markdown",
   "source": [
    "Parameters:"
   ],
   "metadata": {
    "collapsed": false
   }
  },
  {
   "cell_type": "code",
   "execution_count": 92,
   "outputs": [],
   "source": [
    "def mijn_functie(a, b, c):\n",
    "  return a + b - c"
   ],
   "metadata": {
    "collapsed": false
   }
  },
  {
   "cell_type": "code",
   "execution_count": 93,
   "outputs": [
    {
     "data": {
      "text/plain": "14"
     },
     "execution_count": 93,
     "metadata": {},
     "output_type": "execute_result"
    }
   ],
   "source": [
    "mijn_functie(10, 5, 1)"
   ],
   "metadata": {
    "collapsed": false
   }
  },
  {
   "cell_type": "code",
   "execution_count": 94,
   "outputs": [
    {
     "data": {
      "text/plain": "14"
     },
     "execution_count": 94,
     "metadata": {},
     "output_type": "execute_result"
    }
   ],
   "source": [
    "mijn_functie(b=5, a=10, c=1)"
   ],
   "metadata": {
    "collapsed": false
   }
  },
  {
   "cell_type": "markdown",
   "source": [
    "Default waarden:"
   ],
   "metadata": {
    "collapsed": false
   }
  },
  {
   "cell_type": "code",
   "execution_count": 95,
   "outputs": [],
   "source": [
    "def verhoog(getal, aantal=1):\n",
    "  return getal + aantal"
   ],
   "metadata": {
    "collapsed": false
   }
  },
  {
   "cell_type": "code",
   "execution_count": 96,
   "outputs": [
    {
     "name": "stdout",
     "output_type": "stream",
     "text": [
      "42\n",
      "42\n"
     ]
    }
   ],
   "source": [
    "print(verhoog(41))\n",
    "print(verhoog(40, 2))"
   ],
   "metadata": {
    "collapsed": false
   }
  },
  {
   "cell_type": "markdown",
   "source": [
    "## Controlestructuren"
   ],
   "metadata": {
    "collapsed": false
   }
  },
  {
   "cell_type": "code",
   "execution_count": 97,
   "outputs": [],
   "source": [
    "# zie je wat volgende code doet?\n",
    "def zoek(element, lijst):\n",
    "  if len(lijst)==0:\n",
    "    return False\n",
    "  else:\n",
    "    for d in lijst: # for lus is altijd een foreach\n",
    "      if d==element: # geen .equals()\n",
    "        return True\n",
    "    return False"
   ],
   "metadata": {
    "collapsed": false
   }
  },
  {
   "cell_type": "code",
   "execution_count": 98,
   "outputs": [
    {
     "name": "stdout",
     "output_type": "stream",
     "text": [
      "True\n",
      "False\n"
     ]
    }
   ],
   "source": [
    "print(zoek(4, [3,4,6,8]))\n",
    "print(zoek(4, [3,6,8]))"
   ],
   "metadata": {
    "collapsed": false
   }
  },
  {
   "cell_type": "code",
   "execution_count": 99,
   "outputs": [],
   "source": [
    "# dit is hetzelfde, maar met een while lus\n",
    "def zoek(element, lijst):\n",
    "  if len(lijst)==0:\n",
    "    return False\n",
    "  else:\n",
    "    i = 0\n",
    "    while i < len(lijst):\n",
    "      if lijst[i]==element:\n",
    "        return True\n",
    "      i = i + 1\n",
    "    return False"
   ],
   "metadata": {
    "collapsed": false
   }
  },
  {
   "cell_type": "code",
   "execution_count": 100,
   "outputs": [
    {
     "name": "stdout",
     "output_type": "stream",
     "text": [
      "True\n",
      "False\n"
     ]
    }
   ],
   "source": [
    "print(zoek(4, [3,4,6,8]))\n",
    "print(zoek(4, [3,6,8]))"
   ],
   "metadata": {
    "collapsed": false
   }
  },
  {
   "cell_type": "markdown",
   "source": [
    "## Functioneel programmeren"
   ],
   "metadata": {
    "collapsed": false
   }
  },
  {
   "cell_type": "code",
   "execution_count": 101,
   "outputs": [],
   "source": [
    "# kan je zien wat volgende code doet?\n",
    "def pas_functie_toe(lijst, functie):\n",
    "  resultaat = []\n",
    "  for element in lijst:\n",
    "    resultaat = resultaat + [ functie(element) ]\n",
    "  return resultaat"
   ],
   "metadata": {
    "collapsed": false
   }
  },
  {
   "cell_type": "code",
   "execution_count": 102,
   "outputs": [],
   "source": [
    "def verhoog(n):\n",
    "  return n + 1"
   ],
   "metadata": {
    "collapsed": false
   }
  },
  {
   "cell_type": "code",
   "execution_count": 103,
   "outputs": [
    {
     "name": "stdout",
     "output_type": "stream",
     "text": [
      "[11, 21, 31]\n"
     ]
    }
   ],
   "source": [
    "# verklaar de output\n",
    "lijst = [10, 20, 30]\n",
    "result = pas_functie_toe(lijst, verhoog)\n",
    "print(result)"
   ],
   "metadata": {
    "collapsed": false
   }
  },
  {
   "cell_type": "code",
   "execution_count": 104,
   "outputs": [],
   "source": [
    "# de types moeten nu wel kloppen...\n",
    "a = 1\n",
    "pas_functie_toe(a, verhoog)"
   ],
   "metadata": {
    "collapsed": false
   }
  },
  {
   "cell_type": "code",
   "execution_count": 105,
   "outputs": [
    {
     "name": "stdout",
     "output_type": "stream",
     "text": [
      "0    11\n",
      "1    21\n",
      "2    31\n",
      "dtype: int64\n"
     ]
    }
   ],
   "source": [
    "# deze functionaliteit bestaat al in Series (apply)\n",
    "lijst = pd.Series([10, 20, 30])\n",
    "lijst2 = lijst.apply(verhoog)\n",
    "print(lijst2)"
   ],
   "metadata": {
    "collapsed": false
   }
  },
  {
   "cell_type": "markdown",
   "source": [
    "## Eigen bibliotheken maken"
   ],
   "metadata": {
    "collapsed": false
   }
  },
  {
   "cell_type": "code",
   "execution_count": 106,
   "outputs": [],
   "source": [
    "import os, sys\n",
    "parent_dir = os.path.abspath('../..') # verwijst naar de basisfolder van dit project\n",
    "if parent_dir not in sys.path:\n",
    "    sys.path.append(parent_dir)"
   ],
   "metadata": {
    "collapsed": false
   }
  },
  {
   "cell_type": "code",
   "execution_count": 107,
   "outputs": [
    {
     "ename": "ModuleNotFoundError",
     "evalue": "No module named 'lessen'",
     "output_type": "error",
     "traceback": [
      "\u001B[1;31m---------------------------------------------------------------------------\u001B[0m",
      "\u001B[1;31mModuleNotFoundError\u001B[0m                       Traceback (most recent call last)",
      "Cell \u001B[1;32mIn[107], line 1\u001B[0m\n\u001B[1;32m----> 1\u001B[0m \u001B[38;5;28;01mimport\u001B[39;00m \u001B[38;5;21;01mlessen\u001B[39;00m\u001B[38;5;21;01m.\u001B[39;00m\u001B[38;5;21;01mweek2_Python\u001B[39;00m\u001B[38;5;21;01m.\u001B[39;00m\u001B[38;5;21;01mscript\u001B[39;00m \u001B[38;5;28;01mas\u001B[39;00m \u001B[38;5;21;01mscript\u001B[39;00m\n\u001B[0;32m      3\u001B[0m script\u001B[38;5;241m.\u001B[39mrepeat(\u001B[38;5;241m3\u001B[39m,\u001B[38;5;241m5\u001B[39m)\n",
      "\u001B[1;31mModuleNotFoundError\u001B[0m: No module named 'lessen'"
     ]
    }
   ],
   "source": [
    "import lessen.week2_Python.script as script\n",
    "\n",
    "script.repeat(3,5)"
   ],
   "metadata": {
    "collapsed": false
   }
  },
  {
   "cell_type": "code",
   "execution_count": 107,
   "outputs": [],
   "source": [],
   "metadata": {
    "collapsed": false
   }
  },
  {
   "cell_type": "code",
   "execution_count": null,
   "outputs": [],
   "source": [],
   "metadata": {
    "collapsed": false,
    "pycharm": {
     "is_executing": true
    }
   }
  },
  {
   "cell_type": "code",
   "execution_count": 107,
   "outputs": [],
   "source": [],
   "metadata": {
    "collapsed": false
   }
  }
 ],
 "metadata": {
  "kernelspec": {
   "display_name": "Python 3 (ipykernel)",
   "language": "python",
   "name": "python3"
  },
  "language_info": {
   "codemirror_mode": {
    "name": "ipython",
    "version": 3
   },
   "file_extension": ".py",
   "mimetype": "text/x-python",
   "name": "python",
   "nbconvert_exporter": "python",
   "pygments_lexer": "ipython3",
   "version": "3.9.7"
  }
 },
 "nbformat": 4,
 "nbformat_minor": 1
}
