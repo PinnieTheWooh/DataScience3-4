{
 "cells": [
  {
   "cell_type": "markdown",
   "source": [
    "# Oefening Airports"
   ],
   "metadata": {
    "collapsed": false
   }
  },
  {
   "cell_type": "markdown",
   "source": [
    "Importeer hier alle nodige bibliotheken:"
   ],
   "metadata": {
    "collapsed": false
   }
  },
  {
   "cell_type": "code",
   "execution_count": 1,
   "metadata": {},
   "outputs": [],
   "source": [
    "# hier komt jouw code"
   ]
  },
  {
   "cell_type": "markdown",
   "metadata": {},
   "source": [
    "Lees de volgende CSV-bestanden met de vertragingsgegevens van Amerikaanse luchtvaartmaatschappijen in in twee DataFrames. Je vindt deze gegevens op volgende URL's:\n",
    "\n",
    "* https://raw.githubusercontent.com/nickdcox/learn-airline-delays/main/delays_2018.csv (noem dit dataframe `delays2018`)\n",
    "* https://raw.githubusercontent.com/nickdcox/learn-airline-delays/main/delays_2019.csv (noem dit dataframe `delays2019`)\n",
    "\n",
    "Je vindt daarin volgende gegevens:"
   ]
  },
  {
   "cell_type": "markdown",
   "source": [
    "```{text}\n",
    "            Column Name                                                                                           Description\n",
    "0                  date                                                   Year and month, in the format YYYY-M (e.g., 2018-1)\n",
    "1               carrier                                                 The two character designator for the carrier/airline.\n",
    "2          carrier_name                                                                 The full name of the carrier/airline.\n",
    "3               airport                                               The three character designator for the arrival airport.\n",
    "4          airport_name                                                                 The full name of the arrival airport.\n",
    "5           arr_flights            The total number of arriving flights for the carrier-airport pair for the month specified.\n",
    "6             arr_del15   The number of arriving flights that were delayed. Delayed is when a flight arrives more than 15 ...\n",
    "7            carrier_ct                                        The number of arriving flights delayed due to a carrier issue.\n",
    "8            weather_ct                                        The number of arriving flights delayed due to a weather issue.\n",
    "9                nas_ct                            The number of arriving flights delayed due to a national air system issue.\n",
    "10          security_ct                                      The number of arriving flights delayed due to a security issue.\n",
    "11     late_aircraft_ct                The number of arriving flights delayed due to an earlier late arrival of an aircraft.\n",
    "12        arr_cancelled                                                                     The number of cancelled flights.\n",
    "13         arr_diverted                                                                      The number of diverted flights.\n",
    "14            arr_delay                                                   The total number of delayed minutes due to delays.\n",
    "15        carrier_delay                                           The total number of delayed minutes due to carrier issues.\n",
    "16        weather_delay                                           The total number of delayed minutes due to weather issues.\n",
    "17            nas_delay                               The total number of delayed minutes due to national air system issues.\n",
    "18       security_delay                                          The total number of delayed minutes due to security issues.\n",
    "19  late_aircraft_delay                        The total number of delayed minutes due to earlier later arrival of aircraft.\n",
    "```"
   ],
   "metadata": {
    "collapsed": false
   }
  },
  {
   "cell_type": "code",
   "execution_count": 2,
   "metadata": {},
   "outputs": [],
   "source": [
    "# hier komt jouw code"
   ]
  },
  {
   "cell_type": "markdown",
   "metadata": {},
   "source": [
    "Concateneer de twee dataframes tot één dataframe genaamd `delays` en geef vervolgens het totale aantal rijen weer. Je kan dataframes concateneren met de methode `concat()`. Maak een nieuwe index aan bij het concateneren, dat kan met een bepaalde parameter. In totaal zou je 41177 rijen moeten bekomen. Controleer dat."
   ]
  },
  {
   "cell_type": "code",
   "execution_count": 3,
   "metadata": {},
   "outputs": [],
   "source": [
    "# hier komt jouw code"
   ]
  },
  {
   "cell_type": "markdown",
   "metadata": {},
   "source": [
    "Welke rijen hebben minstens 1 van volgende eigenschappen?\n",
    "* de luchthaven heeft geen arriving flights (ontbrekende waarde voor arr_flights)\n",
    "* lege carrier of lege airports\n",
    "\n",
    "Verwijder deze rijen uit de tabel\n",
    "In totaal zou je nu nog 41097 rijen moeten overhouden. Controleer dat."
   ]
  },
  {
   "cell_type": "code",
   "execution_count": 4,
   "metadata": {},
   "outputs": [],
   "source": [
    "# hier komt jouw code"
   ]
  },
  {
   "cell_type": "markdown",
   "metadata": {},
   "source": [
    "Geef een lijst weer van alle luchthavens waarvan de airport in \"Tennessee\" ligt. Deze luchthavens hebben de letters \"TN:\" in hun \"airport_name\" zitten. Dit zouden er 5 moeten zijn.  Je kan dit met een for lus doen, maar er is ook een methode \"contains()\" die je kan gebruiken op een pandas Series.  Het resultaat is een lijst van booleans die weergeeft op welke plaats het gezochte patroon voorkomt."
   ]
  },
  {
   "cell_type": "code",
   "execution_count": 5,
   "metadata": {},
   "outputs": [],
   "source": [
    "# hier komt jouw code"
   ]
  },
  {
   "cell_type": "markdown",
   "metadata": {},
   "source": [
    "Importeer het coördinatenbestand airport_coordinates.csv. Dit bestand bevat de lengte -en breedtegraden van verschillende Amerikaanse luchthavens evenals hun airport-code"
   ]
  },
  {
   "cell_type": "code",
   "execution_count": 6,
   "metadata": {},
   "outputs": [],
   "source": [
    "# hier komt jouw code"
   ]
  },
  {
   "cell_type": "markdown",
   "metadata": {},
   "source": [
    "Volgende code wordt al gegeven.  Ze maakt een nieuw dataframe, genaamd \"airports\", met een lijst van luchthavens en hun code (\"airport\" en \"airport_name\"). In dit nieuwe dataframe worden duplicaten verwijderd. Daarna worden de twee dataframes samengevoegd op de `airport`-sleutel met de \"merge\"-methode.  Het resultaat is een tabel met \"airport\", \"airport_name\", \"lat\" en \"long\" als komommen."
   ]
  },
  {
   "cell_type": "code",
   "execution_count": 7,
   "metadata": {},
   "outputs": [
    {
     "ename": "NameError",
     "evalue": "name 'delays' is not defined",
     "output_type": "error",
     "traceback": [
      "\u001B[0;31m---------------------------------------------------------------------------\u001B[0m",
      "\u001B[0;31mNameError\u001B[0m                                 Traceback (most recent call last)",
      "Cell \u001B[0;32mIn[7], line 2\u001B[0m\n\u001B[1;32m      1\u001B[0m \u001B[38;5;66;03m# keep\u001B[39;00m\n\u001B[0;32m----> 2\u001B[0m airports \u001B[38;5;241m=\u001B[39m \u001B[43mdelays\u001B[49m[[\u001B[38;5;124m'\u001B[39m\u001B[38;5;124mairport\u001B[39m\u001B[38;5;124m'\u001B[39m, \u001B[38;5;124m'\u001B[39m\u001B[38;5;124mairport_name\u001B[39m\u001B[38;5;124m'\u001B[39m]]\n\u001B[1;32m      3\u001B[0m airports \u001B[38;5;241m=\u001B[39m airports\u001B[38;5;241m.\u001B[39mdrop_duplicates()\n\u001B[1;32m      4\u001B[0m result \u001B[38;5;241m=\u001B[39m airports\u001B[38;5;241m.\u001B[39mmerge(airports_coord)\n",
      "\u001B[0;31mNameError\u001B[0m: name 'delays' is not defined"
     ]
    }
   ],
   "source": [
    "# keep\n",
    "airports = delays[['airport', 'airport_name']]\n",
    "airports = airports.drop_duplicates()\n",
    "result = airports.merge(airports_coord)"
   ]
  },
  {
   "cell_type": "markdown",
   "metadata": {},
   "source": [
    "Bereken de gemiddelde lengte- en breedtegraad van alle luchthavens waarvan de naam begint met de letter 'B'.  Je kan hierbij de methode \"startswith()\" van Series gebruiken."
   ]
  },
  {
   "cell_type": "code",
   "execution_count": null,
   "metadata": {},
   "outputs": [],
   "source": [
    "# hier komt jouw code"
   ]
  },
  {
   "cell_type": "markdown",
   "source": [
    "Bereken de minimale en maximale waarden voor latitude en longitude.  Waar zijn de luchthavens gesitueerd?"
   ],
   "metadata": {
    "collapsed": false
   }
  },
  {
   "cell_type": "code",
   "execution_count": null,
   "outputs": [],
   "source": [
    "# hier komt jouw code"
   ],
   "metadata": {
    "collapsed": false
   }
  },
  {
   "cell_type": "markdown",
   "source": [
    "Voeg een nieuwe kolom \"zone\" toe die aangeeft waar de luchthaven zich ergens bevindt.  Er zijn vier zones:\n",
    "- \"ZW\": Zuid-Westelijk (lat < 44.48, long < -120.72)\n",
    "- \"ZO\": Zuid-Oostelijk (lat < 44.48, long > -120.72)\n",
    "- \"NW\": Noord-Westelijk (lat > 44.48, long < -120.72)\n",
    "- \"NO\": Noord-Oostelijk (lat > 44.48, long > -120.72)\n",
    "Gebruik de afkortingen ZW, ZO, NW en NO als waarden voor de nieuwe kolom.\n"
   ],
   "metadata": {
    "collapsed": false
   }
  },
  {
   "cell_type": "code",
   "execution_count": null,
   "outputs": [],
   "source": [
    "# hier komt jouw code"
   ],
   "metadata": {
    "collapsed": false
   }
  },
  {
   "cell_type": "markdown",
   "source": [
    "Bereken nu de gemiddelde latitude en longitude per zone.  Je mag dit doen met een for loop.  Er is een methode \"mean()\" die het gemiddelde van een Series berekent.  Die mag je gebruiken."
   ],
   "metadata": {
    "collapsed": false
   }
  },
  {
   "cell_type": "code",
   "execution_count": null,
   "outputs": [],
   "source": [
    "# hier komt jouw code"
   ],
   "metadata": {
    "collapsed": false
   }
  }
 ],
 "metadata": {
  "kernelspec": {
   "display_name": "Python 3",
   "language": "python",
   "name": "python3"
  },
  "language_info": {
   "codemirror_mode": {
    "name": "ipython",
    "version": 3
   },
   "file_extension": ".py",
   "mimetype": "text/x-python",
   "name": "python",
   "nbconvert_exporter": "python",
   "pygments_lexer": "ipython3",
   "version": "3.8.7"
  },
  "toc": {
   "base_numbering": 1,
   "nav_menu": {},
   "number_sections": true,
   "sideBar": true,
   "skip_h1_title": false,
   "title_cell": "Table of Contents",
   "title_sidebar": "Contents",
   "toc_cell": false,
   "toc_position": {},
   "toc_section_display": true,
   "toc_window_display": false
  },
  "varInspector": {
   "cols": {
    "lenName": 16,
    "lenType": 16,
    "lenVar": 40
   },
   "kernels_config": {
    "python": {
     "delete_cmd_postfix": "",
     "delete_cmd_prefix": "del ",
     "library": "var_list.py",
     "varRefreshCmd": "print(var_dic_list())"
    },
    "r": {
     "delete_cmd_postfix": ") ",
     "delete_cmd_prefix": "rm(",
     "library": "var_list.r",
     "varRefreshCmd": "cat(var_dic_list()) "
    }
   },
   "types_to_exclude": [
    "module",
    "function",
    "builtin_function_or_method",
    "instance",
    "_Feature"
   ],
   "window_display": false
  }
 },
 "nbformat": 4,
 "nbformat_minor": 1
}
