{
 "cells": [
  {
   "cell_type": "markdown",
   "source": [
    "# Karakterherkenning met clusters"
   ],
   "metadata": {
    "collapsed": false
   }
  },
  {
   "cell_type": "code",
   "execution_count": null,
   "metadata": {
    "collapsed": true
   },
   "outputs": [],
   "source": [
    "import pandas as pd\n",
    "from matplotlib import pyplot\n",
    "import numpy as np\n",
    "import matplotlib.pyplot as plt\n",
    "from sklearn.cluster import KMeans"
   ]
  },
  {
   "cell_type": "markdown",
   "source": [
    "Lees de datasets in (een set van 60000 beeldjes om te trainen en 10000 beeldjes om te testen)"
   ],
   "metadata": {
    "collapsed": false
   }
  },
  {
   "cell_type": "code",
   "execution_count": null,
   "outputs": [],
   "source": [
    "mnist_train = pd.read_csv('../week8_Beslissingsbomen/mnist_train.csv')\n",
    "mnist_test = pd.read_csv('../week8_Beslissingsbomen/mnist_test.csv')"
   ],
   "metadata": {
    "collapsed": false
   }
  },
  {
   "cell_type": "markdown",
   "source": [
    "De kolom 'value' bevat de te voorspellen waarde.  We splitsen deze kolom af.  Daarna combineren we train- en testdata tot 1 tabel:"
   ],
   "metadata": {
    "collapsed": false
   }
  },
  {
   "cell_type": "code",
   "execution_count": null,
   "outputs": [],
   "source": [
    "data = mnist_train.drop(columns='value')\n",
    "target = mnist_train['value']\n",
    "\n",
    "data_test = mnist_test.drop(columns='value')\n",
    "target_test = mnist_test['value']\n",
    "\n",
    "# maak 1 tabel met alle (70000) rijen\n",
    "data = pd.concat([data, data_test])\n",
    "target = pd.concat([target, target_test])"
   ],
   "metadata": {
    "collapsed": false
   }
  },
  {
   "cell_type": "markdown",
   "source": [
    "We kunnen een paar beeldjes laten zien:"
   ],
   "metadata": {
    "collapsed": false
   }
  },
  {
   "cell_type": "code",
   "execution_count": null,
   "outputs": [],
   "source": [
    "for i in range(9):\n",
    "    pyplot.subplot(3, 3, 1 + i)\n",
    "    pyplot.imshow(np.reshape(data.iloc[i].to_list(), (28,28)), cmap=pyplot.get_cmap('gray'))\n",
    "pyplot.show()"
   ],
   "metadata": {
    "collapsed": false
   }
  },
  {
   "cell_type": "markdown",
   "source": [
    "Nu kunnen we 10 clusters zoeken met Kmeans:"
   ],
   "metadata": {
    "collapsed": false
   }
  },
  {
   "cell_type": "code",
   "execution_count": null,
   "outputs": [],
   "source": [
    "model = KMeans(n_clusters=10, random_state=43)\n",
    "model.fit(data)"
   ],
   "metadata": {
    "collapsed": false
   }
  },
  {
   "cell_type": "markdown",
   "source": [
    "Nu vergelijken we de clusters met de echte cijfers."
   ],
   "metadata": {
    "collapsed": false
   }
  },
  {
   "cell_type": "code",
   "execution_count": null,
   "outputs": [],
   "source": [
    "clusters = model.labels_\n",
    "d = pd.DataFrame({'cluster':clusters, 'real':target})\n",
    "print(d.head(20))"
   ],
   "metadata": {
    "collapsed": false
   }
  },
  {
   "cell_type": "markdown",
   "source": [
    "We gaan eens kijken welke cijfers in cluster 0 zitten:"
   ],
   "metadata": {
    "collapsed": false
   }
  },
  {
   "cell_type": "code",
   "execution_count": null,
   "outputs": [],
   "source": [
    "rijen = (d.cluster == 0)\n",
    "cijfers = d.real[rijen]\n",
    "cijfers.value_counts().sort_index()"
   ],
   "metadata": {
    "collapsed": false
   }
  },
  {
   "cell_type": "markdown",
   "source": [
    "Welke cluster mapt er op welk cijfer?"
   ],
   "metadata": {
    "collapsed": false
   }
  },
  {
   "cell_type": "code",
   "execution_count": null,
   "outputs": [],
   "source": [
    "result = pd.DataFrame()\n",
    "for cluster in range(10):\n",
    "    rijen = (d.cluster == cluster)\n",
    "    cijfers = d.real[rijen]\n",
    "    freqs = cijfers.value_counts().sort_index()\n",
    "    result[cluster] = freqs\n",
    "result = result.fillna(0)\n",
    "print(result)"
   ],
   "metadata": {
    "collapsed": false
   }
  },
  {
   "cell_type": "markdown",
   "source": [
    "Hoe ziet een gemiddelde cluster 0 eruit?"
   ],
   "metadata": {
    "collapsed": false
   }
  },
  {
   "cell_type": "code",
   "execution_count": null,
   "outputs": [],
   "source": [
    "rijen = (d.cluster == 0)\n",
    "gemiddelde = data[rijen].mean()\n",
    "fig, ax = plt.subplots()\n",
    "pyplot.imshow(np.reshape(gemiddelde.to_list(), (28,28)), cmap=pyplot.get_cmap('gray'))"
   ],
   "metadata": {
    "collapsed": false
   }
  },
  {
   "cell_type": "markdown",
   "source": [
    "Hoe zien alle andere gemiddelde clusters eruit?"
   ],
   "metadata": {
    "collapsed": false
   }
  },
  {
   "cell_type": "code",
   "execution_count": null,
   "outputs": [],
   "source": [
    "for cluster in range(10):\n",
    "    rijen = (d.cluster == cluster)\n",
    "    gemiddelde = data[rijen].mean()\n",
    "    pyplot.subplot(3, 4, 1 + cluster)\n",
    "    pyplot.imshow(np.reshape(gemiddelde.to_list(), (28,28)), cmap=pyplot.get_cmap('gray'))"
   ],
   "metadata": {
    "collapsed": false
   }
  },
  {
   "cell_type": "markdown",
   "source": [
    "Wat als ik 20 clusters maak?"
   ],
   "metadata": {
    "collapsed": false
   }
  },
  {
   "cell_type": "code",
   "execution_count": null,
   "outputs": [],
   "source": [
    "model = KMeans(n_clusters=20, random_state=43)\n",
    "model.fit(data)\n",
    "clusters = model.labels_\n",
    "d = pd.DataFrame({'cluster':clusters, 'real':target})\n",
    "for cluster in range(20):\n",
    "    rijen = (d.cluster == cluster)\n",
    "    gemiddelde = data[rijen].mean()\n",
    "    pyplot.subplot(5, 4, 1 + cluster)\n",
    "    pyplot.imshow(np.reshape(gemiddelde.to_list(), (28,28)), cmap=pyplot.get_cmap('gray'))"
   ],
   "metadata": {
    "collapsed": false
   }
  },
  {
   "cell_type": "code",
   "execution_count": null,
   "outputs": [],
   "source": [
    "result = pd.DataFrame()\n",
    "for cluster in range(20):\n",
    "    rijen = (d.cluster == cluster)\n",
    "    cijfers = d.real[rijen]\n",
    "    freqs = cijfers.value_counts().sort_index()\n",
    "    result[cluster] = freqs\n",
    "result = result.fillna(0)\n",
    "result"
   ],
   "metadata": {
    "collapsed": false
   }
  }
 ],
 "metadata": {
  "kernelspec": {
   "display_name": "Python 3",
   "language": "python",
   "name": "python3"
  },
  "language_info": {
   "codemirror_mode": {
    "name": "ipython",
    "version": 2
   },
   "file_extension": ".py",
   "mimetype": "text/x-python",
   "name": "python",
   "nbconvert_exporter": "python",
   "pygments_lexer": "ipython2",
   "version": "2.7.6"
  }
 },
 "nbformat": 4,
 "nbformat_minor": 0
}
