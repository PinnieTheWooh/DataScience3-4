{
 "cells": [
  {
   "cell_type": "markdown",
   "source": [
    "# Clustering"
   ],
   "metadata": {
    "collapsed": false
   }
  },
  {
   "cell_type": "code",
   "execution_count": null,
   "outputs": [],
   "source": [
    "import math\n",
    "import pandas as pd\n",
    "import matplotlib.pyplot as plt\n",
    "from sklearn.cluster import KMeans\n",
    "from scipy.cluster.hierarchy import linkage, dendrogram, cut_tree\n",
    "from sklearn import tree\n",
    "from scipy import stats"
   ],
   "metadata": {
    "collapsed": false
   }
  },
  {
   "cell_type": "markdown",
   "source": [
    "## Afstanden"
   ],
   "metadata": {
    "collapsed": false
   }
  },
  {
   "cell_type": "code",
   "execution_count": null,
   "metadata": {
    "collapsed": true
   },
   "outputs": [],
   "source": [
    "def afstand_euclidisch(tabel, i, j):\n",
    "    rij1 = tabel.iloc[i]\n",
    "    rij2 = tabel.iloc[j]\n",
    "    afstand = math.sqrt(((rij1-rij2)**2).sum())\n",
    "    return afstand"
   ]
  },
  {
   "cell_type": "code",
   "execution_count": null,
   "outputs": [],
   "source": [
    "tabel = pd.DataFrame({'0': [10,18], '1': [12,14], '2': [15,13], '3': [13,15], '4': [9,17]})\n",
    "print(tabel)"
   ],
   "metadata": {
    "collapsed": false
   }
  },
  {
   "cell_type": "code",
   "execution_count": null,
   "outputs": [],
   "source": [
    "afstand_euclidisch(tabel, 0, 1)"
   ],
   "metadata": {
    "collapsed": false
   }
  },
  {
   "cell_type": "code",
   "execution_count": null,
   "outputs": [],
   "source": [
    "def afstand_manhattan(tabel, i, j):\n",
    "    rij1 = tabel.iloc[i]\n",
    "    rij2 = tabel.iloc[j]\n",
    "    afstand = ((rij1-rij2).abs()).sum()\n",
    "    return afstand"
   ],
   "metadata": {
    "collapsed": false
   }
  },
  {
   "cell_type": "code",
   "execution_count": null,
   "outputs": [],
   "source": [
    "afstand_manhattan(tabel, 0, 1)"
   ],
   "metadata": {
    "collapsed": false
   }
  },
  {
   "cell_type": "code",
   "execution_count": null,
   "outputs": [],
   "source": [
    "tabel = pd.DataFrame({'score1':[648,775,113,938,871,200,227,389,757,561], 'score2':[5,6,6,2,4,7,3,8,1,0]})\n",
    "print(tabel)"
   ],
   "metadata": {
    "collapsed": false
   }
  },
  {
   "cell_type": "code",
   "execution_count": null,
   "outputs": [],
   "source": [
    "geschaald = stats.zscore(tabel, ddof=1)\n",
    "geschaald"
   ],
   "metadata": {
    "collapsed": false
   }
  },
  {
   "cell_type": "code",
   "execution_count": null,
   "outputs": [],
   "source": [
    "afstand_euclidisch(geschaald, 0, 2)"
   ],
   "metadata": {
    "collapsed": false
   }
  },
  {
   "cell_type": "code",
   "execution_count": null,
   "outputs": [],
   "source": [
    "afstand_manhattan(geschaald, 0, 2)"
   ],
   "metadata": {
    "collapsed": false
   }
  },
  {
   "cell_type": "markdown",
   "source": [
    "## K-means"
   ],
   "metadata": {
    "collapsed": false
   }
  },
  {
   "cell_type": "code",
   "execution_count": null,
   "outputs": [],
   "source": [
    "voorbeeld = pd.read_csv('voorbeeld.csv')\n",
    "model = KMeans(n_clusters=4, random_state=42)\n",
    "model.fit(voorbeeld) # dit voert het hele algoritme uit\n",
    "clusters = model.labels_ # dit zijn de clusternummers per rij\n",
    "print(clusters)"
   ],
   "metadata": {
    "collapsed": false
   }
  },
  {
   "cell_type": "code",
   "execution_count": null,
   "outputs": [],
   "source": [
    "markers = [ 'o', '+', '^', 's'] # marker per cluster\n",
    "colors = [ 'black', 'green', 'blue', 'red'] # kleur per cluster\n",
    "fig, ax = plt.subplots()\n",
    "# plot de clusters\n",
    "for i in range(0, 4):\n",
    "    ax.scatter(voorbeeld.x[clusters==i], voorbeeld.y[clusters==i], color=colors[i], marker=markers[i])\n",
    "# plot de centroids\n",
    "ax.scatter(model.cluster_centers_[:,0], model.cluster_centers_[:,1], color='purple', marker='D', s=120)\n",
    "# fig.show()"
   ],
   "metadata": {
    "collapsed": false
   }
  },
  {
   "cell_type": "markdown",
   "source": [
    "Je krijgt niet altijd een ideale opdeling:"
   ],
   "metadata": {
    "collapsed": false
   }
  },
  {
   "cell_type": "code",
   "execution_count": null,
   "outputs": [],
   "source": [
    "voorbeeld = pd.read_csv('voorbeeld.csv')\n",
    "model = KMeans(n_clusters=4, random_state=1, init='random', n_init=1)\n",
    "model.fit(voorbeeld) # dit voert het hele algoritme uit\n",
    "clusters = model.labels_ # dit zijn de clusternummers per rij\n",
    "fig, ax = plt.subplots()\n",
    "# plot de clusters\n",
    "for i in range(0, 4):\n",
    "    ax.scatter(voorbeeld.x[clusters==i], voorbeeld.y[clusters==i], color=colors[i], marker=markers[i])\n",
    "# plot de centroids\n",
    "ax.scatter(model.cluster_centers_[:,0], model.cluster_centers_[:,1], color='purple', marker='D', s=120)\n",
    "# fig.show()"
   ],
   "metadata": {
    "collapsed": false
   }
  },
  {
   "cell_type": "markdown",
   "source": [
    "## Hierarchische clustering"
   ],
   "metadata": {
    "collapsed": false
   }
  },
  {
   "cell_type": "code",
   "execution_count": null,
   "outputs": [],
   "source": [
    "hclust = pd.read_csv('hclust.csv')\n",
    "print(hclust)"
   ],
   "metadata": {
    "collapsed": false
   }
  },
  {
   "cell_type": "code",
   "execution_count": null,
   "outputs": [],
   "source": [
    "fig, ax = plt.subplots()\n",
    "ax.scatter(hclust.x, hclust.y, color=\"white\")\n",
    "for i in range(len(hclust)):\n",
    "    ax.text(x=hclust.x[i], y=hclust.y[i], s=str(i), color='red')\n",
    "# fig.show()"
   ],
   "metadata": {
    "collapsed": false
   }
  },
  {
   "cell_type": "code",
   "execution_count": null,
   "outputs": [],
   "source": [
    "fig, ax = plt.subplots()\n",
    "distances = linkage(hclust, method='single', metric='cityblock')\n",
    "dgram = dendrogram(distances, labels=hclust.index, ax=ax)\n",
    "# fig.show()"
   ],
   "metadata": {
    "collapsed": false
   }
  },
  {
   "cell_type": "code",
   "execution_count": null,
   "outputs": [],
   "source": [
    "clusters = cut_tree(distances, n_clusters=4)\n",
    "print(clusters[:,0])"
   ],
   "metadata": {
    "collapsed": false
   }
  },
  {
   "cell_type": "code",
   "execution_count": null,
   "outputs": [],
   "source": [
    "fig, ax = plt.subplots()\n",
    "ax.scatter(hclust.x, hclust.y, color=\"white\")\n",
    "for i in range(len(hclust)):\n",
    "    ax.text(x=hclust.x[i], y=hclust.y[i], s=str(i), color=colors[clusters[i,0]])\n",
    "# fig.show()"
   ],
   "metadata": {
    "collapsed": false
   }
  },
  {
   "cell_type": "code",
   "execution_count": null,
   "outputs": [],
   "source": [
    "voorbeeld = pd.read_csv('voorbeeld.csv')\n",
    "fig, ax = plt.subplots()\n",
    "distances = linkage(voorbeeld, method='complete', metric='euclidean')\n",
    "dgram = dendrogram(distances, labels=voorbeeld.index, ax=ax)\n",
    "# fig.show()"
   ],
   "metadata": {
    "collapsed": false
   }
  },
  {
   "cell_type": "code",
   "execution_count": null,
   "outputs": [],
   "source": [
    "clusters = cut_tree(distances, n_clusters=4)\n",
    "print(clusters[:,0])"
   ],
   "metadata": {
    "collapsed": false
   }
  },
  {
   "cell_type": "code",
   "execution_count": null,
   "outputs": [],
   "source": [
    "clusters = clusters[:,0]\n",
    "markers = [ 'o', '+', '^', 's'] # marker per cluster\n",
    "colors = [ 'black', 'green', 'blue', 'red'] # kleur per cluster\n",
    "fig, ax = plt.subplots()\n",
    "# plot de clusters\n",
    "for i in range(4):\n",
    "    ax.scatter(voorbeeld.x[clusters==i], voorbeeld.y[clusters==i], color=colors[i], marker=markers[i])\n",
    "# fig.show()"
   ],
   "metadata": {
    "collapsed": false
   }
  },
  {
   "cell_type": "markdown",
   "source": [
    "## Combinatie met beslissingsbomen"
   ],
   "metadata": {
    "collapsed": false
   }
  },
  {
   "cell_type": "code",
   "execution_count": null,
   "outputs": [],
   "source": [
    "target = pd.Series(clusters).apply(str)\n",
    "data = voorbeeld\n",
    "model = tree.DecisionTreeClassifier(criterion='entropy', random_state=42)\n",
    "model.fit(data, target)\n",
    "fig, ax = plt.subplots()\n",
    "fig.dpi = 150\n",
    "tree.plot_tree(model, rounded=True, feature_names=data.columns.tolist(), class_names=model.classes_, fontsize=7.5, ax=ax)\n",
    "# fig.show()"
   ],
   "metadata": {
    "collapsed": false
   }
  },
  {
   "cell_type": "code",
   "execution_count": null,
   "outputs": [],
   "source": [],
   "metadata": {
    "collapsed": false
   }
  }
 ],
 "metadata": {
  "kernelspec": {
   "display_name": "Python 3",
   "language": "python",
   "name": "python3"
  },
  "language_info": {
   "codemirror_mode": {
    "name": "ipython",
    "version": 2
   },
   "file_extension": ".py",
   "mimetype": "text/x-python",
   "name": "python",
   "nbconvert_exporter": "python",
   "pygments_lexer": "ipython2",
   "version": "2.7.6"
  }
 },
 "nbformat": 4,
 "nbformat_minor": 0
}
