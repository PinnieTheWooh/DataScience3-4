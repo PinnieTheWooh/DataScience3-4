{
 "cells": [
  {
   "cell_type": "markdown",
   "source": [
    "# Beslissingsbomen"
   ],
   "metadata": {
    "collapsed": false
   }
  },
  {
   "cell_type": "markdown",
   "source": [
    "## Imports"
   ],
   "metadata": {
    "collapsed": false
   }
  },
  {
   "cell_type": "code",
   "execution_count": null,
   "metadata": {
    "collapsed": true
   },
   "outputs": [],
   "source": [
    "import pandas as pd\n",
    "from sklearn import tree\n",
    "import matplotlib.pyplot as plt\n",
    "import csv\n",
    "import id3\n",
    "import graphviz\n",
    "import math"
   ]
  },
  {
   "cell_type": "markdown",
   "source": [
    "## Data inlezen"
   ],
   "metadata": {
    "collapsed": false
   }
  },
  {
   "cell_type": "code",
   "execution_count": null,
   "outputs": [],
   "source": [
    "simpsons_origineel = pd.read_csv('simpsons_origineel.csv')\n",
    "simpsons_origineel.info()"
   ],
   "metadata": {
    "collapsed": false
   }
  },
  {
   "cell_type": "code",
   "execution_count": null,
   "outputs": [],
   "source": [
    "print(simpsons_origineel)"
   ],
   "metadata": {
    "collapsed": false
   }
  },
  {
   "cell_type": "code",
   "execution_count": null,
   "outputs": [],
   "source": [
    "# in categorieën splitsen\n",
    "simpsons_categorical = simpsons_origineel.copy()\n",
    "haarlengte = pd.cut(simpsons_categorical.haarlengte, bins=[-1, 3, 5, 100])\n",
    "haarlengte = haarlengte.cat.rename_categories(['<=3', '3-5', '>5'])\n",
    "simpsons_categorical.haarlengte = haarlengte\n",
    "gewicht = pd.cut(simpsons_categorical.gewicht, bins=[0, 160, 1000])\n",
    "gewicht = gewicht.cat.rename_categories(['<=160', '>160'])\n",
    "simpsons_categorical.gewicht = gewicht\n",
    "leeftijd = pd.cut(simpsons_categorical.leeftijd, bins=[0, 30, 40, 100])\n",
    "leeftijd = leeftijd.cat.rename_categories(['<=30', '30-40', '>40'])\n",
    "simpsons_categorical.leeftijd = leeftijd\n",
    "print(simpsons_categorical.info())\n",
    "simpsons_categorical.to_csv('simpsons_categorical.csv', index=False, quotechar='\"', quoting=csv.QUOTE_NONNUMERIC)"
   ],
   "metadata": {
    "collapsed": false
   }
  },
  {
   "cell_type": "code",
   "execution_count": null,
   "outputs": [],
   "source": [
    "print(simpsons_categorical)"
   ],
   "metadata": {
    "collapsed": false
   }
  },
  {
   "cell_type": "markdown",
   "source": [
    "## Hulpmiddelen"
   ],
   "metadata": {
    "collapsed": false
   }
  },
  {
   "cell_type": "code",
   "execution_count": null,
   "outputs": [],
   "source": [
    "# kijken welke categorieën er zijn in de laatste kolom\n",
    "print(simpsons_categorical.geslacht.unique())"
   ],
   "metadata": {
    "collapsed": false
   }
  },
  {
   "cell_type": "code",
   "execution_count": null,
   "outputs": [],
   "source": [
    "# kijken welke categorieën er zijn in haarlengte\n",
    "print(simpsons_categorical.haarlengte.unique())"
   ],
   "metadata": {
    "collapsed": false
   }
  },
  {
   "cell_type": "code",
   "execution_count": null,
   "outputs": [],
   "source": [
    "# tellen hoeveel mannen en vrouwen er zijn\n",
    "aantalM = (simpsons_categorical['geslacht'] == 'M').sum()\n",
    "print(aantalM)\n",
    "aantalV = (simpsons_categorical['geslacht'] == 'V').sum()\n",
    "print(aantalV)"
   ],
   "metadata": {
    "collapsed": false
   }
  },
  {
   "cell_type": "code",
   "execution_count": null,
   "outputs": [],
   "source": [
    "# kan je dit met absolute frequenties ook vinden?"
   ],
   "metadata": {
    "collapsed": false
   }
  },
  {
   "cell_type": "code",
   "execution_count": null,
   "outputs": [],
   "source": [
    "# een kolom selecteren met een kolomnummer\n",
    "simpsons_categorical.iloc[:, 1]"
   ],
   "metadata": {
    "collapsed": false
   }
  },
  {
   "cell_type": "markdown",
   "source": [
    "## Het ID3 algoritme"
   ],
   "metadata": {
    "collapsed": false
   }
  },
  {
   "cell_type": "code",
   "execution_count": null,
   "outputs": [],
   "source": [
    "def calculate_entropy(target: pd.Series):\n",
    "    freqs = target.value_counts(normalize=True)\n",
    "    log_freqs = freqs.apply(math.log2)\n",
    "    return - (freqs * log_freqs).sum()"
   ],
   "metadata": {
    "collapsed": false
   }
  },
  {
   "cell_type": "code",
   "execution_count": null,
   "outputs": [],
   "source": [
    "# splits data van target en verwijder namen\n",
    "namen = simpsons_categorical.naam\n",
    "target = simpsons_categorical.geslacht\n",
    "data = simpsons_categorical.drop(columns=['naam', 'geslacht'])"
   ],
   "metadata": {
    "collapsed": false
   }
  },
  {
   "cell_type": "code",
   "execution_count": null,
   "outputs": [],
   "source": [
    "calculate_entropy(target)"
   ],
   "metadata": {
    "collapsed": false
   }
  },
  {
   "cell_type": "code",
   "execution_count": null,
   "outputs": [],
   "source": [
    "def calculate_information_gain(data: pd.DataFrame, columnName: str, target: pd.Series):\n",
    "    result = calculate_entropy(target)\n",
    "    column = data[columnName]\n",
    "    categories = column.unique()\n",
    "    n = len(target)\n",
    "    for category in categories:\n",
    "        p = (column == category).sum()\n",
    "        child_target = target[column == category]\n",
    "        entropy = calculate_entropy(child_target)\n",
    "        result = result - p/n * entropy\n",
    "    return result"
   ],
   "metadata": {
    "collapsed": false
   }
  },
  {
   "cell_type": "code",
   "execution_count": null,
   "outputs": [],
   "source": [
    "print(calculate_information_gain(simpsons_categorical, 'naam', target))\n",
    "print(calculate_information_gain(simpsons_categorical, 'haarlengte', target))\n",
    "print(calculate_information_gain(simpsons_categorical, 'gewicht', target))\n",
    "print(calculate_information_gain(simpsons_categorical, 'leeftijd', target))\n",
    "print(calculate_information_gain(simpsons_categorical, 'geslacht', target))"
   ],
   "metadata": {
    "collapsed": false
   }
  },
  {
   "cell_type": "code",
   "execution_count": null,
   "outputs": [],
   "source": [
    "def find_column_with_highest_gain(data: pd.DataFrame, target: pd.Series):\n",
    "    max = 0\n",
    "    result = data.columns[0]\n",
    "    for column in data.columns:\n",
    "        gain = calculate_information_gain(data, column, target)\n",
    "        if gain > max:\n",
    "            max = gain\n",
    "            result = column\n",
    "    return result, max"
   ],
   "metadata": {
    "collapsed": false
   }
  },
  {
   "cell_type": "code",
   "execution_count": null,
   "outputs": [],
   "source": [
    "find_column_with_highest_gain(data, target)"
   ],
   "metadata": {
    "collapsed": false
   }
  },
  {
   "cell_type": "markdown",
   "source": [
    "## Eenvoudige ID3 implementatie"
   ],
   "metadata": {
    "collapsed": false
   }
  },
  {
   "cell_type": "code",
   "execution_count": null,
   "outputs": [],
   "source": [
    "def ID3(data: pd.DataFrame, target: pd.Series, depth=0):\n",
    "    # check for inconsistent data\n",
    "    if depth >= len(data.columns):\n",
    "        print('ERROR: data is not consistent on lines:')\n",
    "        print(data.index.tolist())\n",
    "        return\n",
    "    # determine if recursion can stop (target contains only one value)\n",
    "    uniqueValues = target.unique()\n",
    "    if len(uniqueValues) == 1:\n",
    "        print('-->', uniqueValues[0])\n",
    "        return\n",
    "    column_name, gain = find_column_with_highest_gain(data, target)\n",
    "    # print node-name\n",
    "    print(\"[\", column_name, \"]\")\n",
    "    # loop through all possible values for this column\n",
    "    column = data[column_name]\n",
    "    categories = column.unique()\n",
    "    for category in categories:\n",
    "        # print the value\n",
    "        print('    '*depth, '- ', category, ': ', end='')\n",
    "        # calculate the childtable for this value\n",
    "        child_table = data.loc[column == category]\n",
    "        child_target = target[column == category]\n",
    "        # call ID3 recursively\n",
    "        ID3(child_table, child_target, depth + 1)"
   ],
   "metadata": {
    "collapsed": false
   }
  },
  {
   "cell_type": "code",
   "execution_count": null,
   "outputs": [],
   "source": [
    "ID3(data, target)"
   ],
   "metadata": {
    "collapsed": false
   }
  },
  {
   "cell_type": "markdown",
   "source": [
    "## ID3 library"
   ],
   "metadata": {
    "collapsed": false
   }
  },
  {
   "cell_type": "code",
   "execution_count": null,
   "outputs": [],
   "source": [
    "# data en target MOETEN gewone Python lists zijn, anders werkt het niet.\n",
    "column_names = data.columns.tolist()\n",
    "data = data.to_numpy().tolist()\n",
    "target = target.to_numpy().tolist()"
   ],
   "metadata": {
    "collapsed": false
   }
  },
  {
   "cell_type": "code",
   "execution_count": null,
   "outputs": [],
   "source": [
    "model = id3.Id3Estimator(max_depth=4)\n",
    "model.fit(data, target)"
   ],
   "metadata": {
    "collapsed": false
   }
  },
  {
   "cell_type": "code",
   "execution_count": null,
   "outputs": [],
   "source": [
    "model_tree = id3.export.DotTree()\n",
    "id3.export_graphviz(model.tree_,model_tree,feature_names=column_names)\n",
    "graphviz.Source(model_tree.dot_tree)"
   ],
   "metadata": {
    "collapsed": false
   }
  },
  {
   "cell_type": "markdown",
   "source": [
    "Continue gegevens:"
   ],
   "metadata": {
    "collapsed": false
   }
  },
  {
   "cell_type": "code",
   "execution_count": null,
   "outputs": [],
   "source": [
    "target = simpsons_origineel.geslacht\n",
    "data = simpsons_origineel.drop(columns=['naam', 'geslacht'])\n",
    "column_names = data.columns.tolist()"
   ],
   "metadata": {
    "collapsed": false
   }
  },
  {
   "cell_type": "code",
   "execution_count": null,
   "outputs": [],
   "source": [
    "model = id3.Id3Estimator(max_depth=4)\n",
    "model.fit(data, target)"
   ],
   "metadata": {
    "collapsed": false
   }
  },
  {
   "cell_type": "code",
   "execution_count": null,
   "outputs": [],
   "source": [
    "model_tree = id3.export.DotTree()\n",
    "id3.export_graphviz(model.tree_,model_tree,feature_names=column_names)\n",
    "graphviz.Source(model_tree.dot_tree)"
   ],
   "metadata": {
    "collapsed": false
   }
  },
  {
   "cell_type": "markdown",
   "source": [
    "## Het CART algoritme"
   ],
   "metadata": {
    "collapsed": false
   }
  },
  {
   "cell_type": "code",
   "execution_count": null,
   "outputs": [],
   "source": [
    "target = simpsons_origineel.geslacht\n",
    "data = simpsons_origineel.drop(columns=['naam', 'geslacht'])\n",
    "column_names = data.columns.tolist()"
   ],
   "metadata": {
    "collapsed": false
   }
  },
  {
   "cell_type": "code",
   "execution_count": null,
   "outputs": [],
   "source": [
    "model = tree.DecisionTreeClassifier(criterion='entropy', max_depth=4, random_state=42)\n",
    "model.fit(data, target)"
   ],
   "metadata": {
    "collapsed": false
   }
  },
  {
   "cell_type": "code",
   "execution_count": null,
   "outputs": [],
   "source": [
    "fig, ax = plt.subplots()\n",
    "fig.dpi = 100\n",
    "tree.plot_tree(model, rounded=True, feature_names=column_names, class_names=model.classes_, fontsize=10, ax=ax)\n",
    "# fig.show()"
   ],
   "metadata": {
    "collapsed": false
   }
  },
  {
   "cell_type": "code",
   "execution_count": null,
   "outputs": [],
   "source": [
    "print(tree.export_text(model, feature_names=column_names, show_weights=True, decimals=0))"
   ],
   "metadata": {
    "collapsed": false
   }
  },
  {
   "cell_type": "markdown",
   "source": [
    "### Voorspellingen doen"
   ],
   "metadata": {
    "collapsed": false
   }
  },
  {
   "cell_type": "code",
   "execution_count": null,
   "outputs": [],
   "source": [
    "comics = pd.DataFrame({'haarlengte':[8, 10], 'gewicht':[290, 80], 'leeftijd':[38, 55]})\n",
    "print(comics)"
   ],
   "metadata": {
    "collapsed": false
   }
  },
  {
   "cell_type": "code",
   "execution_count": null,
   "outputs": [],
   "source": [
    "model.predict(comics).tolist()"
   ],
   "metadata": {
    "collapsed": false
   }
  },
  {
   "cell_type": "markdown",
   "source": [
    "## CART met kwalitatieve variabelen"
   ],
   "metadata": {
    "collapsed": false
   }
  },
  {
   "cell_type": "markdown",
   "source": [
    "### Ordinale gegevens"
   ],
   "metadata": {
    "collapsed": false
   }
  },
  {
   "cell_type": "code",
   "execution_count": null,
   "outputs": [],
   "source": [
    "simpsons_categorical = pd.read_csv('simpsons_categorical.csv')\n",
    "simpsons_categorical.haarlengte = pd.Categorical(simpsons_categorical.haarlengte, categories=['<=3', '3-5', '>5'], ordered=True)\n",
    "simpsons_categorical.gewicht = pd.Categorical(simpsons_categorical.gewicht, categories=['<=160', '>160'], ordered=True)\n",
    "simpsons_categorical.leeftijd = pd.Categorical(simpsons_categorical.leeftijd, categories=['<=30', '30-40', '>40'], ordered=True)\n",
    "print(simpsons_categorical.info())"
   ],
   "metadata": {
    "collapsed": false
   }
  },
  {
   "cell_type": "code",
   "execution_count": null,
   "outputs": [],
   "source": [
    "print(simpsons_categorical)"
   ],
   "metadata": {
    "collapsed": false
   }
  },
  {
   "cell_type": "code",
   "execution_count": null,
   "outputs": [],
   "source": [
    "# omzetten naar getallen\n",
    "simpsons_categorical.haarlengte = simpsons_categorical.haarlengte.cat.codes\n",
    "simpsons_categorical.gewicht = simpsons_categorical.gewicht.cat.codes\n",
    "simpsons_categorical.leeftijd = simpsons_categorical.leeftijd.cat.codes\n",
    "print(simpsons_categorical)"
   ],
   "metadata": {
    "collapsed": false
   }
  },
  {
   "cell_type": "code",
   "execution_count": null,
   "outputs": [],
   "source": [
    "target = simpsons_categorical.geslacht\n",
    "data = simpsons_categorical.drop(columns=['naam', 'geslacht'])\n",
    "column_names = data.columns.tolist()"
   ],
   "metadata": {
    "collapsed": false
   }
  },
  {
   "cell_type": "code",
   "execution_count": null,
   "outputs": [],
   "source": [
    "model = tree.DecisionTreeClassifier(criterion='entropy')\n",
    "model.fit(data, target)"
   ],
   "metadata": {
    "collapsed": false
   }
  },
  {
   "cell_type": "code",
   "execution_count": null,
   "outputs": [],
   "source": [
    "fig, ax = plt.subplots()\n",
    "fig.dpi = 100\n",
    "tree.plot_tree(model, rounded=True, feature_names=column_names, class_names=model.classes_, fontsize=10, ax=ax)\n",
    "# fig.show()"
   ],
   "metadata": {
    "collapsed": false
   }
  },
  {
   "cell_type": "markdown",
   "source": [
    "### Nominale gegevens"
   ],
   "metadata": {
    "collapsed": false
   }
  },
  {
   "cell_type": "code",
   "execution_count": null,
   "outputs": [],
   "source": [
    "simpsons_categorical = pd.read_csv('simpsons_categorical.csv')\n",
    "simpsons_categorical.haarlengte = pd.Categorical(simpsons_categorical.haarlengte, categories=['<=3', '3-5', '>5'], ordered=True)\n",
    "simpsons_categorical.gewicht = pd.Categorical(simpsons_categorical.gewicht, categories=['<=160', '>160'], ordered=True)\n",
    "simpsons_categorical.leeftijd = pd.Categorical(simpsons_categorical.leeftijd, categories=['<=30', '30-40', '>40'], ordered=True)\n",
    "print(simpsons_categorical.info())"
   ],
   "metadata": {
    "collapsed": false
   }
  },
  {
   "cell_type": "code",
   "execution_count": null,
   "outputs": [],
   "source": [
    "print(simpsons_categorical)"
   ],
   "metadata": {
    "collapsed": false
   }
  },
  {
   "cell_type": "code",
   "execution_count": null,
   "outputs": [],
   "source": [
    "# one-hot encoding\n",
    "data = pd.get_dummies(simpsons_categorical.drop(columns=['naam', 'geslacht']))\n",
    "data"
   ],
   "metadata": {
    "collapsed": false
   }
  },
  {
   "cell_type": "code",
   "execution_count": null,
   "outputs": [],
   "source": [
    "target = simpsons_origineel.geslacht"
   ],
   "metadata": {
    "collapsed": false
   }
  },
  {
   "cell_type": "code",
   "execution_count": null,
   "outputs": [],
   "source": [
    "model = tree.DecisionTreeClassifier(criterion='entropy')\n",
    "model.fit(data, target)"
   ],
   "metadata": {
    "collapsed": false
   }
  },
  {
   "cell_type": "code",
   "execution_count": null,
   "outputs": [],
   "source": [
    "fig, ax = plt.subplots()\n",
    "fig.dpi = 100\n",
    "tree.plot_tree(model, rounded=True, feature_names=data.columns.tolist(), class_names=model.classes_, fontsize=10, ax=ax)\n",
    "# fig.show()"
   ],
   "metadata": {
    "collapsed": false
   }
  }
 ],
 "metadata": {
  "kernelspec": {
   "display_name": "Python 3",
   "language": "python",
   "name": "python3"
  },
  "language_info": {
   "codemirror_mode": {
    "name": "ipython",
    "version": 2
   },
   "file_extension": ".py",
   "mimetype": "text/x-python",
   "name": "python",
   "nbconvert_exporter": "python",
   "pygments_lexer": "ipython2",
   "version": "2.7.6"
  }
 },
 "nbformat": 4,
 "nbformat_minor": 0
}
