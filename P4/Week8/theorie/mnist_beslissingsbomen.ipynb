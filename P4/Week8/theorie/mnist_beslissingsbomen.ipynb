{
 "cells": [
  {
   "cell_type": "markdown",
   "source": [
    "# Karakterherkenning met beslissingsbomen"
   ],
   "metadata": {
    "collapsed": false
   }
  },
  {
   "cell_type": "code",
   "execution_count": null,
   "metadata": {
    "collapsed": true
   },
   "outputs": [],
   "source": [
    "import pandas as pd\n",
    "from sklearn import tree\n",
    "from matplotlib import pyplot\n",
    "import numpy as np"
   ]
  },
  {
   "cell_type": "markdown",
   "source": [
    "Lees de datasets in (een set van 60000 beeldjes om te trainen en 10000 beeldjes om te testen)"
   ],
   "metadata": {
    "collapsed": false
   }
  },
  {
   "cell_type": "code",
   "execution_count": null,
   "outputs": [],
   "source": [
    "mnist_train = pd.read_csv('mnist_train.csv')\n",
    "mnist_test = pd.read_csv('mnist_test.csv')\n",
    "print(mnist_train.info())\n",
    "print(mnist_train.columns)\n",
    "print(mnist_train.iloc[60:65,150:160]) # een deeltje uit de dataset"
   ],
   "metadata": {
    "collapsed": false
   }
  },
  {
   "cell_type": "markdown",
   "source": [
    "De kolom 'value' bevat de te voorspellen waarde.  Splits de tabellen:"
   ],
   "metadata": {
    "collapsed": false
   }
  },
  {
   "cell_type": "code",
   "execution_count": null,
   "outputs": [],
   "source": [
    "data = mnist_train.drop(columns='value')\n",
    "target = mnist_train['value']\n",
    "\n",
    "data_test = mnist_test.drop(columns='value')\n",
    "data_target = mnist_test['value']"
   ],
   "metadata": {
    "collapsed": false
   }
  },
  {
   "cell_type": "markdown",
   "source": [
    "We kunnen een paar beeldjes laten zien:"
   ],
   "metadata": {
    "collapsed": false
   }
  },
  {
   "cell_type": "code",
   "execution_count": null,
   "outputs": [],
   "source": [
    "for i in range(9):\n",
    "    pyplot.subplot(330 + 1 + i)\n",
    "    pyplot.imshow(np.reshape(data.iloc[i].to_list(), (28,28)), cmap=pyplot.get_cmap('gray'))\n",
    "pyplot.show()"
   ],
   "metadata": {
    "collapsed": false
   }
  },
  {
   "cell_type": "markdown",
   "source": [
    "Nu kunnen we een beslissingsboom maken:"
   ],
   "metadata": {
    "collapsed": false
   }
  },
  {
   "cell_type": "code",
   "execution_count": null,
   "outputs": [],
   "source": [
    "# zet max_depth eens op 10, 19, 30 of speel eens met de random_state\n",
    "model = tree.DecisionTreeClassifier(criterion='entropy', random_state=42, max_depth=10)\n",
    "model.fit(data, target)"
   ],
   "metadata": {
    "collapsed": false
   }
  },
  {
   "cell_type": "markdown",
   "source": [
    "Nu testen we het model met de testset:"
   ],
   "metadata": {
    "collapsed": false
   }
  },
  {
   "cell_type": "code",
   "execution_count": null,
   "outputs": [],
   "source": [
    "p = model.predict(data_test)\n",
    "d = pd.DataFrame({'predicted':p, 'real':data_target})\n",
    "print(d.head(20))"
   ],
   "metadata": {
    "collapsed": false
   }
  },
  {
   "cell_type": "markdown",
   "source": [
    "We berekenen de nauwkeurigheid van de voorspelling door te tellen hoeveel procent van de voorspelde waarden juist was:"
   ],
   "metadata": {
    "collapsed": false
   }
  },
  {
   "cell_type": "code",
   "execution_count": null,
   "outputs": [],
   "source": [
    "accuracy = (d.predicted == d.real).sum() / len(d)\n",
    "print(accuracy)"
   ],
   "metadata": {
    "collapsed": false
   }
  },
  {
   "cell_type": "code",
   "execution_count": null,
   "outputs": [],
   "source": [],
   "metadata": {
    "collapsed": false
   }
  }
 ],
 "metadata": {
  "kernelspec": {
   "display_name": "Python 3",
   "language": "python",
   "name": "python3"
  },
  "language_info": {
   "codemirror_mode": {
    "name": "ipython",
    "version": 2
   },
   "file_extension": ".py",
   "mimetype": "text/x-python",
   "name": "python",
   "nbconvert_exporter": "python",
   "pygments_lexer": "ipython2",
   "version": "2.7.6"
  }
 },
 "nbformat": 4,
 "nbformat_minor": 0
}
