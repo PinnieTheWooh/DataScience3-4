{
 "cells": [
  {
   "cell_type": "markdown",
   "source": [
    "# Image compression met PCA"
   ],
   "metadata": {
    "collapsed": false
   }
  },
  {
   "cell_type": "markdown",
   "source": [
    "In dit bestand wordt getoond hoe je met behulp van PCA een beeld kan comprimeren."
   ],
   "metadata": {
    "collapsed": false
   }
  },
  {
   "cell_type": "code",
   "execution_count": null,
   "metadata": {
    "collapsed": true
   },
   "outputs": [],
   "source": [
    "from PIL import Image\n",
    "import matplotlib.pyplot as plt\n",
    "import numpy as np\n",
    "from sklearn.decomposition import PCA\n",
    "import pandas as pd"
   ]
  },
  {
   "cell_type": "markdown",
   "source": [
    "Lees een beeld:"
   ],
   "metadata": {
    "collapsed": false
   }
  },
  {
   "cell_type": "code",
   "execution_count": null,
   "outputs": [],
   "source": [
    "img = np.array(Image.open('Flower.jpg'))\n",
    "print(img.shape)"
   ],
   "metadata": {
    "collapsed": false
   }
  },
  {
   "cell_type": "markdown",
   "source": [
    "Het beeld heeft een resolutie van 2448 op 3264 en bevat 3 waarden per pixel (red, green, blue)."
   ],
   "metadata": {
    "collapsed": false
   }
  },
  {
   "cell_type": "markdown",
   "source": [
    "Toon het beeld:"
   ],
   "metadata": {
    "collapsed": false
   }
  },
  {
   "cell_type": "code",
   "execution_count": null,
   "outputs": [],
   "source": [
    "fig, ax = plt.subplots()\n",
    "ax.imshow(img)\n",
    "# fig.show()"
   ],
   "metadata": {
    "collapsed": false
   }
  },
  {
   "cell_type": "markdown",
   "source": [
    "Splits beeld op in rood, groen en blauw"
   ],
   "metadata": {
    "collapsed": false
   }
  },
  {
   "cell_type": "code",
   "execution_count": null,
   "outputs": [],
   "source": [
    "red = img[:,:,0]\n",
    "green = img[:,:,1]\n",
    "blue = img[:,:,2]\n",
    "print(red.shape)"
   ],
   "metadata": {
    "collapsed": false
   }
  },
  {
   "cell_type": "markdown",
   "source": [
    "Transformeer iedere kleur naar een 42-dimensionale ruimte (ipv 3264):"
   ],
   "metadata": {
    "collapsed": false
   }
  },
  {
   "cell_type": "code",
   "execution_count": null,
   "outputs": [],
   "source": [
    "pca_dim = 42\n",
    "\n",
    "pca_red_model = PCA(n_components= pca_dim)\n",
    "pca_red = pca_red_model.fit_transform(red)\n",
    "\n",
    "pca_green_model = PCA(n_components= pca_dim)\n",
    "pca_green = pca_green_model.fit_transform(green)\n",
    "\n",
    "pca_blue_model = PCA(n_components= pca_dim)\n",
    "pca_blue = pca_blue_model.fit_transform(blue)\n",
    "\n",
    "print(pca_red.shape)"
   ],
   "metadata": {
    "collapsed": false
   }
  },
  {
   "cell_type": "markdown",
   "source": [
    "Hebben we nu de rijen of de kolommen gecomprimeerd?"
   ],
   "metadata": {
    "collapsed": false
   }
  },
  {
   "cell_type": "markdown",
   "source": [
    "Reconstrueer het beeld aan de hand van de gecomprimeerde versie:"
   ],
   "metadata": {
    "collapsed": false
   }
  },
  {
   "cell_type": "code",
   "execution_count": null,
   "outputs": [],
   "source": [
    "pc_red_inverted = pca_red_model.inverse_transform(pca_red)\n",
    "pc_green_inverted = pca_green_model.inverse_transform(pca_green)\n",
    "pc_blue_inverted = pca_blue_model.inverse_transform(pca_blue)\n",
    "img_compressed = (np.dstack((pc_red_inverted, pc_green_inverted, pc_blue_inverted))).astype(np.uint8)\n",
    "print(img_compressed.shape)"
   ],
   "metadata": {
    "collapsed": false
   }
  },
  {
   "cell_type": "code",
   "execution_count": null,
   "outputs": [],
   "source": [
    "fig, ax = plt.subplots()\n",
    "ax.imshow(img_compressed)\n",
    "# fig.show()"
   ],
   "metadata": {
    "collapsed": false
   }
  },
  {
   "cell_type": "markdown",
   "source": [
    "Hoe goed was de compressie?"
   ],
   "metadata": {
    "collapsed": false
   }
  },
  {
   "cell_type": "code",
   "execution_count": null,
   "outputs": [],
   "source": [
    "print(pca_red_model.explained_variance_ratio_.sum())\n",
    "print(pca_green_model.explained_variance_ratio_.sum())\n",
    "print(pca_blue_model.explained_variance_ratio_.sum())"
   ],
   "metadata": {
    "collapsed": false
   }
  },
  {
   "cell_type": "markdown",
   "source": [
    "Hoe groot is de compression ratio?"
   ],
   "metadata": {
    "collapsed": false
   }
  },
  {
   "cell_type": "markdown",
   "source": [
    "We berekenen hoeveel bytes er nodig waren voor het originele beeld:\n",
    "1 byte per kleur (red, green, blue)\n",
    "dus 3 bytes per pixel"
   ],
   "metadata": {
    "collapsed": false
   }
  },
  {
   "cell_type": "code",
   "execution_count": null,
   "outputs": [],
   "source": [
    "original_size = pd.Series(img.shape).prod()\n",
    "print(original_size)"
   ],
   "metadata": {
    "collapsed": false
   }
  },
  {
   "cell_type": "markdown",
   "source": [
    "Nu berekenen we hoeveel bytes er nodig zijn voor de gecomprimeerde versie.\n",
    "Er zijn nu slechts 42 kolommen, maar we hebben floating point waarden nodig om de waarden te stockeren.\n",
    "We moeten de transformatiematrix ook stockeren.  Deze bevat pca_dim x het aantal oorspronkelijke kolommen floating point waarden."
   ],
   "metadata": {
    "collapsed": false
   }
  },
  {
   "cell_type": "code",
   "execution_count": null,
   "outputs": [],
   "source": [
    "number_of_colours = 3\n",
    "bytes_in_float = 4\n",
    "compressed_size = pd.Series(pca_red.shape).prod() * number_of_colours * bytes_in_float\n",
    "compressed_size = compressed_size + pca_dim * img.shape[1] * bytes_in_float\n",
    "print(compressed_size)"
   ],
   "metadata": {
    "collapsed": false
   }
  },
  {
   "cell_type": "markdown",
   "source": [
    "Hoeveel procent is de gecomprimeerde versie van de originele?"
   ],
   "metadata": {
    "collapsed": false
   }
  },
  {
   "cell_type": "code",
   "execution_count": null,
   "outputs": [],
   "source": [
    "print(compressed_size / original_size)"
   ],
   "metadata": {
    "collapsed": false
   }
  },
  {
   "cell_type": "markdown",
   "source": [
    "Wat is dus de compression ratio?"
   ],
   "metadata": {
    "collapsed": false
   }
  },
  {
   "cell_type": "code",
   "execution_count": null,
   "outputs": [],
   "source": [
    "print(original_size / compressed_size)"
   ],
   "metadata": {
    "collapsed": false
   }
  }
 ],
 "metadata": {
  "kernelspec": {
   "display_name": "Python 3",
   "language": "python",
   "name": "python3"
  },
  "language_info": {
   "codemirror_mode": {
    "name": "ipython",
    "version": 2
   },
   "file_extension": ".py",
   "mimetype": "text/x-python",
   "name": "python",
   "nbconvert_exporter": "python",
   "pygments_lexer": "ipython2",
   "version": "2.7.6"
  }
 },
 "nbformat": 4,
 "nbformat_minor": 0
}
