{
 "cells": [
  {
   "cell_type": "markdown",
   "source": [
    "# Compressie en karakterherkenning met PCA"
   ],
   "metadata": {
    "collapsed": false
   }
  },
  {
   "cell_type": "code",
   "execution_count": null,
   "metadata": {
    "collapsed": true
   },
   "outputs": [],
   "source": [
    "import matplotlib.pyplot as plt\n",
    "import numpy as np\n",
    "from sklearn.decomposition import PCA\n",
    "import pandas as pd\n",
    "from sklearn import tree"
   ]
  },
  {
   "cell_type": "markdown",
   "source": [
    "Lees de datasets in (een set van 60000 beeldjes om te trainen en 10000 beeldjes om te testen)"
   ],
   "metadata": {
    "collapsed": false
   }
  },
  {
   "cell_type": "code",
   "execution_count": null,
   "outputs": [],
   "source": [
    "mnist_train = pd.read_csv('../week8_Beslissingsbomen/mnist_train.csv')\n",
    "mnist_test = pd.read_csv('../week8_Beslissingsbomen/mnist_test.csv')"
   ],
   "metadata": {
    "collapsed": false
   }
  },
  {
   "cell_type": "markdown",
   "source": [
    "De kolom 'value' bevat de te voorspellen waarde.  Splits de tabellen:"
   ],
   "metadata": {
    "collapsed": false
   }
  },
  {
   "cell_type": "code",
   "execution_count": null,
   "outputs": [],
   "source": [
    "data = mnist_train.drop(columns='value')\n",
    "target = mnist_train['value']\n",
    "\n",
    "data_test = mnist_test.drop(columns='value')\n",
    "target_test = mnist_test['value']"
   ],
   "metadata": {
    "collapsed": false
   }
  },
  {
   "cell_type": "markdown",
   "source": [
    "We kunnen een paar beeldjes laten zien:"
   ],
   "metadata": {
    "collapsed": false
   }
  },
  {
   "cell_type": "code",
   "execution_count": null,
   "outputs": [],
   "source": [
    "for i in range(16):\n",
    "    plt.subplot(4, 4, 1 + i)\n",
    "    plt.imshow(np.reshape(data.iloc[i].to_list(), (28,28)), cmap=plt.get_cmap('gray'))\n",
    "plt.show()"
   ],
   "metadata": {
    "collapsed": false
   }
  },
  {
   "cell_type": "markdown",
   "source": [
    "We maken eerst een PCA transformatie-matrix:"
   ],
   "metadata": {
    "collapsed": false
   }
  },
  {
   "cell_type": "code",
   "execution_count": null,
   "outputs": [],
   "source": [
    "model_pca = PCA()\n",
    "model_pca.fit(data)"
   ],
   "metadata": {
    "collapsed": false
   }
  },
  {
   "cell_type": "markdown",
   "source": [
    "Wat is de gecumuleerde verklaarde variantie voor de gevonden principal components?"
   ],
   "metadata": {
    "collapsed": false
   }
  },
  {
   "cell_type": "code",
   "execution_count": null,
   "outputs": [],
   "source": [
    "print(model_pca.explained_variance_ratio_.cumsum().round(3))"
   ],
   "metadata": {
    "collapsed": false
   }
  },
  {
   "cell_type": "markdown",
   "source": [
    "We willen 90% van de data behouden:"
   ],
   "metadata": {
    "collapsed": false
   }
  },
  {
   "cell_type": "code",
   "execution_count": null,
   "outputs": [],
   "source": [
    "model_pca = PCA(n_components=.9)\n",
    "compressed = model_pca.fit_transform(data)\n",
    "print(compressed.shape)"
   ],
   "metadata": {
    "collapsed": false
   }
  },
  {
   "cell_type": "markdown",
   "source": [
    "Hoeveel principal components werden er dus weerhouden?"
   ],
   "metadata": {
    "collapsed": false
   }
  },
  {
   "cell_type": "markdown",
   "source": [
    "Hoe zien die beeldjes er nu uit?"
   ],
   "metadata": {
    "collapsed": false
   }
  },
  {
   "cell_type": "code",
   "execution_count": null,
   "outputs": [],
   "source": [
    "decompressed = pd.DataFrame(model_pca.inverse_transform(compressed))\n",
    "for i in range(16):\n",
    "    plt.subplot(4, 4, 1 + i)\n",
    "    plt.imshow(np.reshape(decompressed.iloc[i].to_list(), (28,28)), cmap=plt.get_cmap('gray'))\n",
    "plt.show()"
   ],
   "metadata": {
    "collapsed": false
   }
  },
  {
   "cell_type": "markdown",
   "source": [
    "Wat kunnen we nu bereiken met een beslissingsboom?"
   ],
   "metadata": {
    "collapsed": false
   }
  },
  {
   "cell_type": "code",
   "execution_count": null,
   "outputs": [],
   "source": [
    "model_tree = tree.DecisionTreeClassifier(random_state=42, criterion=\"entropy\", max_depth=19)\n",
    "model_tree.fit(compressed, target)"
   ],
   "metadata": {
    "collapsed": false
   }
  },
  {
   "cell_type": "markdown",
   "source": [
    "Nu testen we het model met de testset (die moet ook eerst getransformeerd worden):"
   ],
   "metadata": {
    "collapsed": false
   }
  },
  {
   "cell_type": "code",
   "execution_count": null,
   "outputs": [],
   "source": [
    "transformed_test = model_pca.transform(data_test)\n",
    "predicted = model_tree.predict(transformed_test)\n",
    "df = pd.DataFrame({'predicted':predicted, 'real':target_test})\n",
    "print(df.head(20))"
   ],
   "metadata": {
    "collapsed": false
   }
  },
  {
   "cell_type": "markdown",
   "source": [
    "We berekenen de nauwkeurigheid van de voorspelling door te tellen hoeveel procent van de voorspelde waarden juist was:"
   ],
   "metadata": {
    "collapsed": false
   }
  },
  {
   "cell_type": "code",
   "execution_count": null,
   "outputs": [],
   "source": [
    "accuracy = (df.predicted == df.real).sum() / len(df)\n",
    "print(accuracy)"
   ],
   "metadata": {
    "collapsed": false
   }
  },
  {
   "cell_type": "markdown",
   "source": [
    "Is dit beter of slechter dan de vorige versie zonder compressie?  Is dit sneller dan de vorige versie?"
   ],
   "metadata": {
    "collapsed": false
   }
  }
 ],
 "metadata": {
  "kernelspec": {
   "display_name": "Python 3",
   "language": "python",
   "name": "python3"
  },
  "language_info": {
   "codemirror_mode": {
    "name": "ipython",
    "version": 2
   },
   "file_extension": ".py",
   "mimetype": "text/x-python",
   "name": "python",
   "nbconvert_exporter": "python",
   "pygments_lexer": "ipython2",
   "version": "2.7.6"
  }
 },
 "nbformat": 4,
 "nbformat_minor": 0
}
