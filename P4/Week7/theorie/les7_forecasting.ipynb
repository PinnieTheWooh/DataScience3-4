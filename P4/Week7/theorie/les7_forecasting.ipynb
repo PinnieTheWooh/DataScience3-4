{
 "cells": [
  {
   "cell_type": "markdown",
   "source": [
    "# Forecasting"
   ],
   "metadata": {
    "collapsed": false
   }
  },
  {
   "cell_type": "code",
   "execution_count": null,
   "metadata": {
    "collapsed": true
   },
   "outputs": [],
   "source": [
    "import math\n",
    "import numpy as np\n",
    "import pandas as pd\n",
    "import matplotlib.pyplot as plt\n",
    "from statsmodels.tsa.seasonal import seasonal_decompose"
   ]
  },
  {
   "cell_type": "markdown",
   "source": [
    "## Voorbeeld"
   ],
   "metadata": {
    "collapsed": false
   }
  },
  {
   "cell_type": "code",
   "execution_count": null,
   "outputs": [],
   "source": [
    "opbrengsten = [20,100,175,13,37,136,245,26,75,155,326,48,92,202,384,82,176,282,445,181]"
   ],
   "metadata": {
    "collapsed": false
   }
  },
  {
   "cell_type": "code",
   "execution_count": null,
   "outputs": [],
   "source": [
    "fig, ax = plt.subplots()\n",
    "ax.plot(range(20), opbrengsten, 'o-') # wat doet 'o-'?\n",
    "ax.set_xlabel(\"kwartaal\")\n",
    "ax.set_ylabel(\"opbrengst (EUR)\")\n",
    "ax.set_title(\"Opbrengsten voorbije 5 jaar\")\n",
    "# fig.show()"
   ],
   "metadata": {
    "collapsed": false
   }
  },
  {
   "cell_type": "markdown",
   "source": [
    "## Naiëve forecasting"
   ],
   "metadata": {
    "collapsed": false
   }
  },
  {
   "cell_type": "code",
   "execution_count": null,
   "outputs": [],
   "source": [
    "def naive_forecasting(past):\n",
    "  if len(past) < 1:\n",
    "      return math.nan\n",
    "  return past[-1]"
   ],
   "metadata": {
    "collapsed": false
   }
  },
  {
   "cell_type": "code",
   "execution_count": null,
   "outputs": [],
   "source": [
    "naive_forecasting(opbrengsten)"
   ],
   "metadata": {
    "collapsed": false
   }
  },
  {
   "cell_type": "code",
   "execution_count": null,
   "outputs": [],
   "source": [
    "# meerdere voorspellingen\n",
    "verleden = opbrengsten.copy() # zonder copy wijzen verleden en opbrengsten naar hetzelfde object\n",
    "voorspeld = [ ]\n",
    "for i in range(4):\n",
    "  volgende = naive_forecasting(verleden)\n",
    "  voorspeld.append(volgende)\n",
    "  verleden.append(volgende)\n",
    "print(\"voorspelde waarden: \", voorspeld)"
   ],
   "metadata": {
    "collapsed": false
   }
  },
  {
   "cell_type": "code",
   "execution_count": null,
   "outputs": [],
   "source": [
    "# meer generiek:\n",
    "def general_forecast(forecast_function, past, n):\n",
    "    p = past.copy()\n",
    "    result = []\n",
    "    for i in range(n):\n",
    "        next = forecast_function(p)\n",
    "        result.append(next)\n",
    "        p.append(next)\n",
    "    return result"
   ],
   "metadata": {
    "collapsed": false
   }
  },
  {
   "cell_type": "code",
   "execution_count": null,
   "outputs": [],
   "source": [
    "voorspeld = general_forecast(naive_forecasting, opbrengsten, 4)\n",
    "print(opbrengsten)\n",
    "print(voorspeld)"
   ],
   "metadata": {
    "collapsed": false
   }
  },
  {
   "cell_type": "code",
   "execution_count": null,
   "outputs": [],
   "source": [
    "fig, ax = plt.subplots()\n",
    "ax.plot(range(20), opbrengsten, \"o-\", label=\"gegeven\")\n",
    "ax.plot(range(20, 24), voorspeld, \"^-\", label=\"voorspeld\")\n",
    "ax.legend()\n",
    "ax.set_xlabel(\"kwartaal\")\n",
    "ax.set_ylabel(\"opbrengst (EUR)\")\n",
    "ax.set_title(\"Naïeve forecasting\")\n",
    "# fig.show()"
   ],
   "metadata": {
    "collapsed": false
   }
  },
  {
   "cell_type": "markdown",
   "source": [
    "## Gemiddelde van alle waarden"
   ],
   "metadata": {
    "collapsed": false
   }
  },
  {
   "cell_type": "code",
   "execution_count": null,
   "outputs": [],
   "source": [
    "def average_forecasting(past):\n",
    "  if len(past) < 1:\n",
    "      return math.nan\n",
    "  return pd.Series(past).mean()"
   ],
   "metadata": {
    "collapsed": false
   }
  },
  {
   "cell_type": "code",
   "execution_count": null,
   "outputs": [],
   "source": [
    "voorspeld = general_forecast(average_forecasting, opbrengsten, 4)\n",
    "print(voorspeld)"
   ],
   "metadata": {
    "collapsed": false
   }
  },
  {
   "cell_type": "code",
   "source": [
    "fig, ax = plt.subplots()\n",
    "ax.plot(range(20), opbrengsten, \"o-\", label=\"gegeven\")\n",
    "ax.plot(range(20, 24), voorspeld, \"^-\", label=\"voorspeld\")\n",
    "ax.legend()\n",
    "ax.set_xlabel(\"kwartaal\")\n",
    "ax.set_ylabel(\"opbrengst (EUR)\")\n",
    "ax.set_title(\"Gemiddelde forecasting\")\n",
    "# fig.show()"
   ],
   "metadata": {
    "collapsed": false
   },
   "execution_count": null,
   "outputs": []
  },
  {
   "cell_type": "markdown",
   "source": [
    "## Voortschrijdend gemiddelde"
   ],
   "metadata": {
    "collapsed": false
   }
  },
  {
   "cell_type": "code",
   "execution_count": null,
   "outputs": [],
   "source": [
    "def moving_average_forecasting(past, m):\n",
    "    n = len(past)\n",
    "    if n < m:\n",
    "        return math.nan\n",
    "    return pd.Series(past[-m:]).mean()"
   ],
   "metadata": {
    "collapsed": false
   }
  },
  {
   "cell_type": "code",
   "execution_count": null,
   "outputs": [],
   "source": [
    "moving_average_forecasting(verleden, 4)"
   ],
   "metadata": {
    "collapsed": false
   }
  },
  {
   "cell_type": "code",
   "execution_count": null,
   "outputs": [],
   "source": [
    "#voorspeld = general_forecast(moving_average_forecasting, verleden, 4) # werkt niet...  Waarom?\n",
    "#print(voorspeld)"
   ],
   "metadata": {
    "collapsed": false
   }
  },
  {
   "cell_type": "markdown",
   "source": [
    "met extra functie:"
   ],
   "metadata": {
    "collapsed": false
   }
  },
  {
   "cell_type": "code",
   "execution_count": null,
   "outputs": [],
   "source": [
    "def moving_average_forecasting(m):\n",
    "    def result(past):\n",
    "        n = len(past)\n",
    "        if n < m:\n",
    "            return math.nan\n",
    "        return pd.Series(past[-m:]).mean()\n",
    "    return result"
   ],
   "metadata": {
    "collapsed": false
   }
  },
  {
   "cell_type": "code",
   "execution_count": null,
   "outputs": [],
   "source": [
    "forecast = moving_average_forecasting(4)\n",
    "forecast(opbrengsten)"
   ],
   "metadata": {
    "collapsed": false
   }
  },
  {
   "cell_type": "code",
   "execution_count": null,
   "outputs": [],
   "source": [
    "voorspeld = general_forecast(forecast, opbrengsten, 4)\n",
    "print(voorspeld)"
   ],
   "metadata": {
    "collapsed": false
   }
  },
  {
   "cell_type": "code",
   "execution_count": null,
   "outputs": [],
   "source": [
    "fig, ax = plt.subplots()\n",
    "ax.plot(range(20), opbrengsten, \"o-\", label=\"gegeven\")\n",
    "ax.plot(range(20, 24), voorspeld, \"^-\", label=\"voorspeld\")\n",
    "ax.legend()\n",
    "ax.set_xlabel(\"kwartaal\")\n",
    "ax.set_ylabel(\"opbrengst (EUR)\")\n",
    "ax.set_title(\"Voortschrijdende forecasting\")\n",
    "# fig.show()"
   ],
   "metadata": {
    "collapsed": false
   }
  },
  {
   "cell_type": "markdown",
   "source": [
    "## Lineaire combinatie"
   ],
   "metadata": {
    "collapsed": false
   }
  },
  {
   "cell_type": "markdown",
   "source": [
    "eerst gewichten berekenen:"
   ],
   "metadata": {
    "collapsed": false
   }
  },
  {
   "cell_type": "code",
   "execution_count": null,
   "outputs": [],
   "source": [
    "def calculate_weights(past, m):\n",
    "  n = len(past)\n",
    "  if n < 2*m:\n",
    "      return m.nan\n",
    "  v = past[(-2*m):-m]\n",
    "  for i in range(2, m + 1):\n",
    "    v = v + past[(-2*m+i-1):(-m+i-1)]\n",
    "  M = np.array(v).reshape(m, m)\n",
    "  v = past[-m:]\n",
    "  return np.linalg.solve(M, v)"
   ],
   "metadata": {
    "collapsed": false
   }
  },
  {
   "cell_type": "code",
   "execution_count": null,
   "outputs": [],
   "source": [
    "a = calculate_weights(opbrengsten, 4)\n",
    "print(a)"
   ],
   "metadata": {
    "collapsed": false
   }
  },
  {
   "cell_type": "markdown",
   "source": [
    "nu kunnen we voorspellen:"
   ],
   "metadata": {
    "collapsed": false
   }
  },
  {
   "cell_type": "code",
   "execution_count": null,
   "outputs": [],
   "source": [
    "periode = 4\n",
    "n = len(opbrengsten)\n",
    "voorspelling = (opbrengsten[-periode:]*a).sum()\n",
    "print(voorspelling)"
   ],
   "metadata": {
    "collapsed": false
   }
  },
  {
   "cell_type": "code",
   "execution_count": null,
   "outputs": [],
   "source": [
    "# nu met functie\n",
    "def lineair_combination_forecasting(m):\n",
    "  def result(past):\n",
    "    n = len(past)\n",
    "    if n < 2*m:\n",
    "        return math.nan\n",
    "    a = calculate_weights(past, m)\n",
    "    return (past[-m:]*a).sum()\n",
    "  return result"
   ],
   "metadata": {
    "collapsed": false
   }
  },
  {
   "cell_type": "code",
   "execution_count": null,
   "outputs": [],
   "source": [
    "forecast = lineair_combination_forecasting(4)\n",
    "forecast(opbrengsten)"
   ],
   "metadata": {
    "collapsed": false
   }
  },
  {
   "cell_type": "code",
   "execution_count": null,
   "outputs": [],
   "source": [
    "voorspeld = general_forecast(forecast, opbrengsten, 4)\n",
    "print(voorspeld)"
   ],
   "metadata": {
    "collapsed": false
   }
  },
  {
   "cell_type": "code",
   "execution_count": null,
   "outputs": [],
   "source": [
    "fig, ax = plt.subplots()\n",
    "ax.plot(range(20), opbrengsten, \"o-\", label=\"gegeven\")\n",
    "ax.plot(range(20, 24), voorspeld, \"^-\", label=\"voorspeld\")\n",
    "ax.legend()\n",
    "ax.set_xlabel(\"kwartaal\")\n",
    "ax.set_ylabel(\"opbrengst (EUR)\")\n",
    "ax.set_title(\"Lineaire combinatie forecasting\")\n",
    "# fig.show()"
   ],
   "metadata": {
    "collapsed": false
   }
  },
  {
   "cell_type": "markdown",
   "source": [
    "## Betrouwbaarheid"
   ],
   "metadata": {
    "collapsed": false
   }
  },
  {
   "cell_type": "code",
   "execution_count": null,
   "outputs": [],
   "source": [
    "def forecast_past(past, forecast_function):\n",
    "  result = []\n",
    "  n = len(past)\n",
    "  for i in range(n):\n",
    "    result = result + [forecast_function(past[:i])]\n",
    "  return result"
   ],
   "metadata": {
    "collapsed": false
   }
  },
  {
   "cell_type": "code",
   "execution_count": null,
   "outputs": [],
   "source": [
    "voorspeld = forecast_past(opbrengsten, naive_forecasting)\n",
    "print(voorspeld)"
   ],
   "metadata": {
    "collapsed": false
   }
  },
  {
   "cell_type": "code",
   "execution_count": null,
   "outputs": [],
   "source": [
    "fig, ax = plt.subplots()\n",
    "ax.plot(range(20), opbrengsten, \"o-\", label=\"gegeven\")\n",
    "plt.plot(range(20), voorspeld, \"^-\", label=\"voorspeld\")\n",
    "ax.legend()\n",
    "ax.set_xlabel(\"kwartaal\")\n",
    "ax.set_ylabel(\"opbrengst (EUR)\")\n",
    "ax.set_title(\"Naïeve forecasting\")\n",
    "# fig.show()"
   ],
   "metadata": {
    "collapsed": false
   }
  },
  {
   "cell_type": "markdown",
   "source": [
    "MAE, RMSE en MAPE berekenen:"
   ],
   "metadata": {
    "collapsed": false
   }
  },
  {
   "cell_type": "code",
   "execution_count": null,
   "outputs": [],
   "source": [
    "voorspeld = forecast_past(opbrengsten, naive_forecasting)\n",
    "fouten = pd.Series(voorspeld) - opbrengsten # waarom maken we eerst een pd.Series()?\n",
    "MAE = fouten.abs().mean()\n",
    "print(\"MAE=\", MAE)\n",
    "RMSE = math.sqrt((fouten**2).mean())\n",
    "print(\"RMSE=\", RMSE)\n",
    "MAPE = (fouten/opbrengsten).abs().mean()\n",
    "print(\"MAPE=\", MAPE)"
   ],
   "metadata": {
    "collapsed": false
   }
  },
  {
   "cell_type": "markdown",
   "source": [
    "we kunnen weer functies maken:"
   ],
   "metadata": {
    "collapsed": false
   }
  },
  {
   "cell_type": "code",
   "execution_count": null,
   "outputs": [],
   "source": [
    "def mae(past, forecast_function):\n",
    "  forecasted = forecast_past(past, forecast_function)\n",
    "  errors = pd.Series(forecasted) - past\n",
    "  return errors.abs().mean()\n",
    "\n",
    "def rmse(past, forecast_function):\n",
    "  forecasted = forecast_past(past, forecast_function)\n",
    "  errors = pd.Series(forecasted) - past\n",
    "  return math.sqrt((errors**2).mean())\n",
    "\n",
    "def mape(past, forecast_function):\n",
    "  forecasted = forecast_past(past, forecast_function)\n",
    "  errors = pd.Series(forecasted) - past\n",
    "  return (errors / past).abs().mean()"
   ],
   "metadata": {
    "collapsed": false
   }
  },
  {
   "cell_type": "code",
   "execution_count": null,
   "outputs": [],
   "source": [
    "print(\"mae = \", mae(opbrengsten, naive_forecasting))\n",
    "print(\"rmse = \", rmse(opbrengsten, naive_forecasting))\n",
    "print(\"mape = \", mape(opbrengsten, naive_forecasting))"
   ],
   "metadata": {
    "collapsed": false
   }
  },
  {
   "cell_type": "code",
   "execution_count": null,
   "outputs": [],
   "source": [
    "print(\"mae = \", mae(opbrengsten, average_forecasting))\n",
    "print(\"rmse = \", rmse(opbrengsten, average_forecasting))\n",
    "print(\"mape = \", mape(opbrengsten, average_forecasting))"
   ],
   "metadata": {
    "collapsed": false
   }
  },
  {
   "cell_type": "code",
   "execution_count": null,
   "outputs": [],
   "source": [
    "print(\"mae = \", mae(opbrengsten, moving_average_forecasting(4)))\n",
    "print(\"rmse = \", rmse(opbrengsten, moving_average_forecasting(4)))\n",
    "print(\"mape = \", mape(opbrengsten, moving_average_forecasting(4)))"
   ],
   "metadata": {
    "collapsed": false
   }
  },
  {
   "cell_type": "code",
   "execution_count": null,
   "outputs": [],
   "source": [
    "print(\"mae = \", mae(opbrengsten, lineair_combination_forecasting(4)))\n",
    "print(\"rmse = \", rmse(opbrengsten, lineair_combination_forecasting(4)))\n",
    "print(\"mape = \", mape(opbrengsten, lineair_combination_forecasting(4)))"
   ],
   "metadata": {
    "collapsed": false
   }
  },
  {
   "cell_type": "markdown",
   "source": [
    "# Trend forecasting"
   ],
   "metadata": {
    "collapsed": false
   }
  },
  {
   "cell_type": "code",
   "execution_count": null,
   "outputs": [],
   "source": [
    "# functies voor regressie\n",
    "def general_regression(x:pd.Series, y:pd.Series, degree=1, exp=False, log=False):\n",
    "    fun_y = inv_fun_y = lambda x:x\n",
    "    fun_x = lambda x:x\n",
    "    if (exp):\n",
    "        fun_y = np.exp\n",
    "        inv_fun_y = np.log\n",
    "    if (log):\n",
    "        fun_x = np.log\n",
    "    model = np.polyfit(fun_x(x), inv_fun_y(y), degree)\n",
    "    line = np.poly1d(model)\n",
    "    predict = lambda x:fun_y(line(fun_x(x)))\n",
    "    predicted = predict(x)\n",
    "    squared_residuals = (predicted-y)**2\n",
    "    variance_y = (y-y.mean())**2\n",
    "    se = math.sqrt(squared_residuals.mean())\n",
    "    r2 = 1 - (squared_residuals.sum() / variance_y.sum())\n",
    "    result = [se, r2, predict] + [model[-i] for i in range(1, len(model)+1)]\n",
    "    index = [\"se\", \"r2\", \"predict\"] + [chr(i+96) for i in range(1, len(model)+1)]\n",
    "    return pd.Series(result, index=index)\n",
    "\n",
    "def plot_regressionline(ax, reg_result, min, max, linecol=\"red\", plot_error=False, errorcol=\"#FFFF0080\"):\n",
    "    se = reg_result.se\n",
    "    x = np.arange(min, max, (max-min)/100)\n",
    "    y = reg_result.predict(x)\n",
    "    if plot_error:\n",
    "        ax.fill_between(x, y-se, y+se, color=errorcol)\n",
    "    ax.plot(x, y, color=linecol)"
   ],
   "metadata": {
    "collapsed": false
   }
  },
  {
   "cell_type": "code",
   "execution_count": null,
   "outputs": [],
   "source": [
    "reg = general_regression(pd.Series(range(n)), pd.Series(opbrengsten))\n",
    "print(reg)"
   ],
   "metadata": {
    "collapsed": false
   }
  },
  {
   "cell_type": "code",
   "execution_count": null,
   "outputs": [],
   "source": [
    "def trend_forecasting_model(past):\n",
    "  n = len(past)\n",
    "  x = pd.Series(range(n))\n",
    "  y = pd.Series(past)\n",
    "  reg = general_regression(x, y)\n",
    "  return reg.predict"
   ],
   "metadata": {
    "collapsed": false
   }
  },
  {
   "cell_type": "code",
   "execution_count": null,
   "outputs": [],
   "source": [
    "mijnTrend = trend_forecasting_model(opbrengsten)\n",
    "mijnTrend(20)"
   ],
   "metadata": {
    "collapsed": false
   }
  },
  {
   "cell_type": "code",
   "execution_count": null,
   "outputs": [],
   "source": [
    "voorspeld = mijnTrend(range(24))\n",
    "print(voorspeld)"
   ],
   "metadata": {
    "collapsed": false
   }
  },
  {
   "cell_type": "code",
   "execution_count": null,
   "outputs": [],
   "source": [
    "fig, ax = plt.subplots()\n",
    "ax.plot(range(20), opbrengsten, \"o-\", label=\"gegeven\")\n",
    "plt.plot(range(24), voorspeld, \"^-\", label=\"voorspeld\")\n",
    "ax.legend()\n",
    "ax.set_xlabel(\"kwartaal\")\n",
    "ax.set_ylabel(\"opbrengst (EUR)\")\n",
    "ax.set_title(\"Lineaire regressie\")\n",
    "# fig.show()"
   ],
   "metadata": {
    "collapsed": false
   }
  },
  {
   "cell_type": "code",
   "execution_count": null,
   "outputs": [],
   "source": [
    "voorspeld = pd.Series(mijnTrend(range(20)))\n",
    "fouten = voorspeld - opbrengsten\n",
    "MAE = fouten.abs().mean()\n",
    "print(\"MAE=\", MAE)\n",
    "RMSE = math.sqrt((fouten**2).mean())\n",
    "print(\"RMSE=\", RMSE)\n",
    "MAPE = (fouten/opbrengsten).abs().mean()\n",
    "print(\"MAPE=\", MAPE)"
   ],
   "metadata": {
    "collapsed": false
   }
  },
  {
   "cell_type": "code",
   "execution_count": null,
   "outputs": [],
   "source": [
    "# se van de regressie is gelijk aan de RMSE\n",
    "reg = general_regression(pd.Series(range(20)), pd.Series(opbrengsten))\n",
    "print(\"se=\", reg.se)"
   ],
   "metadata": {
    "collapsed": false
   }
  },
  {
   "cell_type": "code",
   "execution_count": null,
   "outputs": [],
   "source": [
    "voorspeld = mijnTrend(range(20, 24))\n",
    "print(voorspeld)"
   ],
   "metadata": {
    "collapsed": false
   }
  },
  {
   "cell_type": "markdown",
   "source": [
    "## Seasonal decomposition"
   ],
   "metadata": {
    "collapsed": false
   }
  },
  {
   "cell_type": "markdown",
   "source": [
    "### Seizoensgrootte bepalen"
   ],
   "metadata": {
    "collapsed": false
   }
  },
  {
   "cell_type": "code",
   "execution_count": null,
   "outputs": [],
   "source": [
    "fig, ax = plt.subplots()\n",
    "pd.plotting.autocorrelation_plot(opbrengsten, ax=ax)\n",
    "ax.set_xlim(0, 20) # dit kan handig zijn als er veel data is\n",
    "ax.set_xlabel(\"offset\")\n",
    "ax.set_ylabel(\"correlatie\")\n",
    "ax.set_title(\"Auto-correlation opbrengsten\")\n",
    "# fig.show()"
   ],
   "metadata": {
    "collapsed": false
   }
  },
  {
   "cell_type": "markdown",
   "source": [
    "### Decompositie"
   ],
   "metadata": {
    "collapsed": false
   }
  },
  {
   "cell_type": "code",
   "execution_count": null,
   "outputs": [],
   "source": [
    "result = seasonal_decompose(opbrengsten, model='multiplicative', period=4)\n",
    "print(result.trend)\n",
    "print(result.seasonal)\n",
    "print(result.resid)"
   ],
   "metadata": {
    "collapsed": false
   }
  },
  {
   "cell_type": "code",
   "execution_count": null,
   "outputs": [],
   "source": [
    "_ = result.plot()"
   ],
   "metadata": {
    "collapsed": false
   }
  },
  {
   "cell_type": "code",
   "execution_count": null,
   "outputs": [],
   "source": [
    "trend = result.trend\n",
    "seizoen = result.seasonal\n",
    "ruis = result.resid"
   ],
   "metadata": {
    "collapsed": false
   }
  },
  {
   "cell_type": "code",
   "execution_count": null,
   "outputs": [],
   "source": [
    "fig, (ax1, ax2, ax3, ax4) = plt.subplots(4,1, figsize=(8,8))\n",
    "ax1.set_title(\"Multiplicatieve decompositie\")\n",
    "ax1.plot(range(20), opbrengsten, \"o-\")\n",
    "ax1.set_ylabel(\"observed\")\n",
    "ax2.plot(range(20), trend, \"o-\")\n",
    "reg = general_regression(pd.Series(range(2,18)), pd.Series(result.trend[2:18]), exp=True)\n",
    "plot_regressionline(ax2, reg, 0, 20)\n",
    "ax2.set_ylabel(\"trend\")\n",
    "ax3.plot(range(20), seizoen*5, \"o-\")\n",
    "ax3.set_ylabel(\"season\")\n",
    "ax4.scatter(range(20), ruis)\n",
    "ax4.set_ylabel(\"residue\")\n",
    "ax4.set_xlabel(\"kwartaal\")\n",
    "# fig.show()"
   ],
   "metadata": {
    "collapsed": false
   }
  },
  {
   "cell_type": "markdown",
   "source": [
    "### Voorspellingen doen"
   ],
   "metadata": {
    "collapsed": false
   }
  },
  {
   "cell_type": "code",
   "execution_count": null,
   "outputs": [],
   "source": [
    "# zoek model voor de trend via regressie\n",
    "# in dit geval geeft exponentiële regressie het beste resultaat\n",
    "reg = general_regression(pd.Series(range(2,18)), pd.Series(result.trend[2:18]), exp=True)\n",
    "print(reg)"
   ],
   "metadata": {
    "collapsed": false
   }
  },
  {
   "cell_type": "code",
   "execution_count": null,
   "outputs": [],
   "source": [
    "voorspeld = reg.predict(range(20, 24))*result.seasonal[0:4]\n",
    "print(voorspeld)"
   ],
   "metadata": {
    "collapsed": false
   }
  },
  {
   "cell_type": "code",
   "execution_count": null,
   "outputs": [],
   "source": [
    "fig, ax = plt.subplots()\n",
    "ax.plot(range(20), opbrengsten, \"o-\", label=\"gegeven\")\n",
    "ax.plot(range(20, 24), voorspeld, \"^-\", label=\"voorspeld\")\n",
    "ax.legend()\n",
    "ax.set_xlabel(\"kwartaal\")\n",
    "ax.set_ylabel(\"opbrengst (EUR)\")\n",
    "ax.set_title(\"Seasonal decomposition forecasting\")\n",
    "# fig.show()"
   ],
   "metadata": {
    "collapsed": false
   }
  },
  {
   "cell_type": "code",
   "execution_count": null,
   "outputs": [],
   "source": [
    "voorspeld = reg.predict(range(20)) * result.seasonal\n",
    "fig, ax = plt.subplots()\n",
    "ax.plot(range(20), opbrengsten, \"o-\", label=\"gegeven\")\n",
    "ax.plot(range(20), voorspeld, \"^-\", label=\"voorspeld\")\n",
    "ax.legend()\n",
    "ax.set_xlabel(\"kwartaal\")\n",
    "ax.set_ylabel(\"opbrengst (EUR)\")\n",
    "ax.set_title(\"Seasonal decomposition forecasting\")\n",
    "# fig.show()"
   ],
   "metadata": {
    "collapsed": false
   }
  },
  {
   "cell_type": "code",
   "execution_count": null,
   "outputs": [],
   "source": [
    "# fouten berekenen\n",
    "voorspeld = pd.Series(reg.predict(range(20))*result.seasonal)\n",
    "fouten = voorspeld - opbrengsten\n",
    "MAE = fouten.abs().mean()\n",
    "print(\"MAE=\", MAE)\n",
    "RMSE = math.sqrt((fouten**2).mean())\n",
    "print(\"RMSE=\", RMSE)\n",
    "MAPE = (fouten/opbrengsten).abs().mean()\n",
    "print(\"MAPE=\", MAPE)"
   ],
   "metadata": {
    "collapsed": false
   }
  },
  {
   "cell_type": "code",
   "execution_count": null,
   "outputs": [],
   "source": [
    "# additief beter???\n",
    "result = seasonal_decompose(opbrengsten, model='additive', period=4)\n",
    "reg = general_regression(pd.Series(range(2,18)), pd.Series(result.trend[2:18]), exp=True)\n",
    "voorspeld = reg.predict(range(20)) + result.seasonal\n",
    "fig, ax = plt.subplots()\n",
    "ax.plot(range(20), opbrengsten, \"o-\", label=\"gegeven\")\n",
    "ax.plot(range(20), voorspeld, \"^-\", label=\"voorspeld\")\n",
    "ax.legend()\n",
    "ax.set_xlabel(\"kwartaal\")\n",
    "ax.set_ylabel(\"opbrengst (EUR)\")\n",
    "ax.set_title(\"Seasonal decomposition forecasting\")\n",
    "# fig.show()\n",
    "voorspeld = pd.Series(reg.predict(range(20)) + result.seasonal)\n",
    "fouten = voorspeld - opbrengsten\n",
    "MAE = fouten.abs().mean()\n",
    "print(\"MAE=\", MAE)\n",
    "RMSE = math.sqrt((fouten**2).mean())\n",
    "print(\"RMSE=\", RMSE)\n",
    "MAPE = (fouten/opbrengsten).abs().mean()\n",
    "print(\"MAPE=\", MAPE)"
   ],
   "metadata": {
    "collapsed": false
   }
  }
 ],
 "metadata": {
  "kernelspec": {
   "display_name": "Python 3",
   "language": "python",
   "name": "python3"
  },
  "language_info": {
   "codemirror_mode": {
    "name": "ipython",
    "version": 2
   },
   "file_extension": ".py",
   "mimetype": "text/x-python",
   "name": "python",
   "nbconvert_exporter": "python",
   "pygments_lexer": "ipython2",
   "version": "2.7.6"
  }
 },
 "nbformat": 4,
 "nbformat_minor": 0
}
